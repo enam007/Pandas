{
  "nbformat": 4,
  "nbformat_minor": 0,
  "metadata": {
    "colab": {
      "name": "time_series_analysis_using_pandas.ipynb",
      "provenance": [],
      "authorship_tag": "ABX9TyPlknbu+GgLoYMNRTBRpw4m",
      "include_colab_link": true
    },
    "kernelspec": {
      "name": "python3",
      "display_name": "Python 3"
    },
    "language_info": {
      "name": "python"
    }
  },
  "cells": [
    {
      "cell_type": "markdown",
      "metadata": {
        "id": "view-in-github",
        "colab_type": "text"
      },
      "source": [
        "<a href=\"https://colab.research.google.com/github/enam007/Pandas/blob/main/time_series_analysis_using_pandas.ipynb\" target=\"_parent\"><img src=\"https://colab.research.google.com/assets/colab-badge.svg\" alt=\"Open In Colab\"/></a>"
      ]
    },
    {
      "cell_type": "markdown",
      "metadata": {
        "id": "RoQHcAgbABHf"
      },
      "source": [
        "### DateTime Index and Resampling"
      ]
    },
    {
      "cell_type": "code",
      "metadata": {
        "id": "Bz4Y8TP3vx6e",
        "colab": {
          "base_uri": "https://localhost:8080/",
          "height": 235
        },
        "outputId": "7da7aa8c-183b-4b3b-bc6c-1f0268bf9ab7"
      },
      "source": [
        "import pandas as pd\n",
        "url ='https://raw.githubusercontent.com/codebasics/py/master/pandas/14_ts_datetimeindex/aapl.csv'\n",
        "df =pd.read_csv(url,parse_dates=['Date'],index_col ='Date')\n",
        "df.head()"
      ],
      "execution_count": null,
      "outputs": [
        {
          "output_type": "execute_result",
          "data": {
            "text/html": [
              "<div>\n",
              "<style scoped>\n",
              "    .dataframe tbody tr th:only-of-type {\n",
              "        vertical-align: middle;\n",
              "    }\n",
              "\n",
              "    .dataframe tbody tr th {\n",
              "        vertical-align: top;\n",
              "    }\n",
              "\n",
              "    .dataframe thead th {\n",
              "        text-align: right;\n",
              "    }\n",
              "</style>\n",
              "<table border=\"1\" class=\"dataframe\">\n",
              "  <thead>\n",
              "    <tr style=\"text-align: right;\">\n",
              "      <th></th>\n",
              "      <th>Open</th>\n",
              "      <th>High</th>\n",
              "      <th>Low</th>\n",
              "      <th>Close</th>\n",
              "      <th>Volume</th>\n",
              "    </tr>\n",
              "    <tr>\n",
              "      <th>Date</th>\n",
              "      <th></th>\n",
              "      <th></th>\n",
              "      <th></th>\n",
              "      <th></th>\n",
              "      <th></th>\n",
              "    </tr>\n",
              "  </thead>\n",
              "  <tbody>\n",
              "    <tr>\n",
              "      <th>2017-07-07</th>\n",
              "      <td>142.90</td>\n",
              "      <td>144.75</td>\n",
              "      <td>142.90</td>\n",
              "      <td>144.18</td>\n",
              "      <td>19201712</td>\n",
              "    </tr>\n",
              "    <tr>\n",
              "      <th>2017-07-06</th>\n",
              "      <td>143.02</td>\n",
              "      <td>143.50</td>\n",
              "      <td>142.41</td>\n",
              "      <td>142.73</td>\n",
              "      <td>24128782</td>\n",
              "    </tr>\n",
              "    <tr>\n",
              "      <th>2017-07-05</th>\n",
              "      <td>143.69</td>\n",
              "      <td>144.79</td>\n",
              "      <td>142.72</td>\n",
              "      <td>144.09</td>\n",
              "      <td>21569557</td>\n",
              "    </tr>\n",
              "    <tr>\n",
              "      <th>2017-07-03</th>\n",
              "      <td>144.88</td>\n",
              "      <td>145.30</td>\n",
              "      <td>143.10</td>\n",
              "      <td>143.50</td>\n",
              "      <td>14277848</td>\n",
              "    </tr>\n",
              "    <tr>\n",
              "      <th>2017-06-30</th>\n",
              "      <td>144.45</td>\n",
              "      <td>144.96</td>\n",
              "      <td>143.78</td>\n",
              "      <td>144.02</td>\n",
              "      <td>23024107</td>\n",
              "    </tr>\n",
              "  </tbody>\n",
              "</table>\n",
              "</div>"
            ],
            "text/plain": [
              "              Open    High     Low   Close    Volume\n",
              "Date                                                \n",
              "2017-07-07  142.90  144.75  142.90  144.18  19201712\n",
              "2017-07-06  143.02  143.50  142.41  142.73  24128782\n",
              "2017-07-05  143.69  144.79  142.72  144.09  21569557\n",
              "2017-07-03  144.88  145.30  143.10  143.50  14277848\n",
              "2017-06-30  144.45  144.96  143.78  144.02  23024107"
            ]
          },
          "metadata": {},
          "execution_count": 4
        }
      ]
    },
    {
      "cell_type": "markdown",
      "metadata": {
        "id": "NFa4YtjM7rzq"
      },
      "source": [
        "Reason for converting the str format of date to datetime type and making it index is that as we know this contains data for 1 whole year and if we want to retrive data for only jan or any other month we can do it very easly as follows  "
      ]
    },
    {
      "cell_type": "code",
      "metadata": {
        "colab": {
          "base_uri": "https://localhost:8080/",
          "height": 700
        },
        "id": "WuG78Yg37G5n",
        "outputId": "cc088a9e-74f7-45f5-db1a-cf815a9a32d0"
      },
      "source": [
        "df[\"2017-01\"]"
      ],
      "execution_count": null,
      "outputs": [
        {
          "output_type": "execute_result",
          "data": {
            "text/html": [
              "<div>\n",
              "<style scoped>\n",
              "    .dataframe tbody tr th:only-of-type {\n",
              "        vertical-align: middle;\n",
              "    }\n",
              "\n",
              "    .dataframe tbody tr th {\n",
              "        vertical-align: top;\n",
              "    }\n",
              "\n",
              "    .dataframe thead th {\n",
              "        text-align: right;\n",
              "    }\n",
              "</style>\n",
              "<table border=\"1\" class=\"dataframe\">\n",
              "  <thead>\n",
              "    <tr style=\"text-align: right;\">\n",
              "      <th></th>\n",
              "      <th>Open</th>\n",
              "      <th>High</th>\n",
              "      <th>Low</th>\n",
              "      <th>Close</th>\n",
              "      <th>Volume</th>\n",
              "    </tr>\n",
              "    <tr>\n",
              "      <th>Date</th>\n",
              "      <th></th>\n",
              "      <th></th>\n",
              "      <th></th>\n",
              "      <th></th>\n",
              "      <th></th>\n",
              "    </tr>\n",
              "  </thead>\n",
              "  <tbody>\n",
              "    <tr>\n",
              "      <th>2017-01-31</th>\n",
              "      <td>121.15</td>\n",
              "      <td>121.39</td>\n",
              "      <td>120.62</td>\n",
              "      <td>121.35</td>\n",
              "      <td>49200993</td>\n",
              "    </tr>\n",
              "    <tr>\n",
              "      <th>2017-01-30</th>\n",
              "      <td>120.93</td>\n",
              "      <td>121.63</td>\n",
              "      <td>120.66</td>\n",
              "      <td>121.63</td>\n",
              "      <td>30377503</td>\n",
              "    </tr>\n",
              "    <tr>\n",
              "      <th>2017-01-27</th>\n",
              "      <td>122.14</td>\n",
              "      <td>122.35</td>\n",
              "      <td>121.60</td>\n",
              "      <td>121.95</td>\n",
              "      <td>20562944</td>\n",
              "    </tr>\n",
              "    <tr>\n",
              "      <th>2017-01-26</th>\n",
              "      <td>121.67</td>\n",
              "      <td>122.44</td>\n",
              "      <td>121.60</td>\n",
              "      <td>121.94</td>\n",
              "      <td>26337576</td>\n",
              "    </tr>\n",
              "    <tr>\n",
              "      <th>2017-01-25</th>\n",
              "      <td>120.42</td>\n",
              "      <td>122.10</td>\n",
              "      <td>120.28</td>\n",
              "      <td>121.88</td>\n",
              "      <td>32586673</td>\n",
              "    </tr>\n",
              "    <tr>\n",
              "      <th>2017-01-24</th>\n",
              "      <td>119.55</td>\n",
              "      <td>120.10</td>\n",
              "      <td>119.50</td>\n",
              "      <td>119.97</td>\n",
              "      <td>23211038</td>\n",
              "    </tr>\n",
              "    <tr>\n",
              "      <th>2017-01-23</th>\n",
              "      <td>120.00</td>\n",
              "      <td>120.81</td>\n",
              "      <td>119.77</td>\n",
              "      <td>120.08</td>\n",
              "      <td>22050218</td>\n",
              "    </tr>\n",
              "    <tr>\n",
              "      <th>2017-01-20</th>\n",
              "      <td>120.45</td>\n",
              "      <td>120.45</td>\n",
              "      <td>119.73</td>\n",
              "      <td>120.00</td>\n",
              "      <td>32597892</td>\n",
              "    </tr>\n",
              "    <tr>\n",
              "      <th>2017-01-19</th>\n",
              "      <td>119.40</td>\n",
              "      <td>120.09</td>\n",
              "      <td>119.37</td>\n",
              "      <td>119.78</td>\n",
              "      <td>25597291</td>\n",
              "    </tr>\n",
              "    <tr>\n",
              "      <th>2017-01-18</th>\n",
              "      <td>120.00</td>\n",
              "      <td>120.50</td>\n",
              "      <td>119.71</td>\n",
              "      <td>119.99</td>\n",
              "      <td>23712961</td>\n",
              "    </tr>\n",
              "    <tr>\n",
              "      <th>2017-01-17</th>\n",
              "      <td>118.34</td>\n",
              "      <td>120.24</td>\n",
              "      <td>118.22</td>\n",
              "      <td>120.00</td>\n",
              "      <td>34439843</td>\n",
              "    </tr>\n",
              "    <tr>\n",
              "      <th>2017-01-13</th>\n",
              "      <td>119.11</td>\n",
              "      <td>119.62</td>\n",
              "      <td>118.81</td>\n",
              "      <td>119.04</td>\n",
              "      <td>26111948</td>\n",
              "    </tr>\n",
              "    <tr>\n",
              "      <th>2017-01-12</th>\n",
              "      <td>118.90</td>\n",
              "      <td>119.30</td>\n",
              "      <td>118.21</td>\n",
              "      <td>119.25</td>\n",
              "      <td>27086220</td>\n",
              "    </tr>\n",
              "    <tr>\n",
              "      <th>2017-01-11</th>\n",
              "      <td>118.74</td>\n",
              "      <td>119.93</td>\n",
              "      <td>118.60</td>\n",
              "      <td>119.75</td>\n",
              "      <td>27588593</td>\n",
              "    </tr>\n",
              "    <tr>\n",
              "      <th>2017-01-10</th>\n",
              "      <td>118.77</td>\n",
              "      <td>119.38</td>\n",
              "      <td>118.30</td>\n",
              "      <td>119.11</td>\n",
              "      <td>24462051</td>\n",
              "    </tr>\n",
              "    <tr>\n",
              "      <th>2017-01-09</th>\n",
              "      <td>117.95</td>\n",
              "      <td>119.43</td>\n",
              "      <td>117.94</td>\n",
              "      <td>118.99</td>\n",
              "      <td>33561948</td>\n",
              "    </tr>\n",
              "    <tr>\n",
              "      <th>2017-01-06</th>\n",
              "      <td>116.78</td>\n",
              "      <td>118.16</td>\n",
              "      <td>116.47</td>\n",
              "      <td>117.91</td>\n",
              "      <td>31751900</td>\n",
              "    </tr>\n",
              "    <tr>\n",
              "      <th>2017-01-05</th>\n",
              "      <td>115.92</td>\n",
              "      <td>116.86</td>\n",
              "      <td>115.81</td>\n",
              "      <td>116.61</td>\n",
              "      <td>22193587</td>\n",
              "    </tr>\n",
              "    <tr>\n",
              "      <th>2017-01-04</th>\n",
              "      <td>115.85</td>\n",
              "      <td>116.51</td>\n",
              "      <td>115.75</td>\n",
              "      <td>116.02</td>\n",
              "      <td>21118116</td>\n",
              "    </tr>\n",
              "    <tr>\n",
              "      <th>2017-01-03</th>\n",
              "      <td>115.80</td>\n",
              "      <td>116.33</td>\n",
              "      <td>114.76</td>\n",
              "      <td>116.15</td>\n",
              "      <td>28781865</td>\n",
              "    </tr>\n",
              "  </tbody>\n",
              "</table>\n",
              "</div>"
            ],
            "text/plain": [
              "              Open    High     Low   Close    Volume\n",
              "Date                                                \n",
              "2017-01-31  121.15  121.39  120.62  121.35  49200993\n",
              "2017-01-30  120.93  121.63  120.66  121.63  30377503\n",
              "2017-01-27  122.14  122.35  121.60  121.95  20562944\n",
              "2017-01-26  121.67  122.44  121.60  121.94  26337576\n",
              "2017-01-25  120.42  122.10  120.28  121.88  32586673\n",
              "2017-01-24  119.55  120.10  119.50  119.97  23211038\n",
              "2017-01-23  120.00  120.81  119.77  120.08  22050218\n",
              "2017-01-20  120.45  120.45  119.73  120.00  32597892\n",
              "2017-01-19  119.40  120.09  119.37  119.78  25597291\n",
              "2017-01-18  120.00  120.50  119.71  119.99  23712961\n",
              "2017-01-17  118.34  120.24  118.22  120.00  34439843\n",
              "2017-01-13  119.11  119.62  118.81  119.04  26111948\n",
              "2017-01-12  118.90  119.30  118.21  119.25  27086220\n",
              "2017-01-11  118.74  119.93  118.60  119.75  27588593\n",
              "2017-01-10  118.77  119.38  118.30  119.11  24462051\n",
              "2017-01-09  117.95  119.43  117.94  118.99  33561948\n",
              "2017-01-06  116.78  118.16  116.47  117.91  31751900\n",
              "2017-01-05  115.92  116.86  115.81  116.61  22193587\n",
              "2017-01-04  115.85  116.51  115.75  116.02  21118116\n",
              "2017-01-03  115.80  116.33  114.76  116.15  28781865"
            ]
          },
          "metadata": {},
          "execution_count": 6
        }
      ]
    },
    {
      "cell_type": "markdown",
      "metadata": {
        "id": "I0IGlmBs8atK"
      },
      "source": [
        "Find avg price of apples stock in the month of january"
      ]
    },
    {
      "cell_type": "code",
      "metadata": {
        "colab": {
          "base_uri": "https://localhost:8080/"
        },
        "id": "jZCO1qOG8RYM",
        "outputId": "b84703e2-de92-403b-e54b-27a34a1a920b"
      },
      "source": [
        "df['2017-01'].Close.mean()"
      ],
      "execution_count": null,
      "outputs": [
        {
          "output_type": "execute_result",
          "data": {
            "text/plain": [
              "119.57000000000001"
            ]
          },
          "metadata": {},
          "execution_count": 8
        }
      ]
    },
    {
      "cell_type": "markdown",
      "metadata": {
        "id": "0brC0RjR8-7Z"
      },
      "source": [
        "get data for any specific date"
      ]
    },
    {
      "cell_type": "code",
      "metadata": {
        "colab": {
          "base_uri": "https://localhost:8080/",
          "height": 111
        },
        "id": "FkhRsmIU8pPu",
        "outputId": "a6901edf-46c3-4069-85a1-d78ec8dee13f"
      },
      "source": [
        "df['2017-01-06']"
      ],
      "execution_count": null,
      "outputs": [
        {
          "output_type": "execute_result",
          "data": {
            "text/html": [
              "<div>\n",
              "<style scoped>\n",
              "    .dataframe tbody tr th:only-of-type {\n",
              "        vertical-align: middle;\n",
              "    }\n",
              "\n",
              "    .dataframe tbody tr th {\n",
              "        vertical-align: top;\n",
              "    }\n",
              "\n",
              "    .dataframe thead th {\n",
              "        text-align: right;\n",
              "    }\n",
              "</style>\n",
              "<table border=\"1\" class=\"dataframe\">\n",
              "  <thead>\n",
              "    <tr style=\"text-align: right;\">\n",
              "      <th></th>\n",
              "      <th>Open</th>\n",
              "      <th>High</th>\n",
              "      <th>Low</th>\n",
              "      <th>Close</th>\n",
              "      <th>Volume</th>\n",
              "    </tr>\n",
              "    <tr>\n",
              "      <th>Date</th>\n",
              "      <th></th>\n",
              "      <th></th>\n",
              "      <th></th>\n",
              "      <th></th>\n",
              "      <th></th>\n",
              "    </tr>\n",
              "  </thead>\n",
              "  <tbody>\n",
              "    <tr>\n",
              "      <th>2017-01-06</th>\n",
              "      <td>116.78</td>\n",
              "      <td>118.16</td>\n",
              "      <td>116.47</td>\n",
              "      <td>117.91</td>\n",
              "      <td>31751900</td>\n",
              "    </tr>\n",
              "  </tbody>\n",
              "</table>\n",
              "</div>"
            ],
            "text/plain": [
              "              Open    High     Low   Close    Volume\n",
              "Date                                                \n",
              "2017-01-06  116.78  118.16  116.47  117.91  31751900"
            ]
          },
          "metadata": {},
          "execution_count": 10
        }
      ]
    },
    {
      "cell_type": "markdown",
      "metadata": {
        "id": "cVMEJiDP9I8s"
      },
      "source": [
        "Get data for 1 week"
      ]
    },
    {
      "cell_type": "code",
      "metadata": {
        "colab": {
          "base_uri": "https://localhost:8080/",
          "height": 204
        },
        "id": "_WdPt1X39EOI",
        "outputId": "b88aea0b-51aa-49d0-d292-a20addc62e19"
      },
      "source": [
        "df['2017-01-07':'2017-01-01']"
      ],
      "execution_count": null,
      "outputs": [
        {
          "output_type": "execute_result",
          "data": {
            "text/html": [
              "<div>\n",
              "<style scoped>\n",
              "    .dataframe tbody tr th:only-of-type {\n",
              "        vertical-align: middle;\n",
              "    }\n",
              "\n",
              "    .dataframe tbody tr th {\n",
              "        vertical-align: top;\n",
              "    }\n",
              "\n",
              "    .dataframe thead th {\n",
              "        text-align: right;\n",
              "    }\n",
              "</style>\n",
              "<table border=\"1\" class=\"dataframe\">\n",
              "  <thead>\n",
              "    <tr style=\"text-align: right;\">\n",
              "      <th></th>\n",
              "      <th>Open</th>\n",
              "      <th>High</th>\n",
              "      <th>Low</th>\n",
              "      <th>Close</th>\n",
              "      <th>Volume</th>\n",
              "    </tr>\n",
              "    <tr>\n",
              "      <th>Date</th>\n",
              "      <th></th>\n",
              "      <th></th>\n",
              "      <th></th>\n",
              "      <th></th>\n",
              "      <th></th>\n",
              "    </tr>\n",
              "  </thead>\n",
              "  <tbody>\n",
              "    <tr>\n",
              "      <th>2017-01-06</th>\n",
              "      <td>116.78</td>\n",
              "      <td>118.16</td>\n",
              "      <td>116.47</td>\n",
              "      <td>117.91</td>\n",
              "      <td>31751900</td>\n",
              "    </tr>\n",
              "    <tr>\n",
              "      <th>2017-01-05</th>\n",
              "      <td>115.92</td>\n",
              "      <td>116.86</td>\n",
              "      <td>115.81</td>\n",
              "      <td>116.61</td>\n",
              "      <td>22193587</td>\n",
              "    </tr>\n",
              "    <tr>\n",
              "      <th>2017-01-04</th>\n",
              "      <td>115.85</td>\n",
              "      <td>116.51</td>\n",
              "      <td>115.75</td>\n",
              "      <td>116.02</td>\n",
              "      <td>21118116</td>\n",
              "    </tr>\n",
              "    <tr>\n",
              "      <th>2017-01-03</th>\n",
              "      <td>115.80</td>\n",
              "      <td>116.33</td>\n",
              "      <td>114.76</td>\n",
              "      <td>116.15</td>\n",
              "      <td>28781865</td>\n",
              "    </tr>\n",
              "  </tbody>\n",
              "</table>\n",
              "</div>"
            ],
            "text/plain": [
              "              Open    High     Low   Close    Volume\n",
              "Date                                                \n",
              "2017-01-06  116.78  118.16  116.47  117.91  31751900\n",
              "2017-01-05  115.92  116.86  115.81  116.61  22193587\n",
              "2017-01-04  115.85  116.51  115.75  116.02  21118116\n",
              "2017-01-03  115.80  116.33  114.76  116.15  28781865"
            ]
          },
          "metadata": {},
          "execution_count": 12
        }
      ]
    },
    {
      "cell_type": "markdown",
      "metadata": {
        "id": "fSynuBAP-KQk"
      },
      "source": [
        "What if we want to get the average price for all the months"
      ]
    },
    {
      "cell_type": "code",
      "metadata": {
        "colab": {
          "base_uri": "https://localhost:8080/"
        },
        "id": "18zs75TO9WR7",
        "outputId": "41b32317-75fe-4028-fe9c-e6074ec82549"
      },
      "source": [
        "df.Close.resample('M').mean()"
      ],
      "execution_count": null,
      "outputs": [
        {
          "output_type": "execute_result",
          "data": {
            "text/plain": [
              "Date\n",
              "2016-07-31     99.473333\n",
              "2016-08-31    107.665217\n",
              "2016-09-30    110.857143\n",
              "2016-10-31    115.707143\n",
              "2016-11-30    110.154286\n",
              "2016-12-31    114.335714\n",
              "2017-01-31    119.570000\n",
              "2017-02-28    133.713684\n",
              "2017-03-31    140.617826\n",
              "2017-04-30    142.886842\n",
              "2017-05-31    152.227727\n",
              "2017-06-30    147.831364\n",
              "2017-07-31    143.625000\n",
              "Freq: M, Name: Close, dtype: float64"
            ]
          },
          "metadata": {},
          "execution_count": 14
        }
      ]
    },
    {
      "cell_type": "markdown",
      "metadata": {
        "id": "drE9D_Zs-Yi5"
      },
      "source": [
        "We can also plot the same"
      ]
    },
    {
      "cell_type": "code",
      "metadata": {
        "colab": {
          "base_uri": "https://localhost:8080/",
          "height": 308
        },
        "id": "Xi8s2iqB-Tz1",
        "outputId": "8f5ca343-d4d4-48e6-a88a-fa74d04071f0"
      },
      "source": [
        "df.Close.resample('M').mean().plot()"
      ],
      "execution_count": null,
      "outputs": [
        {
          "output_type": "execute_result",
          "data": {
            "text/plain": [
              "<matplotlib.axes._subplots.AxesSubplot at 0x7f8ac68279d0>"
            ]
          },
          "metadata": {},
          "execution_count": 15
        },
        {
          "output_type": "display_data",
          "data": {
            "image/png": "[encoded data removed]",
            "text/plain": [
              "<Figure size 432x288 with 1 Axes>"
            ]
          },
          "metadata": {
            "needs_background": "light"
          }
        }
      ]
    },
    {
      "cell_type": "markdown",
      "metadata": {
        "id": "0WXkZddy-5M5"
      },
      "source": [
        "We can also sample weekly "
      ]
    },
    {
      "cell_type": "code",
      "metadata": {
        "colab": {
          "base_uri": "https://localhost:8080/",
          "height": 308
        },
        "id": "J3G2fERd-h-v",
        "outputId": "5223b20e-162a-470b-f3ee-23f1efe4e457"
      },
      "source": [
        "df.Close.resample('W').mean().plot()"
      ],
      "execution_count": null,
      "outputs": [
        {
          "output_type": "execute_result",
          "data": {
            "text/plain": [
              "<matplotlib.axes._subplots.AxesSubplot at 0x7f8ac1de8fd0>"
            ]
          },
          "metadata": {},
          "execution_count": 16
        },
        {
          "output_type": "display_data",
          "data": {
            "image/png": "[encoded data removed]",
            "text/plain": [
              "<Figure size 432x288 with 1 Axes>"
            ]
          },
          "metadata": {
            "needs_background": "light"
          }
        }
      ]
    },
    {
      "cell_type": "markdown",
      "metadata": {
        "id": "YB5YCr4VAGjY"
      },
      "source": [
        "### Date Range"
      ]
    },
    {
      "cell_type": "markdown",
      "metadata": {
        "id": "gya3ZYJUCZjE"
      },
      "source": [
        "Lets say we have data for june months and date is not available in data so how to set date knowing that the stock market is closed on weekends"
      ]
    },
    {
      "cell_type": "code",
      "metadata": {
        "colab": {
          "base_uri": "https://localhost:8080/",
          "height": 204
        },
        "id": "Lr2mgr_0_Ay8",
        "outputId": "ea734ba6-36a5-404a-831f-7ec707e8296c"
      },
      "source": [
        "url ='https://raw.githubusercontent.com/codebasics/py/master/pandas/15_ts_date_range/aapl_no_dates.csv'\n",
        "df = pd.read_csv(url)\n",
        "df.head()"
      ],
      "execution_count": null,
      "outputs": [
        {
          "output_type": "execute_result",
          "data": {
            "text/html": [
              "<div>\n",
              "<style scoped>\n",
              "    .dataframe tbody tr th:only-of-type {\n",
              "        vertical-align: middle;\n",
              "    }\n",
              "\n",
              "    .dataframe tbody tr th {\n",
              "        vertical-align: top;\n",
              "    }\n",
              "\n",
              "    .dataframe thead th {\n",
              "        text-align: right;\n",
              "    }\n",
              "</style>\n",
              "<table border=\"1\" class=\"dataframe\">\n",
              "  <thead>\n",
              "    <tr style=\"text-align: right;\">\n",
              "      <th></th>\n",
              "      <th>Open</th>\n",
              "      <th>High</th>\n",
              "      <th>Low</th>\n",
              "      <th>Close</th>\n",
              "      <th>Volume</th>\n",
              "    </tr>\n",
              "  </thead>\n",
              "  <tbody>\n",
              "    <tr>\n",
              "      <th>0</th>\n",
              "      <td>153.17</td>\n",
              "      <td>153.33</td>\n",
              "      <td>152.22</td>\n",
              "      <td>153.18</td>\n",
              "      <td>16404088</td>\n",
              "    </tr>\n",
              "    <tr>\n",
              "      <th>1</th>\n",
              "      <td>153.58</td>\n",
              "      <td>155.45</td>\n",
              "      <td>152.89</td>\n",
              "      <td>155.45</td>\n",
              "      <td>27770715</td>\n",
              "    </tr>\n",
              "    <tr>\n",
              "      <th>2</th>\n",
              "      <td>154.34</td>\n",
              "      <td>154.45</td>\n",
              "      <td>153.46</td>\n",
              "      <td>153.93</td>\n",
              "      <td>25331662</td>\n",
              "    </tr>\n",
              "    <tr>\n",
              "      <th>3</th>\n",
              "      <td>153.90</td>\n",
              "      <td>155.81</td>\n",
              "      <td>153.78</td>\n",
              "      <td>154.45</td>\n",
              "      <td>26624926</td>\n",
              "    </tr>\n",
              "    <tr>\n",
              "      <th>4</th>\n",
              "      <td>155.02</td>\n",
              "      <td>155.98</td>\n",
              "      <td>154.48</td>\n",
              "      <td>155.37</td>\n",
              "      <td>21069647</td>\n",
              "    </tr>\n",
              "  </tbody>\n",
              "</table>\n",
              "</div>"
            ],
            "text/plain": [
              "     Open    High     Low   Close    Volume\n",
              "0  153.17  153.33  152.22  153.18  16404088\n",
              "1  153.58  155.45  152.89  155.45  27770715\n",
              "2  154.34  154.45  153.46  153.93  25331662\n",
              "3  153.90  155.81  153.78  154.45  26624926\n",
              "4  155.02  155.98  154.48  155.37  21069647"
            ]
          },
          "metadata": {},
          "execution_count": 17
        }
      ]
    },
    {
      "cell_type": "markdown",
      "metadata": {
        "id": "6Qx2jdTiC54n"
      },
      "source": [
        "To insert date we have a date range function\n"
      ]
    },
    {
      "cell_type": "code",
      "metadata": {
        "colab": {
          "base_uri": "https://localhost:8080/",
          "height": 731
        },
        "id": "BNV3hjp-C3Yq",
        "outputId": "560372d6-fbba-4208-83f9-093ca8ccd667"
      },
      "source": [
        "rng = pd.date_range(start='6/1/2017',end='6/30/2017',freq='B')   # format MM/DD/YYYY    'B' for only business Days\n",
        "df.set_index(rng,inplace=True)\n",
        "df"
      ],
      "execution_count": null,
      "outputs": [
        {
          "output_type": "execute_result",
          "data": {
            "text/html": [
              "<div>\n",
              "<style scoped>\n",
              "    .dataframe tbody tr th:only-of-type {\n",
              "        vertical-align: middle;\n",
              "    }\n",
              "\n",
              "    .dataframe tbody tr th {\n",
              "        vertical-align: top;\n",
              "    }\n",
              "\n",
              "    .dataframe thead th {\n",
              "        text-align: right;\n",
              "    }\n",
              "</style>\n",
              "<table border=\"1\" class=\"dataframe\">\n",
              "  <thead>\n",
              "    <tr style=\"text-align: right;\">\n",
              "      <th></th>\n",
              "      <th>Open</th>\n",
              "      <th>High</th>\n",
              "      <th>Low</th>\n",
              "      <th>Close</th>\n",
              "      <th>Volume</th>\n",
              "    </tr>\n",
              "  </thead>\n",
              "  <tbody>\n",
              "    <tr>\n",
              "      <th>2017-06-01</th>\n",
              "      <td>153.17</td>\n",
              "      <td>153.33</td>\n",
              "      <td>152.22</td>\n",
              "      <td>153.18</td>\n",
              "      <td>16404088</td>\n",
              "    </tr>\n",
              "    <tr>\n",
              "      <th>2017-06-02</th>\n",
              "      <td>153.58</td>\n",
              "      <td>155.45</td>\n",
              "      <td>152.89</td>\n",
              "      <td>155.45</td>\n",
              "      <td>27770715</td>\n",
              "    </tr>\n",
              "    <tr>\n",
              "      <th>2017-06-05</th>\n",
              "      <td>154.34</td>\n",
              "      <td>154.45</td>\n",
              "      <td>153.46</td>\n",
              "      <td>153.93</td>\n",
              "      <td>25331662</td>\n",
              "    </tr>\n",
              "    <tr>\n",
              "      <th>2017-06-06</th>\n",
              "      <td>153.90</td>\n",
              "      <td>155.81</td>\n",
              "      <td>153.78</td>\n",
              "      <td>154.45</td>\n",
              "      <td>26624926</td>\n",
              "    </tr>\n",
              "    <tr>\n",
              "      <th>2017-06-07</th>\n",
              "      <td>155.02</td>\n",
              "      <td>155.98</td>\n",
              "      <td>154.48</td>\n",
              "      <td>155.37</td>\n",
              "      <td>21069647</td>\n",
              "    </tr>\n",
              "    <tr>\n",
              "      <th>2017-06-08</th>\n",
              "      <td>155.25</td>\n",
              "      <td>155.54</td>\n",
              "      <td>154.40</td>\n",
              "      <td>154.99</td>\n",
              "      <td>21250798</td>\n",
              "    </tr>\n",
              "    <tr>\n",
              "      <th>2017-06-09</th>\n",
              "      <td>155.19</td>\n",
              "      <td>155.19</td>\n",
              "      <td>146.02</td>\n",
              "      <td>148.98</td>\n",
              "      <td>64882657</td>\n",
              "    </tr>\n",
              "    <tr>\n",
              "      <th>2017-06-12</th>\n",
              "      <td>145.74</td>\n",
              "      <td>146.09</td>\n",
              "      <td>142.51</td>\n",
              "      <td>145.42</td>\n",
              "      <td>72307330</td>\n",
              "    </tr>\n",
              "    <tr>\n",
              "      <th>2017-06-13</th>\n",
              "      <td>147.16</td>\n",
              "      <td>147.45</td>\n",
              "      <td>145.15</td>\n",
              "      <td>146.59</td>\n",
              "      <td>34165445</td>\n",
              "    </tr>\n",
              "    <tr>\n",
              "      <th>2017-06-14</th>\n",
              "      <td>147.50</td>\n",
              "      <td>147.50</td>\n",
              "      <td>143.84</td>\n",
              "      <td>145.16</td>\n",
              "      <td>31531232</td>\n",
              "    </tr>\n",
              "    <tr>\n",
              "      <th>2017-06-15</th>\n",
              "      <td>143.32</td>\n",
              "      <td>144.48</td>\n",
              "      <td>142.21</td>\n",
              "      <td>144.29</td>\n",
              "      <td>32165373</td>\n",
              "    </tr>\n",
              "    <tr>\n",
              "      <th>2017-06-16</th>\n",
              "      <td>143.78</td>\n",
              "      <td>144.50</td>\n",
              "      <td>142.20</td>\n",
              "      <td>142.27</td>\n",
              "      <td>50361093</td>\n",
              "    </tr>\n",
              "    <tr>\n",
              "      <th>2017-06-19</th>\n",
              "      <td>143.66</td>\n",
              "      <td>146.74</td>\n",
              "      <td>143.66</td>\n",
              "      <td>146.34</td>\n",
              "      <td>32541404</td>\n",
              "    </tr>\n",
              "    <tr>\n",
              "      <th>2017-06-20</th>\n",
              "      <td>146.87</td>\n",
              "      <td>146.87</td>\n",
              "      <td>144.94</td>\n",
              "      <td>145.01</td>\n",
              "      <td>24900073</td>\n",
              "    </tr>\n",
              "    <tr>\n",
              "      <th>2017-06-21</th>\n",
              "      <td>145.52</td>\n",
              "      <td>146.07</td>\n",
              "      <td>144.61</td>\n",
              "      <td>145.87</td>\n",
              "      <td>21265751</td>\n",
              "    </tr>\n",
              "    <tr>\n",
              "      <th>2017-06-22</th>\n",
              "      <td>145.77</td>\n",
              "      <td>146.70</td>\n",
              "      <td>145.12</td>\n",
              "      <td>145.63</td>\n",
              "      <td>19106294</td>\n",
              "    </tr>\n",
              "    <tr>\n",
              "      <th>2017-06-23</th>\n",
              "      <td>145.13</td>\n",
              "      <td>147.16</td>\n",
              "      <td>145.11</td>\n",
              "      <td>146.28</td>\n",
              "      <td>35439389</td>\n",
              "    </tr>\n",
              "    <tr>\n",
              "      <th>2017-06-26</th>\n",
              "      <td>147.17</td>\n",
              "      <td>148.28</td>\n",
              "      <td>145.38</td>\n",
              "      <td>145.82</td>\n",
              "      <td>25692361</td>\n",
              "    </tr>\n",
              "    <tr>\n",
              "      <th>2017-06-27</th>\n",
              "      <td>145.01</td>\n",
              "      <td>146.16</td>\n",
              "      <td>143.62</td>\n",
              "      <td>143.73</td>\n",
              "      <td>24761891</td>\n",
              "    </tr>\n",
              "    <tr>\n",
              "      <th>2017-06-28</th>\n",
              "      <td>144.49</td>\n",
              "      <td>146.11</td>\n",
              "      <td>143.16</td>\n",
              "      <td>145.83</td>\n",
              "      <td>22082432</td>\n",
              "    </tr>\n",
              "    <tr>\n",
              "      <th>2017-06-29</th>\n",
              "      <td>144.71</td>\n",
              "      <td>145.13</td>\n",
              "      <td>142.28</td>\n",
              "      <td>143.68</td>\n",
              "      <td>31499368</td>\n",
              "    </tr>\n",
              "    <tr>\n",
              "      <th>2017-06-30</th>\n",
              "      <td>144.45</td>\n",
              "      <td>144.96</td>\n",
              "      <td>143.78</td>\n",
              "      <td>144.02</td>\n",
              "      <td>23024107</td>\n",
              "    </tr>\n",
              "  </tbody>\n",
              "</table>\n",
              "</div>"
            ],
            "text/plain": [
              "              Open    High     Low   Close    Volume\n",
              "2017-06-01  153.17  153.33  152.22  153.18  16404088\n",
              "2017-06-02  153.58  155.45  152.89  155.45  27770715\n",
              "2017-06-05  154.34  154.45  153.46  153.93  25331662\n",
              "2017-06-06  153.90  155.81  153.78  154.45  26624926\n",
              "2017-06-07  155.02  155.98  154.48  155.37  21069647\n",
              "2017-06-08  155.25  155.54  154.40  154.99  21250798\n",
              "2017-06-09  155.19  155.19  146.02  148.98  64882657\n",
              "2017-06-12  145.74  146.09  142.51  145.42  72307330\n",
              "2017-06-13  147.16  147.45  145.15  146.59  34165445\n",
              "2017-06-14  147.50  147.50  143.84  145.16  31531232\n",
              "2017-06-15  143.32  144.48  142.21  144.29  32165373\n",
              "2017-06-16  143.78  144.50  142.20  142.27  50361093\n",
              "2017-06-19  143.66  146.74  143.66  146.34  32541404\n",
              "2017-06-20  146.87  146.87  144.94  145.01  24900073\n",
              "2017-06-21  145.52  146.07  144.61  145.87  21265751\n",
              "2017-06-22  145.77  146.70  145.12  145.63  19106294\n",
              "2017-06-23  145.13  147.16  145.11  146.28  35439389\n",
              "2017-06-26  147.17  148.28  145.38  145.82  25692361\n",
              "2017-06-27  145.01  146.16  143.62  143.73  24761891\n",
              "2017-06-28  144.49  146.11  143.16  145.83  22082432\n",
              "2017-06-29  144.71  145.13  142.28  143.68  31499368\n",
              "2017-06-30  144.45  144.96  143.78  144.02  23024107"
            ]
          },
          "metadata": {},
          "execution_count": 19
        }
      ]
    },
    {
      "cell_type": "markdown",
      "metadata": {
        "id": "agXKbgVqEbqo"
      },
      "source": [
        "We can also set the price for weekends using asfreq method"
      ]
    },
    {
      "cell_type": "code",
      "metadata": {
        "colab": {
          "base_uri": "https://localhost:8080/",
          "height": 979
        },
        "id": "1ylBkh3TDQRn",
        "outputId": "b80835d5-bf44-4c8b-df88-e71885425642"
      },
      "source": [
        "df.asfreq(freq='D',method='pad')"
      ],
      "execution_count": null,
      "outputs": [
        {
          "output_type": "execute_result",
          "data": {
            "text/html": [
              "<div>\n",
              "<style scoped>\n",
              "    .dataframe tbody tr th:only-of-type {\n",
              "        vertical-align: middle;\n",
              "    }\n",
              "\n",
              "    .dataframe tbody tr th {\n",
              "        vertical-align: top;\n",
              "    }\n",
              "\n",
              "    .dataframe thead th {\n",
              "        text-align: right;\n",
              "    }\n",
              "</style>\n",
              "<table border=\"1\" class=\"dataframe\">\n",
              "  <thead>\n",
              "    <tr style=\"text-align: right;\">\n",
              "      <th></th>\n",
              "      <th>Open</th>\n",
              "      <th>High</th>\n",
              "      <th>Low</th>\n",
              "      <th>Close</th>\n",
              "      <th>Volume</th>\n",
              "    </tr>\n",
              "  </thead>\n",
              "  <tbody>\n",
              "    <tr>\n",
              "      <th>2017-06-01</th>\n",
              "      <td>153.17</td>\n",
              "      <td>153.33</td>\n",
              "      <td>152.22</td>\n",
              "      <td>153.18</td>\n",
              "      <td>16404088</td>\n",
              "    </tr>\n",
              "    <tr>\n",
              "      <th>2017-06-02</th>\n",
              "      <td>153.58</td>\n",
              "      <td>155.45</td>\n",
              "      <td>152.89</td>\n",
              "      <td>155.45</td>\n",
              "      <td>27770715</td>\n",
              "    </tr>\n",
              "    <tr>\n",
              "      <th>2017-06-03</th>\n",
              "      <td>153.58</td>\n",
              "      <td>155.45</td>\n",
              "      <td>152.89</td>\n",
              "      <td>155.45</td>\n",
              "      <td>27770715</td>\n",
              "    </tr>\n",
              "    <tr>\n",
              "      <th>2017-06-04</th>\n",
              "      <td>153.58</td>\n",
              "      <td>155.45</td>\n",
              "      <td>152.89</td>\n",
              "      <td>155.45</td>\n",
              "      <td>27770715</td>\n",
              "    </tr>\n",
              "    <tr>\n",
              "      <th>2017-06-05</th>\n",
              "      <td>154.34</td>\n",
              "      <td>154.45</td>\n",
              "      <td>153.46</td>\n",
              "      <td>153.93</td>\n",
              "      <td>25331662</td>\n",
              "    </tr>\n",
              "    <tr>\n",
              "      <th>2017-06-06</th>\n",
              "      <td>153.90</td>\n",
              "      <td>155.81</td>\n",
              "      <td>153.78</td>\n",
              "      <td>154.45</td>\n",
              "      <td>26624926</td>\n",
              "    </tr>\n",
              "    <tr>\n",
              "      <th>2017-06-07</th>\n",
              "      <td>155.02</td>\n",
              "      <td>155.98</td>\n",
              "      <td>154.48</td>\n",
              "      <td>155.37</td>\n",
              "      <td>21069647</td>\n",
              "    </tr>\n",
              "    <tr>\n",
              "      <th>2017-06-08</th>\n",
              "      <td>155.25</td>\n",
              "      <td>155.54</td>\n",
              "      <td>154.40</td>\n",
              "      <td>154.99</td>\n",
              "      <td>21250798</td>\n",
              "    </tr>\n",
              "    <tr>\n",
              "      <th>2017-06-09</th>\n",
              "      <td>155.19</td>\n",
              "      <td>155.19</td>\n",
              "      <td>146.02</td>\n",
              "      <td>148.98</td>\n",
              "      <td>64882657</td>\n",
              "    </tr>\n",
              "    <tr>\n",
              "      <th>2017-06-10</th>\n",
              "      <td>155.19</td>\n",
              "      <td>155.19</td>\n",
              "      <td>146.02</td>\n",
              "      <td>148.98</td>\n",
              "      <td>64882657</td>\n",
              "    </tr>\n",
              "    <tr>\n",
              "      <th>2017-06-11</th>\n",
              "      <td>155.19</td>\n",
              "      <td>155.19</td>\n",
              "      <td>146.02</td>\n",
              "      <td>148.98</td>\n",
              "      <td>64882657</td>\n",
              "    </tr>\n",
              "    <tr>\n",
              "      <th>2017-06-12</th>\n",
              "      <td>145.74</td>\n",
              "      <td>146.09</td>\n",
              "      <td>142.51</td>\n",
              "      <td>145.42</td>\n",
              "      <td>72307330</td>\n",
              "    </tr>\n",
              "    <tr>\n",
              "      <th>2017-06-13</th>\n",
              "      <td>147.16</td>\n",
              "      <td>147.45</td>\n",
              "      <td>145.15</td>\n",
              "      <td>146.59</td>\n",
              "      <td>34165445</td>\n",
              "    </tr>\n",
              "    <tr>\n",
              "      <th>2017-06-14</th>\n",
              "      <td>147.50</td>\n",
              "      <td>147.50</td>\n",
              "      <td>143.84</td>\n",
              "      <td>145.16</td>\n",
              "      <td>31531232</td>\n",
              "    </tr>\n",
              "    <tr>\n",
              "      <th>2017-06-15</th>\n",
              "      <td>143.32</td>\n",
              "      <td>144.48</td>\n",
              "      <td>142.21</td>\n",
              "      <td>144.29</td>\n",
              "      <td>32165373</td>\n",
              "    </tr>\n",
              "    <tr>\n",
              "      <th>2017-06-16</th>\n",
              "      <td>143.78</td>\n",
              "      <td>144.50</td>\n",
              "      <td>142.20</td>\n",
              "      <td>142.27</td>\n",
              "      <td>50361093</td>\n",
              "    </tr>\n",
              "    <tr>\n",
              "      <th>2017-06-17</th>\n",
              "      <td>143.78</td>\n",
              "      <td>144.50</td>\n",
              "      <td>142.20</td>\n",
              "      <td>142.27</td>\n",
              "      <td>50361093</td>\n",
              "    </tr>\n",
              "    <tr>\n",
              "      <th>2017-06-18</th>\n",
              "      <td>143.78</td>\n",
              "      <td>144.50</td>\n",
              "      <td>142.20</td>\n",
              "      <td>142.27</td>\n",
              "      <td>50361093</td>\n",
              "    </tr>\n",
              "    <tr>\n",
              "      <th>2017-06-19</th>\n",
              "      <td>143.66</td>\n",
              "      <td>146.74</td>\n",
              "      <td>143.66</td>\n",
              "      <td>146.34</td>\n",
              "      <td>32541404</td>\n",
              "    </tr>\n",
              "    <tr>\n",
              "      <th>2017-06-20</th>\n",
              "      <td>146.87</td>\n",
              "      <td>146.87</td>\n",
              "      <td>144.94</td>\n",
              "      <td>145.01</td>\n",
              "      <td>24900073</td>\n",
              "    </tr>\n",
              "    <tr>\n",
              "      <th>2017-06-21</th>\n",
              "      <td>145.52</td>\n",
              "      <td>146.07</td>\n",
              "      <td>144.61</td>\n",
              "      <td>145.87</td>\n",
              "      <td>21265751</td>\n",
              "    </tr>\n",
              "    <tr>\n",
              "      <th>2017-06-22</th>\n",
              "      <td>145.77</td>\n",
              "      <td>146.70</td>\n",
              "      <td>145.12</td>\n",
              "      <td>145.63</td>\n",
              "      <td>19106294</td>\n",
              "    </tr>\n",
              "    <tr>\n",
              "      <th>2017-06-23</th>\n",
              "      <td>145.13</td>\n",
              "      <td>147.16</td>\n",
              "      <td>145.11</td>\n",
              "      <td>146.28</td>\n",
              "      <td>35439389</td>\n",
              "    </tr>\n",
              "    <tr>\n",
              "      <th>2017-06-24</th>\n",
              "      <td>145.13</td>\n",
              "      <td>147.16</td>\n",
              "      <td>145.11</td>\n",
              "      <td>146.28</td>\n",
              "      <td>35439389</td>\n",
              "    </tr>\n",
              "    <tr>\n",
              "      <th>2017-06-25</th>\n",
              "      <td>145.13</td>\n",
              "      <td>147.16</td>\n",
              "      <td>145.11</td>\n",
              "      <td>146.28</td>\n",
              "      <td>35439389</td>\n",
              "    </tr>\n",
              "    <tr>\n",
              "      <th>2017-06-26</th>\n",
              "      <td>147.17</td>\n",
              "      <td>148.28</td>\n",
              "      <td>145.38</td>\n",
              "      <td>145.82</td>\n",
              "      <td>25692361</td>\n",
              "    </tr>\n",
              "    <tr>\n",
              "      <th>2017-06-27</th>\n",
              "      <td>145.01</td>\n",
              "      <td>146.16</td>\n",
              "      <td>143.62</td>\n",
              "      <td>143.73</td>\n",
              "      <td>24761891</td>\n",
              "    </tr>\n",
              "    <tr>\n",
              "      <th>2017-06-28</th>\n",
              "      <td>144.49</td>\n",
              "      <td>146.11</td>\n",
              "      <td>143.16</td>\n",
              "      <td>145.83</td>\n",
              "      <td>22082432</td>\n",
              "    </tr>\n",
              "    <tr>\n",
              "      <th>2017-06-29</th>\n",
              "      <td>144.71</td>\n",
              "      <td>145.13</td>\n",
              "      <td>142.28</td>\n",
              "      <td>143.68</td>\n",
              "      <td>31499368</td>\n",
              "    </tr>\n",
              "    <tr>\n",
              "      <th>2017-06-30</th>\n",
              "      <td>144.45</td>\n",
              "      <td>144.96</td>\n",
              "      <td>143.78</td>\n",
              "      <td>144.02</td>\n",
              "      <td>23024107</td>\n",
              "    </tr>\n",
              "  </tbody>\n",
              "</table>\n",
              "</div>"
            ],
            "text/plain": [
              "              Open    High     Low   Close    Volume\n",
              "2017-06-01  153.17  153.33  152.22  153.18  16404088\n",
              "2017-06-02  153.58  155.45  152.89  155.45  27770715\n",
              "2017-06-03  153.58  155.45  152.89  155.45  27770715\n",
              "2017-06-04  153.58  155.45  152.89  155.45  27770715\n",
              "2017-06-05  154.34  154.45  153.46  153.93  25331662\n",
              "2017-06-06  153.90  155.81  153.78  154.45  26624926\n",
              "2017-06-07  155.02  155.98  154.48  155.37  21069647\n",
              "2017-06-08  155.25  155.54  154.40  154.99  21250798\n",
              "2017-06-09  155.19  155.19  146.02  148.98  64882657\n",
              "2017-06-10  155.19  155.19  146.02  148.98  64882657\n",
              "2017-06-11  155.19  155.19  146.02  148.98  64882657\n",
              "2017-06-12  145.74  146.09  142.51  145.42  72307330\n",
              "2017-06-13  147.16  147.45  145.15  146.59  34165445\n",
              "2017-06-14  147.50  147.50  143.84  145.16  31531232\n",
              "2017-06-15  143.32  144.48  142.21  144.29  32165373\n",
              "2017-06-16  143.78  144.50  142.20  142.27  50361093\n",
              "2017-06-17  143.78  144.50  142.20  142.27  50361093\n",
              "2017-06-18  143.78  144.50  142.20  142.27  50361093\n",
              "2017-06-19  143.66  146.74  143.66  146.34  32541404\n",
              "2017-06-20  146.87  146.87  144.94  145.01  24900073\n",
              "2017-06-21  145.52  146.07  144.61  145.87  21265751\n",
              "2017-06-22  145.77  146.70  145.12  145.63  19106294\n",
              "2017-06-23  145.13  147.16  145.11  146.28  35439389\n",
              "2017-06-24  145.13  147.16  145.11  146.28  35439389\n",
              "2017-06-25  145.13  147.16  145.11  146.28  35439389\n",
              "2017-06-26  147.17  148.28  145.38  145.82  25692361\n",
              "2017-06-27  145.01  146.16  143.62  143.73  24761891\n",
              "2017-06-28  144.49  146.11  143.16  145.83  22082432\n",
              "2017-06-29  144.71  145.13  142.28  143.68  31499368\n",
              "2017-06-30  144.45  144.96  143.78  144.02  23024107"
            ]
          },
          "metadata": {},
          "execution_count": 22
        }
      ]
    },
    {
      "cell_type": "code",
      "metadata": {
        "colab": {
          "base_uri": "https://localhost:8080/",
          "height": 320
        },
        "id": "IQEwRcNHEoIu",
        "outputId": "8db207ea-461f-48ae-a8e1-d213946a45fa"
      },
      "source": [
        "df.asfreq(freq='D',method='pad').Close.plot()"
      ],
      "execution_count": null,
      "outputs": [
        {
          "output_type": "execute_result",
          "data": {
            "text/plain": [
              "<matplotlib.axes._subplots.AxesSubplot at 0x7f8ac148c710>"
            ]
          },
          "metadata": {},
          "execution_count": 24
        },
        {
          "output_type": "display_data",
          "data": {
            "image/png": "[encoded data removed]",
            "text/plain": [
              "<Figure size 432x288 with 1 Axes>"
            ]
          },
          "metadata": {
            "needs_background": "light"
          }
        }
      ]
    },
    {
      "cell_type": "markdown",
      "metadata": {
        "id": "G_ZhMAYcFN5o"
      },
      "source": [
        "Some time it may happen that we know the start day but don't know the end day then for such scenanrio we can use "
      ]
    },
    {
      "cell_type": "code",
      "metadata": {
        "colab": {
          "base_uri": "https://localhost:8080/"
        },
        "id": "MpRPXoeLE15Y",
        "outputId": "0082ac40-9cab-48c5-eda1-171bdfc292cc"
      },
      "source": [
        "rng =pd.date_range(start='1/1/2017',periods=72,freq='B')  ## this will generate 72 days starting from 1/1/2017 leaving all weekends\n",
        "rng,len(rng)"
      ],
      "execution_count": null,
      "outputs": [
        {
          "output_type": "execute_result",
          "data": {
            "text/plain": [
              "(DatetimeIndex(['2017-01-02', '2017-01-03', '2017-01-04', '2017-01-05',\n",
              "                '2017-01-06', '2017-01-09', '2017-01-10', '2017-01-11',\n",
              "                '2017-01-12', '2017-01-13', '2017-01-16', '2017-01-17',\n",
              "                '2017-01-18', '2017-01-19', '2017-01-20', '2017-01-23',\n",
              "                '2017-01-24', '2017-01-25', '2017-01-26', '2017-01-27',\n",
              "                '2017-01-30', '2017-01-31', '2017-02-01', '2017-02-02',\n",
              "                '2017-02-03', '2017-02-06', '2017-02-07', '2017-02-08',\n",
              "                '2017-02-09', '2017-02-10', '2017-02-13', '2017-02-14',\n",
              "                '2017-02-15', '2017-02-16', '2017-02-17', '2017-02-20',\n",
              "                '2017-02-21', '2017-02-22', '2017-02-23', '2017-02-24',\n",
              "                '2017-02-27', '2017-02-28', '2017-03-01', '2017-03-02',\n",
              "                '2017-03-03', '2017-03-06', '2017-03-07', '2017-03-08',\n",
              "                '2017-03-09', '2017-03-10', '2017-03-13', '2017-03-14',\n",
              "                '2017-03-15', '2017-03-16', '2017-03-17', '2017-03-20',\n",
              "                '2017-03-21', '2017-03-22', '2017-03-23', '2017-03-24',\n",
              "                '2017-03-27', '2017-03-28', '2017-03-29', '2017-03-30',\n",
              "                '2017-03-31', '2017-04-03', '2017-04-04', '2017-04-05',\n",
              "                '2017-04-06', '2017-04-07', '2017-04-10', '2017-04-11'],\n",
              "               dtype='datetime64[ns]', freq='B'), 72)"
            ]
          },
          "metadata": {},
          "execution_count": 26
        }
      ]
    },
    {
      "cell_type": "markdown",
      "metadata": {
        "id": "ykfM0kYrF0LC"
      },
      "source": [
        "The above method can also be used to generate test data as for example check below\n"
      ]
    },
    {
      "cell_type": "code",
      "metadata": {
        "colab": {
          "base_uri": "https://localhost:8080/"
        },
        "id": "QczPSmatFs1w",
        "outputId": "e16b533b-8ea0-4c01-8c51-9cf5aae8b478"
      },
      "source": [
        "import numpy as np\n",
        "rng = pd.date_range(start='1/1/2017',periods=72,freq=\"H\")  # generate hourly data\n",
        "ts =pd.Series(np.random.randint(1,10,len(rng)),index=rng)\n",
        "ts.head(10)"
      ],
      "execution_count": null,
      "outputs": [
        {
          "output_type": "execute_result",
          "data": {
            "text/plain": [
              "2017-01-01 00:00:00    3\n",
              "2017-01-01 01:00:00    7\n",
              "2017-01-01 02:00:00    9\n",
              "2017-01-01 03:00:00    8\n",
              "2017-01-01 04:00:00    4\n",
              "2017-01-01 05:00:00    2\n",
              "2017-01-01 06:00:00    7\n",
              "2017-01-01 07:00:00    3\n",
              "2017-01-01 08:00:00    4\n",
              "2017-01-01 09:00:00    8\n",
              "Freq: H, dtype: int64"
            ]
          },
          "metadata": {},
          "execution_count": 28
        }
      ]
    },
    {
      "cell_type": "code",
      "metadata": {
        "colab": {
          "base_uri": "https://localhost:8080/",
          "height": 204
        },
        "id": "qT9iCtFhG7tM",
        "outputId": "6b103ea4-e479-4a82-af84-1e4e8640f487"
      },
      "source": [
        "import pandas as pd\n",
        "url='https://github.com/codebasics/py/raw/master/pandas/16_ts_holidays/aapl_no_dates.csv'\n",
        "df = pd.read_csv(url)\n",
        "df.head(5)"
      ],
      "execution_count": null,
      "outputs": [
        {
          "output_type": "execute_result",
          "data": {
            "text/html": [
              "<div>\n",
              "<style scoped>\n",
              "    .dataframe tbody tr th:only-of-type {\n",
              "        vertical-align: middle;\n",
              "    }\n",
              "\n",
              "    .dataframe tbody tr th {\n",
              "        vertical-align: top;\n",
              "    }\n",
              "\n",
              "    .dataframe thead th {\n",
              "        text-align: right;\n",
              "    }\n",
              "</style>\n",
              "<table border=\"1\" class=\"dataframe\">\n",
              "  <thead>\n",
              "    <tr style=\"text-align: right;\">\n",
              "      <th></th>\n",
              "      <th>Open</th>\n",
              "      <th>High</th>\n",
              "      <th>Low</th>\n",
              "      <th>Close</th>\n",
              "      <th>Volume</th>\n",
              "    </tr>\n",
              "  </thead>\n",
              "  <tbody>\n",
              "    <tr>\n",
              "      <th>0</th>\n",
              "      <td>144.88</td>\n",
              "      <td>145.30</td>\n",
              "      <td>143.10</td>\n",
              "      <td>143.50</td>\n",
              "      <td>14277848</td>\n",
              "    </tr>\n",
              "    <tr>\n",
              "      <th>1</th>\n",
              "      <td>143.69</td>\n",
              "      <td>144.79</td>\n",
              "      <td>142.72</td>\n",
              "      <td>144.09</td>\n",
              "      <td>21569557</td>\n",
              "    </tr>\n",
              "    <tr>\n",
              "      <th>2</th>\n",
              "      <td>143.02</td>\n",
              "      <td>143.50</td>\n",
              "      <td>142.41</td>\n",
              "      <td>142.73</td>\n",
              "      <td>24128782</td>\n",
              "    </tr>\n",
              "    <tr>\n",
              "      <th>3</th>\n",
              "      <td>142.90</td>\n",
              "      <td>144.75</td>\n",
              "      <td>142.90</td>\n",
              "      <td>144.18</td>\n",
              "      <td>19201712</td>\n",
              "    </tr>\n",
              "    <tr>\n",
              "      <th>4</th>\n",
              "      <td>144.11</td>\n",
              "      <td>145.95</td>\n",
              "      <td>143.37</td>\n",
              "      <td>145.06</td>\n",
              "      <td>21090636</td>\n",
              "    </tr>\n",
              "  </tbody>\n",
              "</table>\n",
              "</div>"
            ],
            "text/plain": [
              "     Open    High     Low   Close    Volume\n",
              "0  144.88  145.30  143.10  143.50  14277848\n",
              "1  143.69  144.79  142.72  144.09  21569557\n",
              "2  143.02  143.50  142.41  142.73  24128782\n",
              "3  142.90  144.75  142.90  144.18  19201712\n",
              "4  144.11  145.95  143.37  145.06  21090636"
            ]
          },
          "metadata": {},
          "execution_count": 29
        }
      ]
    },
    {
      "cell_type": "code",
      "metadata": {
        "colab": {
          "base_uri": "https://localhost:8080/"
        },
        "id": "phU6DSIZZVPc",
        "outputId": "c96914e3-2589-4c9d-c4de-7cb49c90cc6c"
      },
      "source": [
        "rng =pd.date_range(start='7/1/2017',end='7/21/2017',freq='B')\n",
        "rng"
      ],
      "execution_count": null,
      "outputs": [
        {
          "output_type": "execute_result",
          "data": {
            "text/plain": [
              "DatetimeIndex(['2017-07-03', '2017-07-04', '2017-07-05', '2017-07-06',\n",
              "               '2017-07-07', '2017-07-10', '2017-07-11', '2017-07-12',\n",
              "               '2017-07-13', '2017-07-14', '2017-07-17', '2017-07-18',\n",
              "               '2017-07-19', '2017-07-20', '2017-07-21'],\n",
              "              dtype='datetime64[ns]', freq='B')"
            ]
          },
          "metadata": {},
          "execution_count": 31
        }
      ]
    },
    {
      "cell_type": "markdown",
      "metadata": {
        "id": "5_qzGMAuZld6"
      },
      "source": [
        "Notice that in above range we have that 4th july also but 4th of july is holiday in US ....Then how to handel such cases for this we can create custom customBusinessDay"
      ]
    },
    {
      "cell_type": "code",
      "metadata": {
        "colab": {
          "base_uri": "https://localhost:8080/"
        },
        "id": "aTytsO6iZjKS",
        "outputId": "f815b758-065f-4382-ac33-92eafc633495"
      },
      "source": [
        "from pandas.tseries.holiday import USFederalHolidayCalendar\n",
        "from pandas.tseries.offsets import CustomBusinessDay\n",
        "usb = CustomBusinessDay(calendar=USFederalHolidayCalendar())\n",
        "usb"
      ],
      "execution_count": null,
      "outputs": [
        {
          "output_type": "execute_result",
          "data": {
            "text/plain": [
              "<CustomBusinessDay>"
            ]
          },
          "metadata": {},
          "execution_count": 39
        }
      ]
    },
    {
      "cell_type": "code",
      "metadata": {
        "colab": {
          "base_uri": "https://localhost:8080/"
        },
        "id": "imSPwlLcaK-Y",
        "outputId": "14572adf-a4e1-463f-ac86-b1a53b3462cc"
      },
      "source": [
        "rng =pd.date_range(start='7/1/2017',end='7/21/2017',freq=usb)\n",
        "rng"
      ],
      "execution_count": null,
      "outputs": [
        {
          "output_type": "execute_result",
          "data": {
            "text/plain": [
              "DatetimeIndex(['2017-07-03', '2017-07-05', '2017-07-06', '2017-07-07',\n",
              "               '2017-07-10', '2017-07-11', '2017-07-12', '2017-07-13',\n",
              "               '2017-07-14', '2017-07-17', '2017-07-18', '2017-07-19',\n",
              "               '2017-07-20', '2017-07-21'],\n",
              "              dtype='datetime64[ns]', freq='C')"
            ]
          },
          "metadata": {},
          "execution_count": 40
        }
      ]
    },
    {
      "cell_type": "markdown",
      "metadata": {
        "id": "Wr002YC3bBhq"
      },
      "source": [
        "Now as can be seen 4th of july is not present in the range"
      ]
    },
    {
      "cell_type": "code",
      "metadata": {
        "colab": {
          "base_uri": "https://localhost:8080/",
          "height": 483
        },
        "id": "Ti8GNbznbAOi",
        "outputId": "d5d2addb-6e5d-491c-fcb5-1d67153d988d"
      },
      "source": [
        "df.set_index(rng,inplace=True)\n",
        "df"
      ],
      "execution_count": null,
      "outputs": [
        {
          "output_type": "execute_result",
          "data": {
            "text/html": [
              "<div>\n",
              "<style scoped>\n",
              "    .dataframe tbody tr th:only-of-type {\n",
              "        vertical-align: middle;\n",
              "    }\n",
              "\n",
              "    .dataframe tbody tr th {\n",
              "        vertical-align: top;\n",
              "    }\n",
              "\n",
              "    .dataframe thead th {\n",
              "        text-align: right;\n",
              "    }\n",
              "</style>\n",
              "<table border=\"1\" class=\"dataframe\">\n",
              "  <thead>\n",
              "    <tr style=\"text-align: right;\">\n",
              "      <th></th>\n",
              "      <th>Open</th>\n",
              "      <th>High</th>\n",
              "      <th>Low</th>\n",
              "      <th>Close</th>\n",
              "      <th>Volume</th>\n",
              "    </tr>\n",
              "  </thead>\n",
              "  <tbody>\n",
              "    <tr>\n",
              "      <th>2017-07-03</th>\n",
              "      <td>144.88</td>\n",
              "      <td>145.30</td>\n",
              "      <td>143.10</td>\n",
              "      <td>143.50</td>\n",
              "      <td>14277848</td>\n",
              "    </tr>\n",
              "    <tr>\n",
              "      <th>2017-07-05</th>\n",
              "      <td>143.69</td>\n",
              "      <td>144.79</td>\n",
              "      <td>142.72</td>\n",
              "      <td>144.09</td>\n",
              "      <td>21569557</td>\n",
              "    </tr>\n",
              "    <tr>\n",
              "      <th>2017-07-06</th>\n",
              "      <td>143.02</td>\n",
              "      <td>143.50</td>\n",
              "      <td>142.41</td>\n",
              "      <td>142.73</td>\n",
              "      <td>24128782</td>\n",
              "    </tr>\n",
              "    <tr>\n",
              "      <th>2017-07-07</th>\n",
              "      <td>142.90</td>\n",
              "      <td>144.75</td>\n",
              "      <td>142.90</td>\n",
              "      <td>144.18</td>\n",
              "      <td>19201712</td>\n",
              "    </tr>\n",
              "    <tr>\n",
              "      <th>2017-07-10</th>\n",
              "      <td>144.11</td>\n",
              "      <td>145.95</td>\n",
              "      <td>143.37</td>\n",
              "      <td>145.06</td>\n",
              "      <td>21090636</td>\n",
              "    </tr>\n",
              "    <tr>\n",
              "      <th>2017-07-11</th>\n",
              "      <td>144.73</td>\n",
              "      <td>145.85</td>\n",
              "      <td>144.38</td>\n",
              "      <td>145.53</td>\n",
              "      <td>19781836</td>\n",
              "    </tr>\n",
              "    <tr>\n",
              "      <th>2017-07-12</th>\n",
              "      <td>145.87</td>\n",
              "      <td>146.18</td>\n",
              "      <td>144.82</td>\n",
              "      <td>145.74</td>\n",
              "      <td>24884478</td>\n",
              "    </tr>\n",
              "    <tr>\n",
              "      <th>2017-07-13</th>\n",
              "      <td>145.50</td>\n",
              "      <td>148.49</td>\n",
              "      <td>145.44</td>\n",
              "      <td>147.77</td>\n",
              "      <td>25199373</td>\n",
              "    </tr>\n",
              "    <tr>\n",
              "      <th>2017-07-14</th>\n",
              "      <td>147.97</td>\n",
              "      <td>149.33</td>\n",
              "      <td>147.33</td>\n",
              "      <td>149.04</td>\n",
              "      <td>20132061</td>\n",
              "    </tr>\n",
              "    <tr>\n",
              "      <th>2017-07-17</th>\n",
              "      <td>148.82</td>\n",
              "      <td>150.90</td>\n",
              "      <td>148.57</td>\n",
              "      <td>149.56</td>\n",
              "      <td>23793456</td>\n",
              "    </tr>\n",
              "    <tr>\n",
              "      <th>2017-07-18</th>\n",
              "      <td>149.20</td>\n",
              "      <td>150.13</td>\n",
              "      <td>148.67</td>\n",
              "      <td>150.08</td>\n",
              "      <td>17868792</td>\n",
              "    </tr>\n",
              "    <tr>\n",
              "      <th>2017-07-19</th>\n",
              "      <td>150.48</td>\n",
              "      <td>151.42</td>\n",
              "      <td>149.95</td>\n",
              "      <td>151.02</td>\n",
              "      <td>20922969</td>\n",
              "    </tr>\n",
              "    <tr>\n",
              "      <th>2017-07-20</th>\n",
              "      <td>151.50</td>\n",
              "      <td>151.74</td>\n",
              "      <td>150.19</td>\n",
              "      <td>150.34</td>\n",
              "      <td>17243748</td>\n",
              "    </tr>\n",
              "    <tr>\n",
              "      <th>2017-07-21</th>\n",
              "      <td>149.99</td>\n",
              "      <td>150.44</td>\n",
              "      <td>148.88</td>\n",
              "      <td>150.27</td>\n",
              "      <td>26252630</td>\n",
              "    </tr>\n",
              "  </tbody>\n",
              "</table>\n",
              "</div>"
            ],
            "text/plain": [
              "              Open    High     Low   Close    Volume\n",
              "2017-07-03  144.88  145.30  143.10  143.50  14277848\n",
              "2017-07-05  143.69  144.79  142.72  144.09  21569557\n",
              "2017-07-06  143.02  143.50  142.41  142.73  24128782\n",
              "2017-07-07  142.90  144.75  142.90  144.18  19201712\n",
              "2017-07-10  144.11  145.95  143.37  145.06  21090636\n",
              "2017-07-11  144.73  145.85  144.38  145.53  19781836\n",
              "2017-07-12  145.87  146.18  144.82  145.74  24884478\n",
              "2017-07-13  145.50  148.49  145.44  147.77  25199373\n",
              "2017-07-14  147.97  149.33  147.33  149.04  20132061\n",
              "2017-07-17  148.82  150.90  148.57  149.56  23793456\n",
              "2017-07-18  149.20  150.13  148.67  150.08  17868792\n",
              "2017-07-19  150.48  151.42  149.95  151.02  20922969\n",
              "2017-07-20  151.50  151.74  150.19  150.34  17243748\n",
              "2017-07-21  149.99  150.44  148.88  150.27  26252630"
            ]
          },
          "metadata": {},
          "execution_count": 42
        }
      ]
    },
    {
      "cell_type": "code",
      "metadata": {
        "id": "PNp7ACxpcx1T"
      },
      "source": [
        ""
      ],
      "execution_count": null,
      "outputs": []
    },
    {
      "cell_type": "markdown",
      "metadata": {
        "id": "sREawbSNcZ7I"
      },
      "source": [
        "In library There is only USFederal Calendar present but what if we want to create our own holiday calendar for eg India Holiday Calendar or my Birthday Calender"
      ]
    },
    {
      "cell_type": "code",
      "metadata": {
        "colab": {
          "base_uri": "https://localhost:8080/"
        },
        "id": "g_tv1Im4bQbM",
        "outputId": "a170fbf6-732b-472c-c4ef-e4bef0b12538"
      },
      "source": [
        "from pandas.tseries.holiday import AbstractHolidayCalendar, nearest_workday,Holiday\n",
        "\n",
        "class customHoildayCalendar(AbstractHolidayCalendar):\n",
        "  '''\n",
        "  This class is used to create custom holiday calenders\n",
        "  '''\n",
        "  rules =[\n",
        "          Holiday('Custom Holiday',month=10,day=18)\n",
        "  ]\n",
        "\n",
        "my_custom_calendar = CustomBusinessDay(calendar= customHoildayCalendar())\n",
        "my_custom_calendar"
      ],
      "execution_count": null,
      "outputs": [
        {
          "output_type": "execute_result",
          "data": {
            "text/plain": [
              "<CustomBusinessDay>"
            ]
          },
          "metadata": {},
          "execution_count": 48
        }
      ]
    },
    {
      "cell_type": "code",
      "metadata": {
        "colab": {
          "base_uri": "https://localhost:8080/"
        },
        "id": "htFOgzHRdVjw",
        "outputId": "55cf23e9-195b-4454-ae53-d20a22b466bc"
      },
      "source": [
        "rng = pd.date_range(start='10/1/2021',end='10/30/2021',freq=my_custom_calendar)\n",
        "rng"
      ],
      "execution_count": null,
      "outputs": [
        {
          "output_type": "execute_result",
          "data": {
            "text/plain": [
              "DatetimeIndex(['2021-10-01', '2021-10-04', '2021-10-05', '2021-10-06',\n",
              "               '2021-10-07', '2021-10-08', '2021-10-11', '2021-10-12',\n",
              "               '2021-10-13', '2021-10-14', '2021-10-15', '2021-10-19',\n",
              "               '2021-10-20', '2021-10-21', '2021-10-22', '2021-10-25',\n",
              "               '2021-10-26', '2021-10-27', '2021-10-28', '2021-10-29'],\n",
              "              dtype='datetime64[ns]', freq='C')"
            ]
          },
          "metadata": {},
          "execution_count": 49
        }
      ]
    },
    {
      "cell_type": "code",
      "metadata": {
        "id": "JQmRSgwVhgbx"
      },
      "source": [
        ""
      ],
      "execution_count": null,
      "outputs": []
    },
    {
      "cell_type": "markdown",
      "metadata": {
        "id": "UVCcv4yNd_j6"
      },
      "source": [
        "We can see that 18th october is missing"
      ]
    },
    {
      "cell_type": "markdown",
      "metadata": {
        "id": "akM-N3jOfDtQ"
      },
      "source": [
        "Also in US if the hoilday is on sat it is observed on its nearest workday so how to handel such cases lets see"
      ]
    },
    {
      "cell_type": "code",
      "metadata": {
        "id": "xEjTUHDHd9Q4"
      },
      "source": [
        "from pandas.tseries.holiday import AbstractHolidayCalendar,nearest_workday,Holiday\n",
        "\n",
        "class myCustomCalender2(AbstractHolidayCalendar):\n",
        "  '''\n",
        "  This Calendar handel cases if the Holiday is on Saturday and observerd on friday\n",
        "  '''\n",
        "  rules =[\n",
        "          Holiday('custom Holiday',month=10,day=17,observance=nearest_workday)\n",
        "  ]\n",
        "\n"
      ],
      "execution_count": null,
      "outputs": []
    },
    {
      "cell_type": "code",
      "metadata": {
        "colab": {
          "base_uri": "https://localhost:8080/"
        },
        "id": "GkdsC-bzhj0o",
        "outputId": "1acd381e-b201-4cee-f336-e7be56bcb8ae"
      },
      "source": [
        "my_custom_calendar2 = CustomBusinessDay(calendar = myCustomCalender2())\n",
        "my_custom_calendar2"
      ],
      "execution_count": null,
      "outputs": [
        {
          "output_type": "execute_result",
          "data": {
            "text/plain": [
              "<CustomBusinessDay>"
            ]
          },
          "metadata": {},
          "execution_count": 56
        }
      ]
    },
    {
      "cell_type": "code",
      "metadata": {
        "colab": {
          "base_uri": "https://localhost:8080/"
        },
        "id": "srl3g9EjhwU2",
        "outputId": "7bc520ff-b3e1-46ef-bbb1-d03a538562e9"
      },
      "source": [
        "rng = pd.date_range(start='10/1/2021',end='10/30/2021',freq=my_custom_calendar2)\n",
        "rng"
      ],
      "execution_count": null,
      "outputs": [
        {
          "output_type": "execute_result",
          "data": {
            "text/plain": [
              "DatetimeIndex(['2021-10-01', '2021-10-04', '2021-10-05', '2021-10-06',\n",
              "               '2021-10-07', '2021-10-08', '2021-10-11', '2021-10-12',\n",
              "               '2021-10-13', '2021-10-14', '2021-10-15', '2021-10-19',\n",
              "               '2021-10-20', '2021-10-21', '2021-10-22', '2021-10-25',\n",
              "               '2021-10-26', '2021-10-27', '2021-10-28', '2021-10-29'],\n",
              "              dtype='datetime64[ns]', freq='C')"
            ]
          },
          "metadata": {},
          "execution_count": 57
        }
      ]
    },
    {
      "cell_type": "markdown",
      "metadata": {
        "id": "9QezAIwuiMXZ"
      },
      "source": [
        "As can be seen that when the holiday was on sunday it was observed on monday 18th"
      ]
    },
    {
      "cell_type": "markdown",
      "metadata": {
        "id": "7vN26JFkiZ07"
      },
      "source": [
        "There are certain countries where weekdays are different as in Egypt Holiday is on Friday and Saturday Then we can also handel  such cases using weekmask parameter"
      ]
    },
    {
      "cell_type": "code",
      "metadata": {
        "colab": {
          "base_uri": "https://localhost:8080/"
        },
        "id": "4md-rCkIh_4-",
        "outputId": "f05cde84-886d-442c-fbc2-3cdce0aaa8e0"
      },
      "source": [
        "egypt_calendar = CustomBusinessDay(weekmask='Sun Mon Tue Wed Thu')\n",
        "egypt_weekday = pd.date_range(start = '10/1/2021',end='10/30/2021',freq=egypt_calendar)\n",
        "egypt_weekday"
      ],
      "execution_count": null,
      "outputs": [
        {
          "output_type": "execute_result",
          "data": {
            "text/plain": [
              "DatetimeIndex(['2021-10-03', '2021-10-04', '2021-10-05', '2021-10-06',\n",
              "               '2021-10-07', '2021-10-10', '2021-10-11', '2021-10-12',\n",
              "               '2021-10-13', '2021-10-14', '2021-10-17', '2021-10-18',\n",
              "               '2021-10-19', '2021-10-20', '2021-10-21', '2021-10-24',\n",
              "               '2021-10-25', '2021-10-26', '2021-10-27', '2021-10-28'],\n",
              "              dtype='datetime64[ns]', freq='C')"
            ]
          },
          "metadata": {},
          "execution_count": 60
        }
      ]
    },
    {
      "cell_type": "markdown",
      "metadata": {
        "id": "lCR75HQgkLcj"
      },
      "source": [
        "Now if we want to handel holiday in CustomBusinessCalendar "
      ]
    },
    {
      "cell_type": "code",
      "metadata": {
        "colab": {
          "base_uri": "https://localhost:8080/"
        },
        "id": "vtTuKExvjAwL",
        "outputId": "ad35343c-e5c2-49da-990a-b042ddeb3615"
      },
      "source": [
        "b= CustomBusinessDay(weekmask='Sun Mon Tue Wed Thu', holidays=['2021-10-03'])\n",
        "rng = pd.date_range(start='10/1/2021',end='10/30/2021',freq =b)\n",
        "rng"
      ],
      "execution_count": null,
      "outputs": [
        {
          "output_type": "execute_result",
          "data": {
            "text/plain": [
              "DatetimeIndex(['2021-10-04', '2021-10-05', '2021-10-06', '2021-10-07',\n",
              "               '2021-10-10', '2021-10-11', '2021-10-12', '2021-10-13',\n",
              "               '2021-10-14', '2021-10-17', '2021-10-18', '2021-10-19',\n",
              "               '2021-10-20', '2021-10-21', '2021-10-24', '2021-10-25',\n",
              "               '2021-10-26', '2021-10-27', '2021-10-28'],\n",
              "              dtype='datetime64[ns]', freq='C')"
            ]
          },
          "metadata": {},
          "execution_count": 62
        }
      ]
    },
    {
      "cell_type": "markdown",
      "metadata": {
        "id": "dfu9nYkSu3ge"
      },
      "source": [
        "### Pandas to_datetime\n",
        "* input data can have vaired format for date,therefore this function helps to convert all diff. format to same format"
      ]
    },
    {
      "cell_type": "code",
      "metadata": {
        "colab": {
          "base_uri": "https://localhost:8080/"
        },
        "id": "_SDqkTS8kunh",
        "outputId": "6959f37f-ffbf-49d4-ba7d-e2c6bbbbe236"
      },
      "source": [
        "import pandas as pd\n",
        "dates =['2017-01-05','Jan 5, 2017', '01/05/2017', '2017.01.05', '2017/01/05', '20170105']\n",
        "pd.to_datetime(dates)"
      ],
      "execution_count": null,
      "outputs": [
        {
          "output_type": "execute_result",
          "data": {
            "text/plain": [
              "DatetimeIndex(['2017-01-05', '2017-01-05', '2017-01-05', '2017-01-05',\n",
              "               '2017-01-05', '2017-01-05'],\n",
              "              dtype='datetime64[ns]', freq=None)"
            ]
          },
          "metadata": {},
          "execution_count": 3
        }
      ]
    },
    {
      "cell_type": "markdown",
      "metadata": {
        "id": "PpWBWjPqvd7Z"
      },
      "source": [
        "it can also handel time"
      ]
    },
    {
      "cell_type": "code",
      "metadata": {
        "colab": {
          "base_uri": "https://localhost:8080/"
        },
        "id": "pcdJDLsfudJg",
        "outputId": "a61aa0e3-80cb-4be4-8104-f773e105c90a"
      },
      "source": [
        "dates =['2017-01-05 2:30:00 PM','Jan 5, 2017 14:30:00', '01/05/2017', '2017.01.05', '2017/01/05', '20170105']\n",
        "pd.to_datetime(dates)"
      ],
      "execution_count": null,
      "outputs": [
        {
          "output_type": "execute_result",
          "data": {
            "text/plain": [
              "DatetimeIndex(['2017-01-05 14:30:00', '2017-01-05 14:30:00',\n",
              "               '2017-01-05 00:00:00', '2017-01-05 00:00:00',\n",
              "               '2017-01-05 00:00:00', '2017-01-05 00:00:00'],\n",
              "              dtype='datetime64[ns]', freq=None)"
            ]
          },
          "metadata": {},
          "execution_count": 6
        }
      ]
    },
    {
      "cell_type": "markdown",
      "metadata": {
        "id": "4QN5kbw7vyQx"
      },
      "source": [
        "In India date is written first and In US month is written first this can create confusion for example\n"
      ]
    },
    {
      "cell_type": "code",
      "metadata": {
        "colab": {
          "base_uri": "https://localhost:8080/"
        },
        "id": "Hjmu0-6pvp1t",
        "outputId": "b1cf6ff6-e9f9-472c-982b-e2b8a0ce80d9"
      },
      "source": [
        "pd.to_datetime('5/1/2017')    # date is 5th jan but converted to may 1st"
      ],
      "execution_count": null,
      "outputs": [
        {
          "output_type": "execute_result",
          "data": {
            "text/plain": [
              "Timestamp('2017-05-01 00:00:00')"
            ]
          },
          "metadata": {},
          "execution_count": 9
        }
      ]
    },
    {
      "cell_type": "markdown",
      "metadata": {
        "id": "6_KFKCXBwQgR"
      },
      "source": [
        "This can be handeled using dayfirst parameter"
      ]
    },
    {
      "cell_type": "code",
      "metadata": {
        "colab": {
          "base_uri": "https://localhost:8080/"
        },
        "id": "jTusBmJEwGsg",
        "outputId": "0ae1d0b7-1ae3-459b-95c4-3a4fd3f471ea"
      },
      "source": [
        "pd.to_datetime('5/1/2017',dayfirst=True)"
      ],
      "execution_count": null,
      "outputs": [
        {
          "output_type": "execute_result",
          "data": {
            "text/plain": [
              "Timestamp('2017-01-05 00:00:00')"
            ]
          },
          "metadata": {},
          "execution_count": 10
        }
      ]
    },
    {
      "cell_type": "markdown",
      "metadata": {
        "id": "px3lJKBNxT2C"
      },
      "source": [
        "if we have some unwanted data in my dates list"
      ]
    },
    {
      "cell_type": "code",
      "metadata": {
        "colab": {
          "base_uri": "https://localhost:8080/",
          "height": 646
        },
        "id": "caunm1H5wgFm",
        "outputId": "ca0f3751-37bb-4726-ca81-971d3a08d53a"
      },
      "source": [
        "dates =['2017-01-05 2:30:00 PM','Jan 5, 2017 14:30:00', '01/05/2017', '2017.01.05', '2017/01/05', '20170105','abc']\n",
        "pd.to_datetime(dates)"
      ],
      "execution_count": null,
      "outputs": [
        {
          "output_type": "error",
          "ename": "ParserError",
          "evalue": "ignored",
          "traceback": [
            "\u001b[0;31m---------------------------------------------------------------------------\u001b[0m",
            "\u001b[0;31mTypeError\u001b[0m                                 Traceback (most recent call last)",
            "\u001b[0;32m/usr/local/lib/python3.7/dist-packages/pandas/core/arrays/datetimes.py\u001b[0m in \u001b[0;36mobjects_to_datetime64ns\u001b[0;34m(data, dayfirst, yearfirst, utc, errors, require_iso8601, allow_object)\u001b[0m\n\u001b[1;32m   2058\u001b[0m         \u001b[0;32mtry\u001b[0m\u001b[0;34m:\u001b[0m\u001b[0;34m\u001b[0m\u001b[0;34m\u001b[0m\u001b[0m\n\u001b[0;32m-> 2059\u001b[0;31m             \u001b[0mvalues\u001b[0m\u001b[0;34m,\u001b[0m \u001b[0mtz_parsed\u001b[0m \u001b[0;34m=\u001b[0m \u001b[0mconversion\u001b[0m\u001b[0;34m.\u001b[0m\u001b[0mdatetime_to_datetime64\u001b[0m\u001b[0;34m(\u001b[0m\u001b[0mdata\u001b[0m\u001b[0;34m)\u001b[0m\u001b[0;34m\u001b[0m\u001b[0;34m\u001b[0m\u001b[0m\n\u001b[0m\u001b[1;32m   2060\u001b[0m             \u001b[0;31m# If tzaware, these values represent unix timestamps, so we\u001b[0m\u001b[0;34m\u001b[0m\u001b[0;34m\u001b[0m\u001b[0;34m\u001b[0m\u001b[0m\n",
            "\u001b[0;32mpandas/_libs/tslibs/conversion.pyx\u001b[0m in \u001b[0;36mpandas._libs.tslibs.conversion.datetime_to_datetime64\u001b[0;34m()\u001b[0m\n",
            "\u001b[0;31mTypeError\u001b[0m: Unrecognized value type: <class 'str'>",
            "\nDuring handling of the above exception, another exception occurred:\n",
            "\u001b[0;31mParserError\u001b[0m                               Traceback (most recent call last)",
            "\u001b[0;32m<ipython-input-11-f1a47d1521ba>\u001b[0m in \u001b[0;36m<module>\u001b[0;34m()\u001b[0m\n\u001b[1;32m      1\u001b[0m \u001b[0mdates\u001b[0m \u001b[0;34m=\u001b[0m\u001b[0;34m[\u001b[0m\u001b[0;34m'2017-01-05 2:30:00 PM'\u001b[0m\u001b[0;34m,\u001b[0m\u001b[0;34m'Jan 5, 2017 14:30:00'\u001b[0m\u001b[0;34m,\u001b[0m \u001b[0;34m'01/05/2017'\u001b[0m\u001b[0;34m,\u001b[0m \u001b[0;34m'2017.01.05'\u001b[0m\u001b[0;34m,\u001b[0m \u001b[0;34m'2017/01/05'\u001b[0m\u001b[0;34m,\u001b[0m \u001b[0;34m'20170105'\u001b[0m\u001b[0;34m,\u001b[0m\u001b[0;34m'abc'\u001b[0m\u001b[0;34m]\u001b[0m\u001b[0;34m\u001b[0m\u001b[0;34m\u001b[0m\u001b[0m\n\u001b[0;32m----> 2\u001b[0;31m \u001b[0mpd\u001b[0m\u001b[0;34m.\u001b[0m\u001b[0mto_datetime\u001b[0m\u001b[0;34m(\u001b[0m\u001b[0mdates\u001b[0m\u001b[0;34m)\u001b[0m\u001b[0;34m\u001b[0m\u001b[0;34m\u001b[0m\u001b[0m\n\u001b[0m",
            "\u001b[0;32m/usr/local/lib/python3.7/dist-packages/pandas/core/tools/datetimes.py\u001b[0m in \u001b[0;36mto_datetime\u001b[0;34m(arg, errors, dayfirst, yearfirst, utc, format, exact, unit, infer_datetime_format, origin, cache)\u001b[0m\n\u001b[1;32m    826\u001b[0m             \u001b[0mresult\u001b[0m \u001b[0;34m=\u001b[0m \u001b[0m_convert_and_box_cache\u001b[0m\u001b[0;34m(\u001b[0m\u001b[0marg\u001b[0m\u001b[0;34m,\u001b[0m \u001b[0mcache_array\u001b[0m\u001b[0;34m)\u001b[0m\u001b[0;34m\u001b[0m\u001b[0;34m\u001b[0m\u001b[0m\n\u001b[1;32m    827\u001b[0m         \u001b[0;32melse\u001b[0m\u001b[0;34m:\u001b[0m\u001b[0;34m\u001b[0m\u001b[0;34m\u001b[0m\u001b[0m\n\u001b[0;32m--> 828\u001b[0;31m             \u001b[0mresult\u001b[0m \u001b[0;34m=\u001b[0m \u001b[0mconvert_listlike\u001b[0m\u001b[0;34m(\u001b[0m\u001b[0marg\u001b[0m\u001b[0;34m,\u001b[0m \u001b[0mformat\u001b[0m\u001b[0;34m)\u001b[0m\u001b[0;34m\u001b[0m\u001b[0;34m\u001b[0m\u001b[0m\n\u001b[0m\u001b[1;32m    829\u001b[0m     \u001b[0;32melse\u001b[0m\u001b[0;34m:\u001b[0m\u001b[0;34m\u001b[0m\u001b[0;34m\u001b[0m\u001b[0m\n\u001b[1;32m    830\u001b[0m         \u001b[0mresult\u001b[0m \u001b[0;34m=\u001b[0m \u001b[0mconvert_listlike\u001b[0m\u001b[0;34m(\u001b[0m\u001b[0mnp\u001b[0m\u001b[0;34m.\u001b[0m\u001b[0marray\u001b[0m\u001b[0;34m(\u001b[0m\u001b[0;34m[\u001b[0m\u001b[0marg\u001b[0m\u001b[0;34m]\u001b[0m\u001b[0;34m)\u001b[0m\u001b[0;34m,\u001b[0m \u001b[0mformat\u001b[0m\u001b[0;34m)\u001b[0m\u001b[0;34m[\u001b[0m\u001b[0;36m0\u001b[0m\u001b[0;34m]\u001b[0m\u001b[0;34m\u001b[0m\u001b[0;34m\u001b[0m\u001b[0m\n",
            "\u001b[0;32m/usr/local/lib/python3.7/dist-packages/pandas/core/tools/datetimes.py\u001b[0m in \u001b[0;36m_convert_listlike_datetimes\u001b[0;34m(arg, format, name, tz, unit, errors, infer_datetime_format, dayfirst, yearfirst, exact)\u001b[0m\n\u001b[1;32m    464\u001b[0m             \u001b[0merrors\u001b[0m\u001b[0;34m=\u001b[0m\u001b[0merrors\u001b[0m\u001b[0;34m,\u001b[0m\u001b[0;34m\u001b[0m\u001b[0;34m\u001b[0m\u001b[0m\n\u001b[1;32m    465\u001b[0m             \u001b[0mrequire_iso8601\u001b[0m\u001b[0;34m=\u001b[0m\u001b[0mrequire_iso8601\u001b[0m\u001b[0;34m,\u001b[0m\u001b[0;34m\u001b[0m\u001b[0;34m\u001b[0m\u001b[0m\n\u001b[0;32m--> 466\u001b[0;31m             \u001b[0mallow_object\u001b[0m\u001b[0;34m=\u001b[0m\u001b[0;32mTrue\u001b[0m\u001b[0;34m,\u001b[0m\u001b[0;34m\u001b[0m\u001b[0;34m\u001b[0m\u001b[0m\n\u001b[0m\u001b[1;32m    467\u001b[0m         )\n\u001b[1;32m    468\u001b[0m \u001b[0;34m\u001b[0m\u001b[0m\n",
            "\u001b[0;32m/usr/local/lib/python3.7/dist-packages/pandas/core/arrays/datetimes.py\u001b[0m in \u001b[0;36mobjects_to_datetime64ns\u001b[0;34m(data, dayfirst, yearfirst, utc, errors, require_iso8601, allow_object)\u001b[0m\n\u001b[1;32m   2062\u001b[0m             \u001b[0;32mreturn\u001b[0m \u001b[0mvalues\u001b[0m\u001b[0;34m.\u001b[0m\u001b[0mview\u001b[0m\u001b[0;34m(\u001b[0m\u001b[0;34m\"i8\"\u001b[0m\u001b[0;34m)\u001b[0m\u001b[0;34m,\u001b[0m \u001b[0mtz_parsed\u001b[0m\u001b[0;34m\u001b[0m\u001b[0;34m\u001b[0m\u001b[0m\n\u001b[1;32m   2063\u001b[0m         \u001b[0;32mexcept\u001b[0m \u001b[0;34m(\u001b[0m\u001b[0mValueError\u001b[0m\u001b[0;34m,\u001b[0m \u001b[0mTypeError\u001b[0m\u001b[0;34m)\u001b[0m\u001b[0;34m:\u001b[0m\u001b[0;34m\u001b[0m\u001b[0;34m\u001b[0m\u001b[0m\n\u001b[0;32m-> 2064\u001b[0;31m             \u001b[0;32mraise\u001b[0m \u001b[0me\u001b[0m\u001b[0;34m\u001b[0m\u001b[0;34m\u001b[0m\u001b[0m\n\u001b[0m\u001b[1;32m   2065\u001b[0m \u001b[0;34m\u001b[0m\u001b[0m\n\u001b[1;32m   2066\u001b[0m     \u001b[0;32mif\u001b[0m \u001b[0mtz_parsed\u001b[0m \u001b[0;32mis\u001b[0m \u001b[0;32mnot\u001b[0m \u001b[0;32mNone\u001b[0m\u001b[0;34m:\u001b[0m\u001b[0;34m\u001b[0m\u001b[0;34m\u001b[0m\u001b[0m\n",
            "\u001b[0;32m/usr/local/lib/python3.7/dist-packages/pandas/core/arrays/datetimes.py\u001b[0m in \u001b[0;36mobjects_to_datetime64ns\u001b[0;34m(data, dayfirst, yearfirst, utc, errors, require_iso8601, allow_object)\u001b[0m\n\u001b[1;32m   2053\u001b[0m             \u001b[0mdayfirst\u001b[0m\u001b[0;34m=\u001b[0m\u001b[0mdayfirst\u001b[0m\u001b[0;34m,\u001b[0m\u001b[0;34m\u001b[0m\u001b[0;34m\u001b[0m\u001b[0m\n\u001b[1;32m   2054\u001b[0m             \u001b[0myearfirst\u001b[0m\u001b[0;34m=\u001b[0m\u001b[0myearfirst\u001b[0m\u001b[0;34m,\u001b[0m\u001b[0;34m\u001b[0m\u001b[0;34m\u001b[0m\u001b[0m\n\u001b[0;32m-> 2055\u001b[0;31m             \u001b[0mrequire_iso8601\u001b[0m\u001b[0;34m=\u001b[0m\u001b[0mrequire_iso8601\u001b[0m\u001b[0;34m,\u001b[0m\u001b[0;34m\u001b[0m\u001b[0;34m\u001b[0m\u001b[0m\n\u001b[0m\u001b[1;32m   2056\u001b[0m         )\n\u001b[1;32m   2057\u001b[0m     \u001b[0;32mexcept\u001b[0m \u001b[0mValueError\u001b[0m \u001b[0;32mas\u001b[0m \u001b[0me\u001b[0m\u001b[0;34m:\u001b[0m\u001b[0;34m\u001b[0m\u001b[0;34m\u001b[0m\u001b[0m\n",
            "\u001b[0;32mpandas/_libs/tslib.pyx\u001b[0m in \u001b[0;36mpandas._libs.tslib.array_to_datetime\u001b[0;34m()\u001b[0m\n",
            "\u001b[0;32mpandas/_libs/tslib.pyx\u001b[0m in \u001b[0;36mpandas._libs.tslib.array_to_datetime\u001b[0;34m()\u001b[0m\n",
            "\u001b[0;32mpandas/_libs/tslib.pyx\u001b[0m in \u001b[0;36mpandas._libs.tslib.array_to_datetime_object\u001b[0;34m()\u001b[0m\n",
            "\u001b[0;32mpandas/_libs/tslib.pyx\u001b[0m in \u001b[0;36mpandas._libs.tslib.array_to_datetime_object\u001b[0;34m()\u001b[0m\n",
            "\u001b[0;32mpandas/_libs/tslibs/parsing.pyx\u001b[0m in \u001b[0;36mpandas._libs.tslibs.parsing.parse_datetime_string\u001b[0;34m()\u001b[0m\n",
            "\u001b[0;32m/usr/local/lib/python3.7/dist-packages/dateutil/parser/_parser.py\u001b[0m in \u001b[0;36mparse\u001b[0;34m(timestr, parserinfo, **kwargs)\u001b[0m\n\u001b[1;32m   1366\u001b[0m         \u001b[0;32mreturn\u001b[0m \u001b[0mparser\u001b[0m\u001b[0;34m(\u001b[0m\u001b[0mparserinfo\u001b[0m\u001b[0;34m)\u001b[0m\u001b[0;34m.\u001b[0m\u001b[0mparse\u001b[0m\u001b[0;34m(\u001b[0m\u001b[0mtimestr\u001b[0m\u001b[0;34m,\u001b[0m \u001b[0;34m**\u001b[0m\u001b[0mkwargs\u001b[0m\u001b[0;34m)\u001b[0m\u001b[0;34m\u001b[0m\u001b[0;34m\u001b[0m\u001b[0m\n\u001b[1;32m   1367\u001b[0m     \u001b[0;32melse\u001b[0m\u001b[0;34m:\u001b[0m\u001b[0;34m\u001b[0m\u001b[0;34m\u001b[0m\u001b[0m\n\u001b[0;32m-> 1368\u001b[0;31m         \u001b[0;32mreturn\u001b[0m \u001b[0mDEFAULTPARSER\u001b[0m\u001b[0;34m.\u001b[0m\u001b[0mparse\u001b[0m\u001b[0;34m(\u001b[0m\u001b[0mtimestr\u001b[0m\u001b[0;34m,\u001b[0m \u001b[0;34m**\u001b[0m\u001b[0mkwargs\u001b[0m\u001b[0;34m)\u001b[0m\u001b[0;34m\u001b[0m\u001b[0;34m\u001b[0m\u001b[0m\n\u001b[0m\u001b[1;32m   1369\u001b[0m \u001b[0;34m\u001b[0m\u001b[0m\n\u001b[1;32m   1370\u001b[0m \u001b[0;34m\u001b[0m\u001b[0m\n",
            "\u001b[0;32m/usr/local/lib/python3.7/dist-packages/dateutil/parser/_parser.py\u001b[0m in \u001b[0;36mparse\u001b[0;34m(self, timestr, default, ignoretz, tzinfos, **kwargs)\u001b[0m\n\u001b[1;32m    641\u001b[0m \u001b[0;34m\u001b[0m\u001b[0m\n\u001b[1;32m    642\u001b[0m         \u001b[0;32mif\u001b[0m \u001b[0mres\u001b[0m \u001b[0;32mis\u001b[0m \u001b[0;32mNone\u001b[0m\u001b[0;34m:\u001b[0m\u001b[0;34m\u001b[0m\u001b[0;34m\u001b[0m\u001b[0m\n\u001b[0;32m--> 643\u001b[0;31m             \u001b[0;32mraise\u001b[0m \u001b[0mParserError\u001b[0m\u001b[0;34m(\u001b[0m\u001b[0;34m\"Unknown string format: %s\"\u001b[0m\u001b[0;34m,\u001b[0m \u001b[0mtimestr\u001b[0m\u001b[0;34m)\u001b[0m\u001b[0;34m\u001b[0m\u001b[0;34m\u001b[0m\u001b[0m\n\u001b[0m\u001b[1;32m    644\u001b[0m \u001b[0;34m\u001b[0m\u001b[0m\n\u001b[1;32m    645\u001b[0m         \u001b[0;32mif\u001b[0m \u001b[0mlen\u001b[0m\u001b[0;34m(\u001b[0m\u001b[0mres\u001b[0m\u001b[0;34m)\u001b[0m \u001b[0;34m==\u001b[0m \u001b[0;36m0\u001b[0m\u001b[0;34m:\u001b[0m\u001b[0;34m\u001b[0m\u001b[0;34m\u001b[0m\u001b[0m\n",
            "\u001b[0;31mParserError\u001b[0m: Unknown string format: abc"
          ]
        }
      ]
    },
    {
      "cell_type": "markdown",
      "metadata": {
        "id": "lYoniSIcxeIE"
      },
      "source": [
        "this error can be ignored using error parameter"
      ]
    },
    {
      "cell_type": "code",
      "metadata": {
        "colab": {
          "base_uri": "https://localhost:8080/"
        },
        "id": "RW5Qtm8Vxboa",
        "outputId": "b2c7304f-d2f2-4c88-ce5d-e3f40f6d9bae"
      },
      "source": [
        "pd.to_datetime(dates,errors='ignore')"
      ],
      "execution_count": null,
      "outputs": [
        {
          "output_type": "execute_result",
          "data": {
            "text/plain": [
              "Index(['2017-01-05 2:30:00 PM', 'Jan 5, 2017 14:30:00', '01/05/2017',\n",
              "       '2017.01.05', '2017/01/05', '20170105', 'abc'],\n",
              "      dtype='object')"
            ]
          },
          "metadata": {},
          "execution_count": 13
        }
      ]
    },
    {
      "cell_type": "markdown",
      "metadata": {
        "id": "GM9RY7zyxr1D"
      },
      "source": [
        "or we can convert it into NaT( Not a timestamp)"
      ]
    },
    {
      "cell_type": "code",
      "metadata": {
        "colab": {
          "base_uri": "https://localhost:8080/"
        },
        "id": "RpJ36DtPxpIs",
        "outputId": "cf885b3d-dca1-4fbc-8f64-7d9d07ec8944"
      },
      "source": [
        "pd.to_datetime(dates,errors='coerce')"
      ],
      "execution_count": null,
      "outputs": [
        {
          "output_type": "execute_result",
          "data": {
            "text/plain": [
              "DatetimeIndex(['2017-01-05 14:30:00', '2017-01-05 14:30:00',\n",
              "               '2017-01-05 00:00:00', '2017-01-05 00:00:00',\n",
              "               '2017-01-05 00:00:00', '2017-01-05 00:00:00',\n",
              "                               'NaT'],\n",
              "              dtype='datetime64[ns]', freq=None)"
            ]
          },
          "metadata": {},
          "execution_count": 14
        }
      ]
    },
    {
      "cell_type": "markdown",
      "metadata": {
        "id": "I4bcfP3Hx6mR"
      },
      "source": [
        "If we have unix time stamp"
      ]
    },
    {
      "cell_type": "code",
      "metadata": {
        "colab": {
          "base_uri": "https://localhost:8080/"
        },
        "id": "zDUf7gblx5A_",
        "outputId": "7811b6df-4fa0-4d62-ece3-4344f936d220"
      },
      "source": [
        "t= 1501356749\n",
        "dt =pd.to_datetime(t,unit='s')\n",
        "dt\n",
        "\n"
      ],
      "execution_count": null,
      "outputs": [
        {
          "output_type": "execute_result",
          "data": {
            "text/plain": [
              "Timestamp('2017-07-29 19:32:29')"
            ]
          },
          "metadata": {},
          "execution_count": 18
        }
      ]
    },
    {
      "cell_type": "code",
      "metadata": {
        "colab": {
          "base_uri": "https://localhost:8080/"
        },
        "id": "PyeZV7SzyWmJ",
        "outputId": "57faf084-41cd-4996-a223-31461b9f912f"
      },
      "source": [
        "dt =pd.to_datetime([t],unit='s')\n",
        "dt.view('int64')"
      ],
      "execution_count": null,
      "outputs": [
        {
          "output_type": "execute_result",
          "data": {
            "text/plain": [
              "array([1501356749000000000])"
            ]
          },
          "metadata": {},
          "execution_count": 20
        }
      ]
    },
    {
      "cell_type": "markdown",
      "metadata": {
        "id": "Ldp_2CZ0y6NZ"
      },
      "source": [
        "### Period and PeriodIndex"
      ]
    },
    {
      "cell_type": "code",
      "metadata": {
        "colab": {
          "base_uri": "https://localhost:8080/"
        },
        "id": "VBwsGrcSywYP",
        "outputId": "90427bb3-822a-43a9-f58c-144e72e8c45e"
      },
      "source": [
        "import pandas as pd\n",
        "y = pd.Period('2016')\n",
        "y              # A-DEC means Annual Ending in Dec"
      ],
      "execution_count": null,
      "outputs": [
        {
          "output_type": "execute_result",
          "data": {
            "text/plain": [
              "Period('2016', 'A-DEC')"
            ]
          },
          "metadata": {},
          "execution_count": 24
        }
      ]
    },
    {
      "cell_type": "code",
      "metadata": {
        "colab": {
          "base_uri": "https://localhost:8080/"
        },
        "id": "sufg54JezgjG",
        "outputId": "5a07d42e-e511-4745-912c-b4488decdadd"
      },
      "source": [
        "dir(y)"
      ],
      "execution_count": null,
      "outputs": [
        {
          "output_type": "execute_result",
          "data": {
            "text/plain": [
              "['__add__',\n",
              " '__class__',\n",
              " '__delattr__',\n",
              " '__dict__',\n",
              " '__dir__',\n",
              " '__doc__',\n",
              " '__eq__',\n",
              " '__format__',\n",
              " '__ge__',\n",
              " '__getattribute__',\n",
              " '__gt__',\n",
              " '__hash__',\n",
              " '__init__',\n",
              " '__init_subclass__',\n",
              " '__le__',\n",
              " '__lt__',\n",
              " '__module__',\n",
              " '__ne__',\n",
              " '__new__',\n",
              " '__pyx_vtable__',\n",
              " '__radd__',\n",
              " '__reduce__',\n",
              " '__reduce_ex__',\n",
              " '__repr__',\n",
              " '__rsub__',\n",
              " '__setattr__',\n",
              " '__setstate__',\n",
              " '__sizeof__',\n",
              " '__str__',\n",
              " '__sub__',\n",
              " '__subclasshook__',\n",
              " '__weakref__',\n",
              " '_add_delta',\n",
              " '_add_offset',\n",
              " '_dtype',\n",
              " '_from_ordinal',\n",
              " '_get_to_timestamp_base',\n",
              " '_maybe_convert_freq',\n",
              " 'asfreq',\n",
              " 'day',\n",
              " 'dayofweek',\n",
              " 'dayofyear',\n",
              " 'days_in_month',\n",
              " 'daysinmonth',\n",
              " 'end_time',\n",
              " 'freq',\n",
              " 'freqstr',\n",
              " 'hour',\n",
              " 'is_leap_year',\n",
              " 'minute',\n",
              " 'month',\n",
              " 'now',\n",
              " 'ordinal',\n",
              " 'quarter',\n",
              " 'qyear',\n",
              " 'second',\n",
              " 'start_time',\n",
              " 'strftime',\n",
              " 'to_timestamp',\n",
              " 'week',\n",
              " 'weekday',\n",
              " 'weekofyear',\n",
              " 'year']"
            ]
          },
          "metadata": {},
          "execution_count": 25
        }
      ]
    },
    {
      "cell_type": "code",
      "metadata": {
        "colab": {
          "base_uri": "https://localhost:8080/"
        },
        "id": "OqVjPBNI1UNN",
        "outputId": "68703485-2a2a-43a7-d114-c1f673673e86"
      },
      "source": [
        "y.start_time"
      ],
      "execution_count": null,
      "outputs": [
        {
          "output_type": "execute_result",
          "data": {
            "text/plain": [
              "Timestamp('2016-01-01 00:00:00')"
            ]
          },
          "metadata": {},
          "execution_count": 26
        }
      ]
    },
    {
      "cell_type": "code",
      "metadata": {
        "colab": {
          "base_uri": "https://localhost:8080/"
        },
        "id": "LdAATgWf1ZB6",
        "outputId": "371b4549-c584-4e89-e647-8324fa6f17de"
      },
      "source": [
        "y.end_time"
      ],
      "execution_count": null,
      "outputs": [
        {
          "output_type": "execute_result",
          "data": {
            "text/plain": [
              "Timestamp('2016-12-31 23:59:59.999999999')"
            ]
          },
          "metadata": {},
          "execution_count": 27
        }
      ]
    },
    {
      "cell_type": "code",
      "metadata": {
        "colab": {
          "base_uri": "https://localhost:8080/"
        },
        "id": "7xZGM8iY1a8F",
        "outputId": "48aeec7a-c5d3-4899-b628-8f9c80a3d886"
      },
      "source": [
        "y.is_leap_year"
      ],
      "execution_count": null,
      "outputs": [
        {
          "output_type": "execute_result",
          "data": {
            "text/plain": [
              "True"
            ]
          },
          "metadata": {},
          "execution_count": 28
        }
      ]
    },
    {
      "cell_type": "markdown",
      "metadata": {
        "id": "aBuups9M1lQF"
      },
      "source": [
        "Can also create monthly time period"
      ]
    },
    {
      "cell_type": "code",
      "metadata": {
        "colab": {
          "base_uri": "https://localhost:8080/"
        },
        "id": "PqDEb7Ut1fA3",
        "outputId": "80d73d69-7d46-4633-acdc-c2fdbccf46e9"
      },
      "source": [
        "m = pd.Period('2011-01',freq='M')\n",
        "m"
      ],
      "execution_count": null,
      "outputs": [
        {
          "output_type": "execute_result",
          "data": {
            "text/plain": [
              "Period('2011-01', 'M')"
            ]
          },
          "metadata": {},
          "execution_count": 29
        }
      ]
    },
    {
      "cell_type": "code",
      "metadata": {
        "colab": {
          "base_uri": "https://localhost:8080/"
        },
        "id": "1iJkjBrE1vbd",
        "outputId": "25be2405-a0e8-484c-b303-2643167bddb2"
      },
      "source": [
        "m.start_time"
      ],
      "execution_count": null,
      "outputs": [
        {
          "output_type": "execute_result",
          "data": {
            "text/plain": [
              "Timestamp('2011-01-01 00:00:00')"
            ]
          },
          "metadata": {},
          "execution_count": 30
        }
      ]
    },
    {
      "cell_type": "code",
      "metadata": {
        "colab": {
          "base_uri": "https://localhost:8080/"
        },
        "id": "yvqS5I4E1xOS",
        "outputId": "81ca86d0-0f2c-4034-886f-8f1a41f58a0c"
      },
      "source": [
        "m.end_time"
      ],
      "execution_count": null,
      "outputs": [
        {
          "output_type": "execute_result",
          "data": {
            "text/plain": [
              "Timestamp('2011-01-31 23:59:59.999999999')"
            ]
          },
          "metadata": {},
          "execution_count": 32
        }
      ]
    },
    {
      "cell_type": "code",
      "metadata": {
        "colab": {
          "base_uri": "https://localhost:8080/"
        },
        "id": "Stph_kPT1yze",
        "outputId": "08a1329c-2ec0-40ea-9759-8ba12a6e997b"
      },
      "source": [
        "m+1"
      ],
      "execution_count": null,
      "outputs": [
        {
          "output_type": "execute_result",
          "data": {
            "text/plain": [
              "Period('2011-02', 'M')"
            ]
          },
          "metadata": {},
          "execution_count": 33
        }
      ]
    },
    {
      "cell_type": "code",
      "metadata": {
        "colab": {
          "base_uri": "https://localhost:8080/"
        },
        "id": "wShq5Xdy12GA",
        "outputId": "2147d513-8ba2-4dc6-f740-0846916ccfca"
      },
      "source": [
        "m-1"
      ],
      "execution_count": null,
      "outputs": [
        {
          "output_type": "execute_result",
          "data": {
            "text/plain": [
              "Period('2010-12', 'M')"
            ]
          },
          "metadata": {},
          "execution_count": 34
        }
      ]
    },
    {
      "cell_type": "code",
      "metadata": {
        "colab": {
          "base_uri": "https://localhost:8080/"
        },
        "id": "Gdl4HAEO180b",
        "outputId": "3928c680-690c-45b9-86b0-6b43ff774392"
      },
      "source": [
        "# lets create a daily Period\n",
        "d = pd.Period('2017-02-28',freq ='D')\n",
        "d"
      ],
      "execution_count": null,
      "outputs": [
        {
          "output_type": "execute_result",
          "data": {
            "text/plain": [
              "Period('2017-02-28', 'D')"
            ]
          },
          "metadata": {},
          "execution_count": 35
        }
      ]
    },
    {
      "cell_type": "markdown",
      "metadata": {
        "id": "ohb1irbY2Ygr"
      },
      "source": [
        "If I add 1 then it will give 1st march since year 2017 is not a leap yr"
      ]
    },
    {
      "cell_type": "code",
      "metadata": {
        "colab": {
          "base_uri": "https://localhost:8080/"
        },
        "id": "2r_VWE7C2XO0",
        "outputId": "a0dc9d99-eb42-422d-ac85-4436d1de2c76"
      },
      "source": [
        "d+1"
      ],
      "execution_count": null,
      "outputs": [
        {
          "output_type": "execute_result",
          "data": {
            "text/plain": [
              "Period('2017-03-01', 'D')"
            ]
          },
          "metadata": {},
          "execution_count": 36
        }
      ]
    },
    {
      "cell_type": "markdown",
      "metadata": {
        "id": "4iMwzPMk2hl_"
      },
      "source": [
        "What if the year is leap year"
      ]
    },
    {
      "cell_type": "code",
      "metadata": {
        "colab": {
          "base_uri": "https://localhost:8080/"
        },
        "id": "pkDQS1va2gOs",
        "outputId": "9a7ac07d-0563-4d78-828c-c229640a1b90"
      },
      "source": [
        "d = pd.Period('2016-02-28')\n",
        "d"
      ],
      "execution_count": null,
      "outputs": [
        {
          "output_type": "execute_result",
          "data": {
            "text/plain": [
              "Period('2016-02-28', 'D')"
            ]
          },
          "metadata": {},
          "execution_count": 37
        }
      ]
    },
    {
      "cell_type": "code",
      "metadata": {
        "colab": {
          "base_uri": "https://localhost:8080/"
        },
        "id": "-xgoCNa82r-J",
        "outputId": "c7402db6-ad84-447b-c040-50865aab5086"
      },
      "source": [
        "d+1"
      ],
      "execution_count": null,
      "outputs": [
        {
          "output_type": "execute_result",
          "data": {
            "text/plain": [
              "Period('2016-02-29', 'D')"
            ]
          },
          "metadata": {},
          "execution_count": 38
        }
      ]
    },
    {
      "cell_type": "markdown",
      "metadata": {
        "id": "uv0atFTS23FZ"
      },
      "source": [
        "Can also create Horly Period"
      ]
    },
    {
      "cell_type": "code",
      "metadata": {
        "colab": {
          "base_uri": "https://localhost:8080/"
        },
        "id": "vH7TKxPt2tCy",
        "outputId": "3a5edc9f-9460-4296-e874-d5853b09eb89"
      },
      "source": [
        "h =pd.Period('2021-10-17 23:00:00')\n",
        "h, h.start_time, h.end_time"
      ],
      "execution_count": null,
      "outputs": [
        {
          "output_type": "execute_result",
          "data": {
            "text/plain": [
              "(Period('2021-10-17 23:00:00', 'S'),\n",
              " Timestamp('2021-10-17 23:00:00'),\n",
              " Timestamp('2021-10-17 23:00:00.999999999'))"
            ]
          },
          "metadata": {},
          "execution_count": 41
        }
      ]
    },
    {
      "cell_type": "markdown",
      "metadata": {
        "id": "5Z2dGX333w9n"
      },
      "source": [
        "Quartely Period"
      ]
    },
    {
      "cell_type": "code",
      "metadata": {
        "colab": {
          "base_uri": "https://localhost:8080/"
        },
        "id": "h_qL4ZaQ3DB3",
        "outputId": "fa8bbef2-4d7b-4776-d426-5f2df61cd1b6"
      },
      "source": [
        "q = pd.Period('2021Q1')\n",
        "q"
      ],
      "execution_count": null,
      "outputs": [
        {
          "output_type": "execute_result",
          "data": {
            "text/plain": [
              "Period('2021Q1', 'Q-DEC')"
            ]
          },
          "metadata": {},
          "execution_count": 42
        }
      ]
    },
    {
      "cell_type": "code",
      "metadata": {
        "colab": {
          "base_uri": "https://localhost:8080/"
        },
        "id": "46WChO_y35HR",
        "outputId": "6a7b23d8-7cbb-4d3d-b445-a4658c07339c"
      },
      "source": [
        "q+1"
      ],
      "execution_count": null,
      "outputs": [
        {
          "output_type": "execute_result",
          "data": {
            "text/plain": [
              "Period('2021Q2', 'Q-DEC')"
            ]
          },
          "metadata": {},
          "execution_count": 43
        }
      ]
    },
    {
      "cell_type": "markdown",
      "metadata": {
        "id": "E6i51G3s38cN"
      },
      "source": [
        "What if my quater ends in Jan and not in Dec"
      ]
    },
    {
      "cell_type": "code",
      "metadata": {
        "colab": {
          "base_uri": "https://localhost:8080/"
        },
        "id": "6Ak5ytKe36s1",
        "outputId": "5fbbc189-65e6-4092-a8bd-04a1dbf5890c"
      },
      "source": [
        "q = pd.Period('2021Q1',freq ='Q-JAN')\n",
        "q,q.start_time\n"
      ],
      "execution_count": null,
      "outputs": [
        {
          "output_type": "execute_result",
          "data": {
            "text/plain": [
              "(Period('2021Q1', 'Q-JAN'), Timestamp('2020-02-01 00:00:00'))"
            ]
          },
          "metadata": {},
          "execution_count": 44
        }
      ]
    },
    {
      "cell_type": "markdown",
      "metadata": {
        "id": "0qKj7FVY5INv"
      },
      "source": [
        "Creatin Period Index"
      ]
    },
    {
      "cell_type": "code",
      "metadata": {
        "colab": {
          "base_uri": "https://localhost:8080/"
        },
        "id": "pmHkKysM4P8R",
        "outputId": "a5ff1c61-40bc-42c1-8beb-deb3f44be327"
      },
      "source": [
        "idx = pd.period_range('2011', '2017' ,freq ='Q')\n",
        "idx"
      ],
      "execution_count": null,
      "outputs": [
        {
          "output_type": "execute_result",
          "data": {
            "text/plain": [
              "PeriodIndex(['2011Q1', '2011Q2', '2011Q3', '2011Q4', '2012Q1', '2012Q2',\n",
              "             '2012Q3', '2012Q4', '2013Q1', '2013Q2', '2013Q3', '2013Q4',\n",
              "             '2014Q1', '2014Q2', '2014Q3', '2014Q4', '2015Q1', '2015Q2',\n",
              "             '2015Q3', '2015Q4', '2016Q1', '2016Q2', '2016Q3', '2016Q4',\n",
              "             '2017Q1'],\n",
              "            dtype='period[Q-DEC]', freq='Q-DEC')"
            ]
          },
          "metadata": {},
          "execution_count": 53
        }
      ]
    },
    {
      "cell_type": "code",
      "metadata": {
        "colab": {
          "base_uri": "https://localhost:8080/"
        },
        "id": "_NxL9c4F5TzF",
        "outputId": "f2e9db13-7015-4218-e92f-1b481ddad5a2"
      },
      "source": [
        "import numpy as np\n",
        "t= pd.Series(np.random.rand(len(idx)),idx)\n",
        "t"
      ],
      "execution_count": null,
      "outputs": [
        {
          "output_type": "execute_result",
          "data": {
            "text/plain": [
              "2011Q1    0.195314\n",
              "2011Q2    0.225379\n",
              "2011Q3    0.574870\n",
              "2011Q4    0.029984\n",
              "2012Q1    0.644824\n",
              "2012Q2    0.006758\n",
              "2012Q3    0.781066\n",
              "2012Q4    0.532681\n",
              "2013Q1    0.907870\n",
              "2013Q2    0.592689\n",
              "2013Q3    0.559699\n",
              "2013Q4    0.405134\n",
              "2014Q1    0.425134\n",
              "2014Q2    0.363357\n",
              "2014Q3    0.972925\n",
              "2014Q4    0.709577\n",
              "2015Q1    0.169832\n",
              "2015Q2    0.532325\n",
              "2015Q3    0.240446\n",
              "2015Q4    0.674254\n",
              "2016Q1    0.702055\n",
              "2016Q2    0.037554\n",
              "2016Q3    0.583573\n",
              "2016Q4    0.429505\n",
              "2017Q1    0.587173\n",
              "Freq: Q-DEC, dtype: float64"
            ]
          },
          "metadata": {},
          "execution_count": 54
        }
      ]
    },
    {
      "cell_type": "markdown",
      "metadata": {
        "id": "VOeuZTDB53HG"
      },
      "source": [
        "Benifit of period Index is We can retrive all quaters of 2011 in the following way"
      ]
    },
    {
      "cell_type": "code",
      "metadata": {
        "colab": {
          "base_uri": "https://localhost:8080/"
        },
        "id": "frrD-hkI5fCg",
        "outputId": "d3b29aa0-5d4c-47cf-a8a0-9bb1bf0612ac"
      },
      "source": [
        "t['2011']"
      ],
      "execution_count": null,
      "outputs": [
        {
          "output_type": "execute_result",
          "data": {
            "text/plain": [
              "2011Q1    0.195314\n",
              "2011Q2    0.225379\n",
              "2011Q3    0.574870\n",
              "2011Q4    0.029984\n",
              "Freq: Q-DEC, dtype: float64"
            ]
          },
          "metadata": {},
          "execution_count": 55
        }
      ]
    },
    {
      "cell_type": "markdown",
      "metadata": {
        "id": "WyicJWG66YFJ"
      },
      "source": [
        "We can convert period index to date time index"
      ]
    },
    {
      "cell_type": "code",
      "metadata": {
        "colab": {
          "base_uri": "https://localhost:8080/"
        },
        "id": "YYeejhnQ6A36",
        "outputId": "e0036be8-89af-46cd-8c6e-f48632383241"
      },
      "source": [
        "ts =  t.to_timestamp()\n",
        "ts"
      ],
      "execution_count": null,
      "outputs": [
        {
          "output_type": "execute_result",
          "data": {
            "text/plain": [
              "2011-01-01    0.195314\n",
              "2011-04-01    0.225379\n",
              "2011-07-01    0.574870\n",
              "2011-10-01    0.029984\n",
              "2012-01-01    0.644824\n",
              "2012-04-01    0.006758\n",
              "2012-07-01    0.781066\n",
              "2012-10-01    0.532681\n",
              "2013-01-01    0.907870\n",
              "2013-04-01    0.592689\n",
              "2013-07-01    0.559699\n",
              "2013-10-01    0.405134\n",
              "2014-01-01    0.425134\n",
              "2014-04-01    0.363357\n",
              "2014-07-01    0.972925\n",
              "2014-10-01    0.709577\n",
              "2015-01-01    0.169832\n",
              "2015-04-01    0.532325\n",
              "2015-07-01    0.240446\n",
              "2015-10-01    0.674254\n",
              "2016-01-01    0.702055\n",
              "2016-04-01    0.037554\n",
              "2016-07-01    0.583573\n",
              "2016-10-01    0.429505\n",
              "2017-01-01    0.587173\n",
              "Freq: QS-OCT, dtype: float64"
            ]
          },
          "metadata": {},
          "execution_count": 56
        }
      ]
    },
    {
      "cell_type": "markdown",
      "metadata": {
        "id": "6iQ7OOg46naN"
      },
      "source": [
        "Can convert back to period index using `to_period`"
      ]
    },
    {
      "cell_type": "code",
      "metadata": {
        "colab": {
          "base_uri": "https://localhost:8080/"
        },
        "id": "zR7yH9cY6iHH",
        "outputId": "9259cd0e-f2eb-4d59-c8d1-273b90e67f96"
      },
      "source": [
        "ts.to_period()"
      ],
      "execution_count": null,
      "outputs": [
        {
          "output_type": "execute_result",
          "data": {
            "text/plain": [
              "2011Q1    0.195314\n",
              "2011Q2    0.225379\n",
              "2011Q3    0.574870\n",
              "2011Q4    0.029984\n",
              "2012Q1    0.644824\n",
              "2012Q2    0.006758\n",
              "2012Q3    0.781066\n",
              "2012Q4    0.532681\n",
              "2013Q1    0.907870\n",
              "2013Q2    0.592689\n",
              "2013Q3    0.559699\n",
              "2013Q4    0.405134\n",
              "2014Q1    0.425134\n",
              "2014Q2    0.363357\n",
              "2014Q3    0.972925\n",
              "2014Q4    0.709577\n",
              "2015Q1    0.169832\n",
              "2015Q2    0.532325\n",
              "2015Q3    0.240446\n",
              "2015Q4    0.674254\n",
              "2016Q1    0.702055\n",
              "2016Q2    0.037554\n",
              "2016Q3    0.583573\n",
              "2016Q4    0.429505\n",
              "2017Q1    0.587173\n",
              "Freq: Q-DEC, dtype: float64"
            ]
          },
          "metadata": {},
          "execution_count": 57
        }
      ]
    },
    {
      "cell_type": "code",
      "metadata": {
        "colab": {
          "base_uri": "https://localhost:8080/",
          "height": 142
        },
        "id": "KlhE5fkH6vfZ",
        "outputId": "9f9d0346-ae1b-45a4-a640-926f8b362893"
      },
      "source": [
        "url = 'https://github.com/codebasics/py/raw/master/pandas/18_ts_period/wmt.csv'\n",
        "df = pd.read_csv(url)\n",
        "df"
      ],
      "execution_count": null,
      "outputs": [
        {
          "output_type": "execute_result",
          "data": {
            "text/html": [
              "<div>\n",
              "<style scoped>\n",
              "    .dataframe tbody tr th:only-of-type {\n",
              "        vertical-align: middle;\n",
              "    }\n",
              "\n",
              "    .dataframe tbody tr th {\n",
              "        vertical-align: top;\n",
              "    }\n",
              "\n",
              "    .dataframe thead th {\n",
              "        text-align: right;\n",
              "    }\n",
              "</style>\n",
              "<table border=\"1\" class=\"dataframe\">\n",
              "  <thead>\n",
              "    <tr style=\"text-align: right;\">\n",
              "      <th></th>\n",
              "      <th>Line Item</th>\n",
              "      <th>2017Q1</th>\n",
              "      <th>2017Q2</th>\n",
              "      <th>2017Q3</th>\n",
              "      <th>2017Q4</th>\n",
              "      <th>2018Q1</th>\n",
              "    </tr>\n",
              "  </thead>\n",
              "  <tbody>\n",
              "    <tr>\n",
              "      <th>0</th>\n",
              "      <td>Revenue</td>\n",
              "      <td>115904</td>\n",
              "      <td>120854</td>\n",
              "      <td>118179</td>\n",
              "      <td>130936</td>\n",
              "      <td>117542</td>\n",
              "    </tr>\n",
              "    <tr>\n",
              "      <th>1</th>\n",
              "      <td>Expenses</td>\n",
              "      <td>86544</td>\n",
              "      <td>89485</td>\n",
              "      <td>87484</td>\n",
              "      <td>97743</td>\n",
              "      <td>87688</td>\n",
              "    </tr>\n",
              "    <tr>\n",
              "      <th>2</th>\n",
              "      <td>Profit</td>\n",
              "      <td>29360</td>\n",
              "      <td>31369</td>\n",
              "      <td>30695</td>\n",
              "      <td>33193</td>\n",
              "      <td>29854</td>\n",
              "    </tr>\n",
              "  </tbody>\n",
              "</table>\n",
              "</div>"
            ],
            "text/plain": [
              "  Line Item  2017Q1  2017Q2  2017Q3  2017Q4  2018Q1\n",
              "0   Revenue  115904  120854  118179  130936  117542\n",
              "1  Expenses   86544   89485   87484   97743   87688\n",
              "2    Profit   29360   31369   30695   33193   29854"
            ]
          },
          "metadata": {},
          "execution_count": 59
        }
      ]
    },
    {
      "cell_type": "code",
      "metadata": {
        "colab": {
          "base_uri": "https://localhost:8080/",
          "height": 173
        },
        "id": "9HSsDwns775d",
        "outputId": "651d47bc-aeb3-400e-d969-477a82c72040"
      },
      "source": [
        "# Set Index as Line Item\n",
        "df.set_index('Line Item',inplace=True)\n",
        "df\n"
      ],
      "execution_count": null,
      "outputs": [
        {
          "output_type": "execute_result",
          "data": {
            "text/html": [
              "<div>\n",
              "<style scoped>\n",
              "    .dataframe tbody tr th:only-of-type {\n",
              "        vertical-align: middle;\n",
              "    }\n",
              "\n",
              "    .dataframe tbody tr th {\n",
              "        vertical-align: top;\n",
              "    }\n",
              "\n",
              "    .dataframe thead th {\n",
              "        text-align: right;\n",
              "    }\n",
              "</style>\n",
              "<table border=\"1\" class=\"dataframe\">\n",
              "  <thead>\n",
              "    <tr style=\"text-align: right;\">\n",
              "      <th></th>\n",
              "      <th>2017Q1</th>\n",
              "      <th>2017Q2</th>\n",
              "      <th>2017Q3</th>\n",
              "      <th>2017Q4</th>\n",
              "      <th>2018Q1</th>\n",
              "    </tr>\n",
              "    <tr>\n",
              "      <th>Line Item</th>\n",
              "      <th></th>\n",
              "      <th></th>\n",
              "      <th></th>\n",
              "      <th></th>\n",
              "      <th></th>\n",
              "    </tr>\n",
              "  </thead>\n",
              "  <tbody>\n",
              "    <tr>\n",
              "      <th>Revenue</th>\n",
              "      <td>115904</td>\n",
              "      <td>120854</td>\n",
              "      <td>118179</td>\n",
              "      <td>130936</td>\n",
              "      <td>117542</td>\n",
              "    </tr>\n",
              "    <tr>\n",
              "      <th>Expenses</th>\n",
              "      <td>86544</td>\n",
              "      <td>89485</td>\n",
              "      <td>87484</td>\n",
              "      <td>97743</td>\n",
              "      <td>87688</td>\n",
              "    </tr>\n",
              "    <tr>\n",
              "      <th>Profit</th>\n",
              "      <td>29360</td>\n",
              "      <td>31369</td>\n",
              "      <td>30695</td>\n",
              "      <td>33193</td>\n",
              "      <td>29854</td>\n",
              "    </tr>\n",
              "  </tbody>\n",
              "</table>\n",
              "</div>"
            ],
            "text/plain": [
              "           2017Q1  2017Q2  2017Q3  2017Q4  2018Q1\n",
              "Line Item                                        \n",
              "Revenue    115904  120854  118179  130936  117542\n",
              "Expenses    86544   89485   87484   97743   87688\n",
              "Profit      29360   31369   30695   33193   29854"
            ]
          },
          "metadata": {},
          "execution_count": 60
        }
      ]
    },
    {
      "cell_type": "code",
      "metadata": {
        "colab": {
          "base_uri": "https://localhost:8080/",
          "height": 204
        },
        "id": "lvst77In8J9F",
        "outputId": "4acb813d-0224-4fd6-d2fc-968da8437329"
      },
      "source": [
        "# Transpose the Df\n",
        "df = df.T\n",
        "df"
      ],
      "execution_count": null,
      "outputs": [
        {
          "output_type": "execute_result",
          "data": {
            "text/html": [
              "<div>\n",
              "<style scoped>\n",
              "    .dataframe tbody tr th:only-of-type {\n",
              "        vertical-align: middle;\n",
              "    }\n",
              "\n",
              "    .dataframe tbody tr th {\n",
              "        vertical-align: top;\n",
              "    }\n",
              "\n",
              "    .dataframe thead th {\n",
              "        text-align: right;\n",
              "    }\n",
              "</style>\n",
              "<table border=\"1\" class=\"dataframe\">\n",
              "  <thead>\n",
              "    <tr style=\"text-align: right;\">\n",
              "      <th>Line Item</th>\n",
              "      <th>Revenue</th>\n",
              "      <th>Expenses</th>\n",
              "      <th>Profit</th>\n",
              "    </tr>\n",
              "  </thead>\n",
              "  <tbody>\n",
              "    <tr>\n",
              "      <th>2017Q1</th>\n",
              "      <td>115904</td>\n",
              "      <td>86544</td>\n",
              "      <td>29360</td>\n",
              "    </tr>\n",
              "    <tr>\n",
              "      <th>2017Q2</th>\n",
              "      <td>120854</td>\n",
              "      <td>89485</td>\n",
              "      <td>31369</td>\n",
              "    </tr>\n",
              "    <tr>\n",
              "      <th>2017Q3</th>\n",
              "      <td>118179</td>\n",
              "      <td>87484</td>\n",
              "      <td>30695</td>\n",
              "    </tr>\n",
              "    <tr>\n",
              "      <th>2017Q4</th>\n",
              "      <td>130936</td>\n",
              "      <td>97743</td>\n",
              "      <td>33193</td>\n",
              "    </tr>\n",
              "    <tr>\n",
              "      <th>2018Q1</th>\n",
              "      <td>117542</td>\n",
              "      <td>87688</td>\n",
              "      <td>29854</td>\n",
              "    </tr>\n",
              "  </tbody>\n",
              "</table>\n",
              "</div>"
            ],
            "text/plain": [
              "Line Item  Revenue  Expenses  Profit\n",
              "2017Q1      115904     86544   29360\n",
              "2017Q2      120854     89485   31369\n",
              "2017Q3      118179     87484   30695\n",
              "2017Q4      130936     97743   33193\n",
              "2018Q1      117542     87688   29854"
            ]
          },
          "metadata": {},
          "execution_count": 63
        }
      ]
    },
    {
      "cell_type": "code",
      "metadata": {
        "colab": {
          "base_uri": "https://localhost:8080/"
        },
        "id": "SXNm-6QM8OZW",
        "outputId": "6af8c69d-a5a8-471a-89aa-3552ce9b550c"
      },
      "source": [
        "df.index  # right now to the index is of type object"
      ],
      "execution_count": null,
      "outputs": [
        {
          "output_type": "execute_result",
          "data": {
            "text/plain": [
              "Index(['2017Q1', '2017Q2', '2017Q3', '2017Q4', '2018Q1'], dtype='object')"
            ]
          },
          "metadata": {},
          "execution_count": 65
        }
      ]
    },
    {
      "cell_type": "code",
      "metadata": {
        "colab": {
          "base_uri": "https://localhost:8080/"
        },
        "id": "DoizHEto8a2p",
        "outputId": "33fa8a4b-9b63-4d08-c9a8-5cf5986d3c23"
      },
      "source": [
        "# Convert index to period type \n",
        "df.index = pd.PeriodIndex(df.index,freq='Q-JAN')\n",
        "df.index"
      ],
      "execution_count": null,
      "outputs": [
        {
          "output_type": "execute_result",
          "data": {
            "text/plain": [
              "PeriodIndex(['2017Q1', '2017Q2', '2017Q3', '2017Q4', '2018Q1'], dtype='period[Q-JAN]', freq='Q-JAN')"
            ]
          },
          "metadata": {},
          "execution_count": 66
        }
      ]
    },
    {
      "cell_type": "code",
      "metadata": {
        "colab": {
          "base_uri": "https://localhost:8080/",
          "height": 204
        },
        "id": "41Gm_upe8stN",
        "outputId": "1a31a26e-01e7-4a1a-a7d4-dfc4553e5bc4"
      },
      "source": [
        "# Add column start time\n",
        "df['start time'] = df.index.map(lambda x: x.start_time)\n",
        "df"
      ],
      "execution_count": null,
      "outputs": [
        {
          "output_type": "execute_result",
          "data": {
            "text/html": [
              "<div>\n",
              "<style scoped>\n",
              "    .dataframe tbody tr th:only-of-type {\n",
              "        vertical-align: middle;\n",
              "    }\n",
              "\n",
              "    .dataframe tbody tr th {\n",
              "        vertical-align: top;\n",
              "    }\n",
              "\n",
              "    .dataframe thead th {\n",
              "        text-align: right;\n",
              "    }\n",
              "</style>\n",
              "<table border=\"1\" class=\"dataframe\">\n",
              "  <thead>\n",
              "    <tr style=\"text-align: right;\">\n",
              "      <th>Line Item</th>\n",
              "      <th>Revenue</th>\n",
              "      <th>Expenses</th>\n",
              "      <th>Profit</th>\n",
              "      <th>start time</th>\n",
              "    </tr>\n",
              "  </thead>\n",
              "  <tbody>\n",
              "    <tr>\n",
              "      <th>2017Q1</th>\n",
              "      <td>115904</td>\n",
              "      <td>86544</td>\n",
              "      <td>29360</td>\n",
              "      <td>2016-02-01</td>\n",
              "    </tr>\n",
              "    <tr>\n",
              "      <th>2017Q2</th>\n",
              "      <td>120854</td>\n",
              "      <td>89485</td>\n",
              "      <td>31369</td>\n",
              "      <td>2016-05-01</td>\n",
              "    </tr>\n",
              "    <tr>\n",
              "      <th>2017Q3</th>\n",
              "      <td>118179</td>\n",
              "      <td>87484</td>\n",
              "      <td>30695</td>\n",
              "      <td>2016-08-01</td>\n",
              "    </tr>\n",
              "    <tr>\n",
              "      <th>2017Q4</th>\n",
              "      <td>130936</td>\n",
              "      <td>97743</td>\n",
              "      <td>33193</td>\n",
              "      <td>2016-11-01</td>\n",
              "    </tr>\n",
              "    <tr>\n",
              "      <th>2018Q1</th>\n",
              "      <td>117542</td>\n",
              "      <td>87688</td>\n",
              "      <td>29854</td>\n",
              "      <td>2017-02-01</td>\n",
              "    </tr>\n",
              "  </tbody>\n",
              "</table>\n",
              "</div>"
            ],
            "text/plain": [
              "Line Item  Revenue  Expenses  Profit start time\n",
              "2017Q1      115904     86544   29360 2016-02-01\n",
              "2017Q2      120854     89485   31369 2016-05-01\n",
              "2017Q3      118179     87484   30695 2016-08-01\n",
              "2017Q4      130936     97743   33193 2016-11-01\n",
              "2018Q1      117542     87688   29854 2017-02-01"
            ]
          },
          "metadata": {},
          "execution_count": 67
        }
      ]
    },
    {
      "cell_type": "code",
      "metadata": {
        "colab": {
          "base_uri": "https://localhost:8080/",
          "height": 204
        },
        "id": "JBb0F_n386wq",
        "outputId": "be4f0a32-5b03-4b27-9383-34e8cf787687"
      },
      "source": [
        "# Add end time\n",
        "df['end time'] = df.index.map(lambda x: x.end_time)\n",
        "df"
      ],
      "execution_count": null,
      "outputs": [
        {
          "output_type": "execute_result",
          "data": {
            "text/html": [
              "<div>\n",
              "<style scoped>\n",
              "    .dataframe tbody tr th:only-of-type {\n",
              "        vertical-align: middle;\n",
              "    }\n",
              "\n",
              "    .dataframe tbody tr th {\n",
              "        vertical-align: top;\n",
              "    }\n",
              "\n",
              "    .dataframe thead th {\n",
              "        text-align: right;\n",
              "    }\n",
              "</style>\n",
              "<table border=\"1\" class=\"dataframe\">\n",
              "  <thead>\n",
              "    <tr style=\"text-align: right;\">\n",
              "      <th>Line Item</th>\n",
              "      <th>Revenue</th>\n",
              "      <th>Expenses</th>\n",
              "      <th>Profit</th>\n",
              "      <th>start time</th>\n",
              "      <th>end time</th>\n",
              "    </tr>\n",
              "  </thead>\n",
              "  <tbody>\n",
              "    <tr>\n",
              "      <th>2017Q1</th>\n",
              "      <td>115904</td>\n",
              "      <td>86544</td>\n",
              "      <td>29360</td>\n",
              "      <td>2016-02-01</td>\n",
              "      <td>2016-04-30 23:59:59.999999999</td>\n",
              "    </tr>\n",
              "    <tr>\n",
              "      <th>2017Q2</th>\n",
              "      <td>120854</td>\n",
              "      <td>89485</td>\n",
              "      <td>31369</td>\n",
              "      <td>2016-05-01</td>\n",
              "      <td>2016-07-31 23:59:59.999999999</td>\n",
              "    </tr>\n",
              "    <tr>\n",
              "      <th>2017Q3</th>\n",
              "      <td>118179</td>\n",
              "      <td>87484</td>\n",
              "      <td>30695</td>\n",
              "      <td>2016-08-01</td>\n",
              "      <td>2016-10-31 23:59:59.999999999</td>\n",
              "    </tr>\n",
              "    <tr>\n",
              "      <th>2017Q4</th>\n",
              "      <td>130936</td>\n",
              "      <td>97743</td>\n",
              "      <td>33193</td>\n",
              "      <td>2016-11-01</td>\n",
              "      <td>2017-01-31 23:59:59.999999999</td>\n",
              "    </tr>\n",
              "    <tr>\n",
              "      <th>2018Q1</th>\n",
              "      <td>117542</td>\n",
              "      <td>87688</td>\n",
              "      <td>29854</td>\n",
              "      <td>2017-02-01</td>\n",
              "      <td>2017-04-30 23:59:59.999999999</td>\n",
              "    </tr>\n",
              "  </tbody>\n",
              "</table>\n",
              "</div>"
            ],
            "text/plain": [
              "Line Item  Revenue  Expenses  Profit start time                      end time\n",
              "2017Q1      115904     86544   29360 2016-02-01 2016-04-30 23:59:59.999999999\n",
              "2017Q2      120854     89485   31369 2016-05-01 2016-07-31 23:59:59.999999999\n",
              "2017Q3      118179     87484   30695 2016-08-01 2016-10-31 23:59:59.999999999\n",
              "2017Q4      130936     97743   33193 2016-11-01 2017-01-31 23:59:59.999999999\n",
              "2018Q1      117542     87688   29854 2017-02-01 2017-04-30 23:59:59.999999999"
            ]
          },
          "metadata": {},
          "execution_count": 69
        }
      ]
    },
    {
      "cell_type": "markdown",
      "metadata": {
        "id": "98IYKoqc9Z2l"
      },
      "source": [
        "### TimeZone handeling"
      ]
    },
    {
      "cell_type": "code",
      "metadata": {
        "colab": {
          "base_uri": "https://localhost:8080/",
          "height": 235
        },
        "id": "APaLlTxY85Qs",
        "outputId": "02e561d2-9061-4d12-eb15-05f5785c2dfa"
      },
      "source": [
        "url ='https://github.com/codebasics/py/raw/master/pandas/19_ts_timezone/msft.csv'\n",
        "df = pd.read_csv(url,parse_dates=['Date Time'],header=1)\n",
        "df\n"
      ],
      "execution_count": null,
      "outputs": [
        {
          "output_type": "execute_result",
          "data": {
            "text/html": [
              "<div>\n",
              "<style scoped>\n",
              "    .dataframe tbody tr th:only-of-type {\n",
              "        vertical-align: middle;\n",
              "    }\n",
              "\n",
              "    .dataframe tbody tr th {\n",
              "        vertical-align: top;\n",
              "    }\n",
              "\n",
              "    .dataframe thead th {\n",
              "        text-align: right;\n",
              "    }\n",
              "</style>\n",
              "<table border=\"1\" class=\"dataframe\">\n",
              "  <thead>\n",
              "    <tr style=\"text-align: right;\">\n",
              "      <th></th>\n",
              "      <th>Date Time</th>\n",
              "      <th>Price</th>\n",
              "    </tr>\n",
              "  </thead>\n",
              "  <tbody>\n",
              "    <tr>\n",
              "      <th>0</th>\n",
              "      <td>2017-08-17 09:00:00</td>\n",
              "      <td>72.38</td>\n",
              "    </tr>\n",
              "    <tr>\n",
              "      <th>1</th>\n",
              "      <td>2017-08-17 09:15:00</td>\n",
              "      <td>71.00</td>\n",
              "    </tr>\n",
              "    <tr>\n",
              "      <th>2</th>\n",
              "      <td>2017-08-17 09:30:00</td>\n",
              "      <td>71.67</td>\n",
              "    </tr>\n",
              "    <tr>\n",
              "      <th>3</th>\n",
              "      <td>2017-08-17 10:00:00</td>\n",
              "      <td>72.80</td>\n",
              "    </tr>\n",
              "    <tr>\n",
              "      <th>4</th>\n",
              "      <td>2017-08-17 10:30:00</td>\n",
              "      <td>73.00</td>\n",
              "    </tr>\n",
              "    <tr>\n",
              "      <th>5</th>\n",
              "      <td>2017-08-17 11:00:00</td>\n",
              "      <td>72.50</td>\n",
              "    </tr>\n",
              "  </tbody>\n",
              "</table>\n",
              "</div>"
            ],
            "text/plain": [
              "            Date Time  Price\n",
              "0 2017-08-17 09:00:00  72.38\n",
              "1 2017-08-17 09:15:00  71.00\n",
              "2 2017-08-17 09:30:00  71.67\n",
              "3 2017-08-17 10:00:00  72.80\n",
              "4 2017-08-17 10:30:00  73.00\n",
              "5 2017-08-17 11:00:00  72.50"
            ]
          },
          "metadata": {},
          "execution_count": 79
        }
      ]
    },
    {
      "cell_type": "code",
      "metadata": {
        "colab": {
          "base_uri": "https://localhost:8080/",
          "height": 266
        },
        "id": "24fyrXpSAcab",
        "outputId": "41c02106-8c11-4352-bb45-2554b95e2f18"
      },
      "source": [
        "df.set_index('Date Time',inplace=True)\n",
        "df"
      ],
      "execution_count": null,
      "outputs": [
        {
          "output_type": "execute_result",
          "data": {
            "text/html": [
              "<div>\n",
              "<style scoped>\n",
              "    .dataframe tbody tr th:only-of-type {\n",
              "        vertical-align: middle;\n",
              "    }\n",
              "\n",
              "    .dataframe tbody tr th {\n",
              "        vertical-align: top;\n",
              "    }\n",
              "\n",
              "    .dataframe thead th {\n",
              "        text-align: right;\n",
              "    }\n",
              "</style>\n",
              "<table border=\"1\" class=\"dataframe\">\n",
              "  <thead>\n",
              "    <tr style=\"text-align: right;\">\n",
              "      <th></th>\n",
              "      <th>Price</th>\n",
              "    </tr>\n",
              "    <tr>\n",
              "      <th>Date Time</th>\n",
              "      <th></th>\n",
              "    </tr>\n",
              "  </thead>\n",
              "  <tbody>\n",
              "    <tr>\n",
              "      <th>2017-08-17 09:00:00</th>\n",
              "      <td>72.38</td>\n",
              "    </tr>\n",
              "    <tr>\n",
              "      <th>2017-08-17 09:15:00</th>\n",
              "      <td>71.00</td>\n",
              "    </tr>\n",
              "    <tr>\n",
              "      <th>2017-08-17 09:30:00</th>\n",
              "      <td>71.67</td>\n",
              "    </tr>\n",
              "    <tr>\n",
              "      <th>2017-08-17 10:00:00</th>\n",
              "      <td>72.80</td>\n",
              "    </tr>\n",
              "    <tr>\n",
              "      <th>2017-08-17 10:30:00</th>\n",
              "      <td>73.00</td>\n",
              "    </tr>\n",
              "    <tr>\n",
              "      <th>2017-08-17 11:00:00</th>\n",
              "      <td>72.50</td>\n",
              "    </tr>\n",
              "  </tbody>\n",
              "</table>\n",
              "</div>"
            ],
            "text/plain": [
              "                     Price\n",
              "Date Time                 \n",
              "2017-08-17 09:00:00  72.38\n",
              "2017-08-17 09:15:00  71.00\n",
              "2017-08-17 09:30:00  71.67\n",
              "2017-08-17 10:00:00  72.80\n",
              "2017-08-17 10:30:00  73.00\n",
              "2017-08-17 11:00:00  72.50"
            ]
          },
          "metadata": {},
          "execution_count": 80
        }
      ]
    },
    {
      "cell_type": "code",
      "metadata": {
        "colab": {
          "base_uri": "https://localhost:8080/"
        },
        "id": "oqn_isDTAiSq",
        "outputId": "b980c8f7-d45c-450f-da84-6689d56643ac"
      },
      "source": [
        "df.index # this datetime index is not aware of timezone\n"
      ],
      "execution_count": null,
      "outputs": [
        {
          "output_type": "execute_result",
          "data": {
            "text/plain": [
              "DatetimeIndex(['2017-08-17 09:00:00', '2017-08-17 09:15:00',\n",
              "               '2017-08-17 09:30:00', '2017-08-17 10:00:00',\n",
              "               '2017-08-17 10:30:00', '2017-08-17 11:00:00'],\n",
              "              dtype='datetime64[ns]', name='Date Time', freq=None)"
            ]
          },
          "metadata": {},
          "execution_count": 81
        }
      ]
    },
    {
      "cell_type": "markdown",
      "metadata": {
        "id": "Bs8aKZN4BOyY"
      },
      "source": [
        "Lets make this aware of time zone"
      ]
    },
    {
      "cell_type": "code",
      "metadata": {
        "colab": {
          "base_uri": "https://localhost:8080/"
        },
        "id": "jNfEe8b7Ao7G",
        "outputId": "9e8ab087-ed39-4f96-c523-c5f369270488"
      },
      "source": [
        "df=df.tz_localize(tz='US/Eastern')\n",
        "df.index"
      ],
      "execution_count": null,
      "outputs": [
        {
          "output_type": "execute_result",
          "data": {
            "text/plain": [
              "DatetimeIndex(['2017-08-17 09:00:00-04:00', '2017-08-17 09:15:00-04:00',\n",
              "               '2017-08-17 09:30:00-04:00', '2017-08-17 10:00:00-04:00',\n",
              "               '2017-08-17 10:30:00-04:00', '2017-08-17 11:00:00-04:00'],\n",
              "              dtype='datetime64[ns, US/Eastern]', name='Date Time', freq=None)"
            ]
          },
          "metadata": {},
          "execution_count": 82
        }
      ]
    },
    {
      "cell_type": "markdown",
      "metadata": {
        "id": "xTUmAHzIBlrN"
      },
      "source": [
        "Lets convert this sto another timezon"
      ]
    },
    {
      "cell_type": "code",
      "metadata": {
        "colab": {
          "base_uri": "https://localhost:8080/",
          "height": 266
        },
        "id": "-Z23sQkvBbt4",
        "outputId": "1298d5a5-b233-4447-aff4-2f5231630576"
      },
      "source": [
        "df = df.tz_convert(tz='Europe/Berlin')\n",
        "df"
      ],
      "execution_count": null,
      "outputs": [
        {
          "output_type": "execute_result",
          "data": {
            "text/html": [
              "<div>\n",
              "<style scoped>\n",
              "    .dataframe tbody tr th:only-of-type {\n",
              "        vertical-align: middle;\n",
              "    }\n",
              "\n",
              "    .dataframe tbody tr th {\n",
              "        vertical-align: top;\n",
              "    }\n",
              "\n",
              "    .dataframe thead th {\n",
              "        text-align: right;\n",
              "    }\n",
              "</style>\n",
              "<table border=\"1\" class=\"dataframe\">\n",
              "  <thead>\n",
              "    <tr style=\"text-align: right;\">\n",
              "      <th></th>\n",
              "      <th>Price</th>\n",
              "    </tr>\n",
              "    <tr>\n",
              "      <th>Date Time</th>\n",
              "      <th></th>\n",
              "    </tr>\n",
              "  </thead>\n",
              "  <tbody>\n",
              "    <tr>\n",
              "      <th>2017-08-17 15:00:00+02:00</th>\n",
              "      <td>72.38</td>\n",
              "    </tr>\n",
              "    <tr>\n",
              "      <th>2017-08-17 15:15:00+02:00</th>\n",
              "      <td>71.00</td>\n",
              "    </tr>\n",
              "    <tr>\n",
              "      <th>2017-08-17 15:30:00+02:00</th>\n",
              "      <td>71.67</td>\n",
              "    </tr>\n",
              "    <tr>\n",
              "      <th>2017-08-17 16:00:00+02:00</th>\n",
              "      <td>72.80</td>\n",
              "    </tr>\n",
              "    <tr>\n",
              "      <th>2017-08-17 16:30:00+02:00</th>\n",
              "      <td>73.00</td>\n",
              "    </tr>\n",
              "    <tr>\n",
              "      <th>2017-08-17 17:00:00+02:00</th>\n",
              "      <td>72.50</td>\n",
              "    </tr>\n",
              "  </tbody>\n",
              "</table>\n",
              "</div>"
            ],
            "text/plain": [
              "                           Price\n",
              "Date Time                       \n",
              "2017-08-17 15:00:00+02:00  72.38\n",
              "2017-08-17 15:15:00+02:00  71.00\n",
              "2017-08-17 15:30:00+02:00  71.67\n",
              "2017-08-17 16:00:00+02:00  72.80\n",
              "2017-08-17 16:30:00+02:00  73.00\n",
              "2017-08-17 17:00:00+02:00  72.50"
            ]
          },
          "metadata": {},
          "execution_count": 84
        }
      ]
    },
    {
      "cell_type": "markdown",
      "metadata": {
        "id": "eFRJ1ZIbB42j"
      },
      "source": [
        "How to know the strings for different timezone"
      ]
    },
    {
      "cell_type": "code",
      "metadata": {
        "colab": {
          "base_uri": "https://localhost:8080/"
        },
        "id": "wALxtdg4B04M",
        "outputId": "ef5c249c-53a4-44b4-cc8e-3161526b4f6b"
      },
      "source": [
        "from pytz import all_timezones\n",
        "print(all_timezones)"
      ],
      "execution_count": null,
      "outputs": [
        {
          "output_type": "stream",
          "name": "stdout",
          "text": [
            "['Africa/Abidjan', 'Africa/Accra', 'Africa/Addis_Ababa', 'Africa/Algiers', 'Africa/Asmara', 'Africa/Asmera', 'Africa/Bamako', 'Africa/Bangui', 'Africa/Banjul', 'Africa/Bissau', 'Africa/Blantyre', 'Africa/Brazzaville', 'Africa/Bujumbura', 'Africa/Cairo', 'Africa/Casablanca', 'Africa/Ceuta', 'Africa/Conakry', 'Africa/Dakar', 'Africa/Dar_es_Salaam', 'Africa/Djibouti', 'Africa/Douala', 'Africa/El_Aaiun', 'Africa/Freetown', 'Africa/Gaborone', 'Africa/Harare', 'Africa/Johannesburg', 'Africa/Juba', 'Africa/Kampala', 'Africa/Khartoum', 'Africa/Kigali', 'Africa/Kinshasa', 'Africa/Lagos', 'Africa/Libreville', 'Africa/Lome', 'Africa/Luanda', 'Africa/Lubumbashi', 'Africa/Lusaka', 'Africa/Malabo', 'Africa/Maputo', 'Africa/Maseru', 'Africa/Mbabane', 'Africa/Mogadishu', 'Africa/Monrovia', 'Africa/Nairobi', 'Africa/Ndjamena', 'Africa/Niamey', 'Africa/Nouakchott', 'Africa/Ouagadougou', 'Africa/Porto-Novo', 'Africa/Sao_Tome', 'Africa/Timbuktu', 'Africa/Tripoli', 'Africa/Tunis', 'Africa/Windhoek', 'America/Adak', 'America/Anchorage', 'America/Anguilla', 'America/Antigua', 'America/Araguaina', 'America/Argentina/Buenos_Aires', 'America/Argentina/Catamarca', 'America/Argentina/ComodRivadavia', 'America/Argentina/Cordoba', 'America/Argentina/Jujuy', 'America/Argentina/La_Rioja', 'America/Argentina/Mendoza', 'America/Argentina/Rio_Gallegos', 'America/Argentina/Salta', 'America/Argentina/San_Juan', 'America/Argentina/San_Luis', 'America/Argentina/Tucuman', 'America/Argentina/Ushuaia', 'America/Aruba', 'America/Asuncion', 'America/Atikokan', 'America/Atka', 'America/Bahia', 'America/Bahia_Banderas', 'America/Barbados', 'America/Belem', 'America/Belize', 'America/Blanc-Sablon', 'America/Boa_Vista', 'America/Bogota', 'America/Boise', 'America/Buenos_Aires', 'America/Cambridge_Bay', 'America/Campo_Grande', 'America/Cancun', 'America/Caracas', 'America/Catamarca', 'America/Cayenne', 'America/Cayman', 'America/Chicago', 'America/Chihuahua', 'America/Coral_Harbour', 'America/Cordoba', 'America/Costa_Rica', 'America/Creston', 'America/Cuiaba', 'America/Curacao', 'America/Danmarkshavn', 'America/Dawson', 'America/Dawson_Creek', 'America/Denver', 'America/Detroit', 'America/Dominica', 'America/Edmonton', 'America/Eirunepe', 'America/El_Salvador', 'America/Ensenada', 'America/Fort_Nelson', 'America/Fort_Wayne', 'America/Fortaleza', 'America/Glace_Bay', 'America/Godthab', 'America/Goose_Bay', 'America/Grand_Turk', 'America/Grenada', 'America/Guadeloupe', 'America/Guatemala', 'America/Guayaquil', 'America/Guyana', 'America/Halifax', 'America/Havana', 'America/Hermosillo', 'America/Indiana/Indianapolis', 'America/Indiana/Knox', 'America/Indiana/Marengo', 'America/Indiana/Petersburg', 'America/Indiana/Tell_City', 'America/Indiana/Vevay', 'America/Indiana/Vincennes', 'America/Indiana/Winamac', 'America/Indianapolis', 'America/Inuvik', 'America/Iqaluit', 'America/Jamaica', 'America/Jujuy', 'America/Juneau', 'America/Kentucky/Louisville', 'America/Kentucky/Monticello', 'America/Knox_IN', 'America/Kralendijk', 'America/La_Paz', 'America/Lima', 'America/Los_Angeles', 'America/Louisville', 'America/Lower_Princes', 'America/Maceio', 'America/Managua', 'America/Manaus', 'America/Marigot', 'America/Martinique', 'America/Matamoros', 'America/Mazatlan', 'America/Mendoza', 'America/Menominee', 'America/Merida', 'America/Metlakatla', 'America/Mexico_City', 'America/Miquelon', 'America/Moncton', 'America/Monterrey', 'America/Montevideo', 'America/Montreal', 'America/Montserrat', 'America/Nassau', 'America/New_York', 'America/Nipigon', 'America/Nome', 'America/Noronha', 'America/North_Dakota/Beulah', 'America/North_Dakota/Center', 'America/North_Dakota/New_Salem', 'America/Ojinaga', 'America/Panama', 'America/Pangnirtung', 'America/Paramaribo', 'America/Phoenix', 'America/Port-au-Prince', 'America/Port_of_Spain', 'America/Porto_Acre', 'America/Porto_Velho', 'America/Puerto_Rico', 'America/Punta_Arenas', 'America/Rainy_River', 'America/Rankin_Inlet', 'America/Recife', 'America/Regina', 'America/Resolute', 'America/Rio_Branco', 'America/Rosario', 'America/Santa_Isabel', 'America/Santarem', 'America/Santiago', 'America/Santo_Domingo', 'America/Sao_Paulo', 'America/Scoresbysund', 'America/Shiprock', 'America/Sitka', 'America/St_Barthelemy', 'America/St_Johns', 'America/St_Kitts', 'America/St_Lucia', 'America/St_Thomas', 'America/St_Vincent', 'America/Swift_Current', 'America/Tegucigalpa', 'America/Thule', 'America/Thunder_Bay', 'America/Tijuana', 'America/Toronto', 'America/Tortola', 'America/Vancouver', 'America/Virgin', 'America/Whitehorse', 'America/Winnipeg', 'America/Yakutat', 'America/Yellowknife', 'Antarctica/Casey', 'Antarctica/Davis', 'Antarctica/DumontDUrville', 'Antarctica/Macquarie', 'Antarctica/Mawson', 'Antarctica/McMurdo', 'Antarctica/Palmer', 'Antarctica/Rothera', 'Antarctica/South_Pole', 'Antarctica/Syowa', 'Antarctica/Troll', 'Antarctica/Vostok', 'Arctic/Longyearbyen', 'Asia/Aden', 'Asia/Almaty', 'Asia/Amman', 'Asia/Anadyr', 'Asia/Aqtau', 'Asia/Aqtobe', 'Asia/Ashgabat', 'Asia/Ashkhabad', 'Asia/Atyrau', 'Asia/Baghdad', 'Asia/Bahrain', 'Asia/Baku', 'Asia/Bangkok', 'Asia/Barnaul', 'Asia/Beirut', 'Asia/Bishkek', 'Asia/Brunei', 'Asia/Calcutta', 'Asia/Chita', 'Asia/Choibalsan', 'Asia/Chongqing', 'Asia/Chungking', 'Asia/Colombo', 'Asia/Dacca', 'Asia/Damascus', 'Asia/Dhaka', 'Asia/Dili', 'Asia/Dubai', 'Asia/Dushanbe', 'Asia/Famagusta', 'Asia/Gaza', 'Asia/Harbin', 'Asia/Hebron', 'Asia/Ho_Chi_Minh', 'Asia/Hong_Kong', 'Asia/Hovd', 'Asia/Irkutsk', 'Asia/Istanbul', 'Asia/Jakarta', 'Asia/Jayapura', 'Asia/Jerusalem', 'Asia/Kabul', 'Asia/Kamchatka', 'Asia/Karachi', 'Asia/Kashgar', 'Asia/Kathmandu', 'Asia/Katmandu', 'Asia/Khandyga', 'Asia/Kolkata', 'Asia/Krasnoyarsk', 'Asia/Kuala_Lumpur', 'Asia/Kuching', 'Asia/Kuwait', 'Asia/Macao', 'Asia/Macau', 'Asia/Magadan', 'Asia/Makassar', 'Asia/Manila', 'Asia/Muscat', 'Asia/Nicosia', 'Asia/Novokuznetsk', 'Asia/Novosibirsk', 'Asia/Omsk', 'Asia/Oral', 'Asia/Phnom_Penh', 'Asia/Pontianak', 'Asia/Pyongyang', 'Asia/Qatar', 'Asia/Qostanay', 'Asia/Qyzylorda', 'Asia/Rangoon', 'Asia/Riyadh', 'Asia/Saigon', 'Asia/Sakhalin', 'Asia/Samarkand', 'Asia/Seoul', 'Asia/Shanghai', 'Asia/Singapore', 'Asia/Srednekolymsk', 'Asia/Taipei', 'Asia/Tashkent', 'Asia/Tbilisi', 'Asia/Tehran', 'Asia/Tel_Aviv', 'Asia/Thimbu', 'Asia/Thimphu', 'Asia/Tokyo', 'Asia/Tomsk', 'Asia/Ujung_Pandang', 'Asia/Ulaanbaatar', 'Asia/Ulan_Bator', 'Asia/Urumqi', 'Asia/Ust-Nera', 'Asia/Vientiane', 'Asia/Vladivostok', 'Asia/Yakutsk', 'Asia/Yangon', 'Asia/Yekaterinburg', 'Asia/Yerevan', 'Atlantic/Azores', 'Atlantic/Bermuda', 'Atlantic/Canary', 'Atlantic/Cape_Verde', 'Atlantic/Faeroe', 'Atlantic/Faroe', 'Atlantic/Jan_Mayen', 'Atlantic/Madeira', 'Atlantic/Reykjavik', 'Atlantic/South_Georgia', 'Atlantic/St_Helena', 'Atlantic/Stanley', 'Australia/ACT', 'Australia/Adelaide', 'Australia/Brisbane', 'Australia/Broken_Hill', 'Australia/Canberra', 'Australia/Currie', 'Australia/Darwin', 'Australia/Eucla', 'Australia/Hobart', 'Australia/LHI', 'Australia/Lindeman', 'Australia/Lord_Howe', 'Australia/Melbourne', 'Australia/NSW', 'Australia/North', 'Australia/Perth', 'Australia/Queensland', 'Australia/South', 'Australia/Sydney', 'Australia/Tasmania', 'Australia/Victoria', 'Australia/West', 'Australia/Yancowinna', 'Brazil/Acre', 'Brazil/DeNoronha', 'Brazil/East', 'Brazil/West', 'CET', 'CST6CDT', 'Canada/Atlantic', 'Canada/Central', 'Canada/Eastern', 'Canada/Mountain', 'Canada/Newfoundland', 'Canada/Pacific', 'Canada/Saskatchewan', 'Canada/Yukon', 'Chile/Continental', 'Chile/EasterIsland', 'Cuba', 'EET', 'EST', 'EST5EDT', 'Egypt', 'Eire', 'Etc/GMT', 'Etc/GMT+0', 'Etc/GMT+1', 'Etc/GMT+10', 'Etc/GMT+11', 'Etc/GMT+12', 'Etc/GMT+2', 'Etc/GMT+3', 'Etc/GMT+4', 'Etc/GMT+5', 'Etc/GMT+6', 'Etc/GMT+7', 'Etc/GMT+8', 'Etc/GMT+9', 'Etc/GMT-0', 'Etc/GMT-1', 'Etc/GMT-10', 'Etc/GMT-11', 'Etc/GMT-12', 'Etc/GMT-13', 'Etc/GMT-14', 'Etc/GMT-2', 'Etc/GMT-3', 'Etc/GMT-4', 'Etc/GMT-5', 'Etc/GMT-6', 'Etc/GMT-7', 'Etc/GMT-8', 'Etc/GMT-9', 'Etc/GMT0', 'Etc/Greenwich', 'Etc/UCT', 'Etc/UTC', 'Etc/Universal', 'Etc/Zulu', 'Europe/Amsterdam', 'Europe/Andorra', 'Europe/Astrakhan', 'Europe/Athens', 'Europe/Belfast', 'Europe/Belgrade', 'Europe/Berlin', 'Europe/Bratislava', 'Europe/Brussels', 'Europe/Bucharest', 'Europe/Budapest', 'Europe/Busingen', 'Europe/Chisinau', 'Europe/Copenhagen', 'Europe/Dublin', 'Europe/Gibraltar', 'Europe/Guernsey', 'Europe/Helsinki', 'Europe/Isle_of_Man', 'Europe/Istanbul', 'Europe/Jersey', 'Europe/Kaliningrad', 'Europe/Kiev', 'Europe/Kirov', 'Europe/Lisbon', 'Europe/Ljubljana', 'Europe/London', 'Europe/Luxembourg', 'Europe/Madrid', 'Europe/Malta', 'Europe/Mariehamn', 'Europe/Minsk', 'Europe/Monaco', 'Europe/Moscow', 'Europe/Nicosia', 'Europe/Oslo', 'Europe/Paris', 'Europe/Podgorica', 'Europe/Prague', 'Europe/Riga', 'Europe/Rome', 'Europe/Samara', 'Europe/San_Marino', 'Europe/Sarajevo', 'Europe/Saratov', 'Europe/Simferopol', 'Europe/Skopje', 'Europe/Sofia', 'Europe/Stockholm', 'Europe/Tallinn', 'Europe/Tirane', 'Europe/Tiraspol', 'Europe/Ulyanovsk', 'Europe/Uzhgorod', 'Europe/Vaduz', 'Europe/Vatican', 'Europe/Vienna', 'Europe/Vilnius', 'Europe/Volgograd', 'Europe/Warsaw', 'Europe/Zagreb', 'Europe/Zaporozhye', 'Europe/Zurich', 'GB', 'GB-Eire', 'GMT', 'GMT+0', 'GMT-0', 'GMT0', 'Greenwich', 'HST', 'Hongkong', 'Iceland', 'Indian/Antananarivo', 'Indian/Chagos', 'Indian/Christmas', 'Indian/Cocos', 'Indian/Comoro', 'Indian/Kerguelen', 'Indian/Mahe', 'Indian/Maldives', 'Indian/Mauritius', 'Indian/Mayotte', 'Indian/Reunion', 'Iran', 'Israel', 'Jamaica', 'Japan', 'Kwajalein', 'Libya', 'MET', 'MST', 'MST7MDT', 'Mexico/BajaNorte', 'Mexico/BajaSur', 'Mexico/General', 'NZ', 'NZ-CHAT', 'Navajo', 'PRC', 'PST8PDT', 'Pacific/Apia', 'Pacific/Auckland', 'Pacific/Bougainville', 'Pacific/Chatham', 'Pacific/Chuuk', 'Pacific/Easter', 'Pacific/Efate', 'Pacific/Enderbury', 'Pacific/Fakaofo', 'Pacific/Fiji', 'Pacific/Funafuti', 'Pacific/Galapagos', 'Pacific/Gambier', 'Pacific/Guadalcanal', 'Pacific/Guam', 'Pacific/Honolulu', 'Pacific/Johnston', 'Pacific/Kiritimati', 'Pacific/Kosrae', 'Pacific/Kwajalein', 'Pacific/Majuro', 'Pacific/Marquesas', 'Pacific/Midway', 'Pacific/Nauru', 'Pacific/Niue', 'Pacific/Norfolk', 'Pacific/Noumea', 'Pacific/Pago_Pago', 'Pacific/Palau', 'Pacific/Pitcairn', 'Pacific/Pohnpei', 'Pacific/Ponape', 'Pacific/Port_Moresby', 'Pacific/Rarotonga', 'Pacific/Saipan', 'Pacific/Samoa', 'Pacific/Tahiti', 'Pacific/Tarawa', 'Pacific/Tongatapu', 'Pacific/Truk', 'Pacific/Wake', 'Pacific/Wallis', 'Pacific/Yap', 'Poland', 'Portugal', 'ROC', 'ROK', 'Singapore', 'Turkey', 'UCT', 'US/Alaska', 'US/Aleutian', 'US/Arizona', 'US/Central', 'US/East-Indiana', 'US/Eastern', 'US/Hawaii', 'US/Indiana-Starke', 'US/Michigan', 'US/Mountain', 'US/Pacific', 'US/Samoa', 'UTC', 'Universal', 'W-SU', 'WET', 'Zulu']\n"
          ]
        }
      ]
    },
    {
      "cell_type": "markdown",
      "metadata": {
        "id": "kF1CCRVGCtGi"
      },
      "source": [
        "Lets Convert to Mumbai time zone"
      ]
    },
    {
      "cell_type": "code",
      "metadata": {
        "colab": {
          "base_uri": "https://localhost:8080/",
          "height": 266
        },
        "id": "jInHoy2sCFZz",
        "outputId": "629a195f-1b58-45a3-ed31-59b00ceecf1f"
      },
      "source": [
        "df =df.tz_convert(tz='Asia/Calcutta')\n",
        "df\n"
      ],
      "execution_count": null,
      "outputs": [
        {
          "output_type": "execute_result",
          "data": {
            "text/html": [
              "<div>\n",
              "<style scoped>\n",
              "    .dataframe tbody tr th:only-of-type {\n",
              "        vertical-align: middle;\n",
              "    }\n",
              "\n",
              "    .dataframe tbody tr th {\n",
              "        vertical-align: top;\n",
              "    }\n",
              "\n",
              "    .dataframe thead th {\n",
              "        text-align: right;\n",
              "    }\n",
              "</style>\n",
              "<table border=\"1\" class=\"dataframe\">\n",
              "  <thead>\n",
              "    <tr style=\"text-align: right;\">\n",
              "      <th></th>\n",
              "      <th>Price</th>\n",
              "    </tr>\n",
              "    <tr>\n",
              "      <th>Date Time</th>\n",
              "      <th></th>\n",
              "    </tr>\n",
              "  </thead>\n",
              "  <tbody>\n",
              "    <tr>\n",
              "      <th>2017-08-17 18:30:00+05:30</th>\n",
              "      <td>72.38</td>\n",
              "    </tr>\n",
              "    <tr>\n",
              "      <th>2017-08-17 18:45:00+05:30</th>\n",
              "      <td>71.00</td>\n",
              "    </tr>\n",
              "    <tr>\n",
              "      <th>2017-08-17 19:00:00+05:30</th>\n",
              "      <td>71.67</td>\n",
              "    </tr>\n",
              "    <tr>\n",
              "      <th>2017-08-17 19:30:00+05:30</th>\n",
              "      <td>72.80</td>\n",
              "    </tr>\n",
              "    <tr>\n",
              "      <th>2017-08-17 20:00:00+05:30</th>\n",
              "      <td>73.00</td>\n",
              "    </tr>\n",
              "    <tr>\n",
              "      <th>2017-08-17 20:30:00+05:30</th>\n",
              "      <td>72.50</td>\n",
              "    </tr>\n",
              "  </tbody>\n",
              "</table>\n",
              "</div>"
            ],
            "text/plain": [
              "                           Price\n",
              "Date Time                       \n",
              "2017-08-17 18:30:00+05:30  72.38\n",
              "2017-08-17 18:45:00+05:30  71.00\n",
              "2017-08-17 19:00:00+05:30  71.67\n",
              "2017-08-17 19:30:00+05:30  72.80\n",
              "2017-08-17 20:00:00+05:30  73.00\n",
              "2017-08-17 20:30:00+05:30  72.50"
            ]
          },
          "metadata": {},
          "execution_count": 87
        }
      ]
    },
    {
      "cell_type": "markdown",
      "metadata": {
        "id": "8x0BUD2QxYlj"
      },
      "source": [
        "We can create date range that is aware of timezone using `pd.date_range` function"
      ]
    },
    {
      "cell_type": "code",
      "metadata": {
        "id": "nMY3vm8Mwe4H",
        "outputId": "37a98348-0d44-4c00-e558-055a2168152e",
        "colab": {
          "base_uri": "https://localhost:8080/"
        }
      },
      "source": [
        "import pandas as pd\n",
        "rng = pd.date_range(start='10/18/2021',periods=10,tz='Asia/Calcutta')\n",
        "rng"
      ],
      "execution_count": 2,
      "outputs": [
        {
          "output_type": "execute_result",
          "data": {
            "text/plain": [
              "DatetimeIndex(['2021-10-18 00:00:00+05:30', '2021-10-19 00:00:00+05:30',\n",
              "               '2021-10-20 00:00:00+05:30', '2021-10-21 00:00:00+05:30',\n",
              "               '2021-10-22 00:00:00+05:30', '2021-10-23 00:00:00+05:30',\n",
              "               '2021-10-24 00:00:00+05:30', '2021-10-25 00:00:00+05:30',\n",
              "               '2021-10-26 00:00:00+05:30', '2021-10-27 00:00:00+05:30'],\n",
              "              dtype='datetime64[ns, Asia/Calcutta]', freq='D')"
            ]
          },
          "metadata": {},
          "execution_count": 2
        }
      ]
    },
    {
      "cell_type": "markdown",
      "metadata": {
        "id": "yYcNBcp0zXdy"
      },
      "source": [
        "### Shifting and Lagging\n",
        "\n",
        "Shift is used to Shift the data points to up or down"
      ]
    },
    {
      "cell_type": "code",
      "metadata": {
        "id": "TKgFvl04xrVt",
        "outputId": "5d694df5-d3e3-4800-f7c0-8ff1a312f659",
        "colab": {
          "base_uri": "https://localhost:8080/",
          "height": 390
        }
      },
      "source": [
        "url='https://github.com/codebasics/py/raw/master/pandas/20_shift_lag/fb.csv'\n",
        "df =pd.read_csv(url,parse_dates=['Date'],index_col='Date')\n",
        "df"
      ],
      "execution_count": 4,
      "outputs": [
        {
          "output_type": "execute_result",
          "data": {
            "text/html": [
              "<div>\n",
              "<style scoped>\n",
              "    .dataframe tbody tr th:only-of-type {\n",
              "        vertical-align: middle;\n",
              "    }\n",
              "\n",
              "    .dataframe tbody tr th {\n",
              "        vertical-align: top;\n",
              "    }\n",
              "\n",
              "    .dataframe thead th {\n",
              "        text-align: right;\n",
              "    }\n",
              "</style>\n",
              "<table border=\"1\" class=\"dataframe\">\n",
              "  <thead>\n",
              "    <tr style=\"text-align: right;\">\n",
              "      <th></th>\n",
              "      <th>Price</th>\n",
              "    </tr>\n",
              "    <tr>\n",
              "      <th>Date</th>\n",
              "      <th></th>\n",
              "    </tr>\n",
              "  </thead>\n",
              "  <tbody>\n",
              "    <tr>\n",
              "      <th>2017-08-15</th>\n",
              "      <td>171.00</td>\n",
              "    </tr>\n",
              "    <tr>\n",
              "      <th>2017-08-16</th>\n",
              "      <td>170.00</td>\n",
              "    </tr>\n",
              "    <tr>\n",
              "      <th>2017-08-17</th>\n",
              "      <td>166.91</td>\n",
              "    </tr>\n",
              "    <tr>\n",
              "      <th>2017-08-18</th>\n",
              "      <td>167.41</td>\n",
              "    </tr>\n",
              "    <tr>\n",
              "      <th>2017-08-21</th>\n",
              "      <td>167.78</td>\n",
              "    </tr>\n",
              "    <tr>\n",
              "      <th>2017-08-22</th>\n",
              "      <td>169.64</td>\n",
              "    </tr>\n",
              "    <tr>\n",
              "      <th>2017-08-23</th>\n",
              "      <td>168.71</td>\n",
              "    </tr>\n",
              "    <tr>\n",
              "      <th>2017-08-24</th>\n",
              "      <td>167.74</td>\n",
              "    </tr>\n",
              "    <tr>\n",
              "      <th>2017-08-25</th>\n",
              "      <td>166.32</td>\n",
              "    </tr>\n",
              "    <tr>\n",
              "      <th>2017-08-28</th>\n",
              "      <td>167.24</td>\n",
              "    </tr>\n",
              "  </tbody>\n",
              "</table>\n",
              "</div>"
            ],
            "text/plain": [
              "             Price\n",
              "Date              \n",
              "2017-08-15  171.00\n",
              "2017-08-16  170.00\n",
              "2017-08-17  166.91\n",
              "2017-08-18  167.41\n",
              "2017-08-21  167.78\n",
              "2017-08-22  169.64\n",
              "2017-08-23  168.71\n",
              "2017-08-24  167.74\n",
              "2017-08-25  166.32\n",
              "2017-08-28  167.24"
            ]
          },
          "metadata": {},
          "execution_count": 4
        }
      ]
    },
    {
      "cell_type": "code",
      "metadata": {
        "id": "1W1SCe0K0eWG",
        "outputId": "a692bcd6-d334-4ddf-ae8a-e687122dc479",
        "colab": {
          "base_uri": "https://localhost:8080/",
          "height": 390
        }
      },
      "source": [
        "df.shift(1)  # shift down by 1 "
      ],
      "execution_count": 5,
      "outputs": [
        {
          "output_type": "execute_result",
          "data": {
            "text/html": [
              "<div>\n",
              "<style scoped>\n",
              "    .dataframe tbody tr th:only-of-type {\n",
              "        vertical-align: middle;\n",
              "    }\n",
              "\n",
              "    .dataframe tbody tr th {\n",
              "        vertical-align: top;\n",
              "    }\n",
              "\n",
              "    .dataframe thead th {\n",
              "        text-align: right;\n",
              "    }\n",
              "</style>\n",
              "<table border=\"1\" class=\"dataframe\">\n",
              "  <thead>\n",
              "    <tr style=\"text-align: right;\">\n",
              "      <th></th>\n",
              "      <th>Price</th>\n",
              "    </tr>\n",
              "    <tr>\n",
              "      <th>Date</th>\n",
              "      <th></th>\n",
              "    </tr>\n",
              "  </thead>\n",
              "  <tbody>\n",
              "    <tr>\n",
              "      <th>2017-08-15</th>\n",
              "      <td>NaN</td>\n",
              "    </tr>\n",
              "    <tr>\n",
              "      <th>2017-08-16</th>\n",
              "      <td>171.00</td>\n",
              "    </tr>\n",
              "    <tr>\n",
              "      <th>2017-08-17</th>\n",
              "      <td>170.00</td>\n",
              "    </tr>\n",
              "    <tr>\n",
              "      <th>2017-08-18</th>\n",
              "      <td>166.91</td>\n",
              "    </tr>\n",
              "    <tr>\n",
              "      <th>2017-08-21</th>\n",
              "      <td>167.41</td>\n",
              "    </tr>\n",
              "    <tr>\n",
              "      <th>2017-08-22</th>\n",
              "      <td>167.78</td>\n",
              "    </tr>\n",
              "    <tr>\n",
              "      <th>2017-08-23</th>\n",
              "      <td>169.64</td>\n",
              "    </tr>\n",
              "    <tr>\n",
              "      <th>2017-08-24</th>\n",
              "      <td>168.71</td>\n",
              "    </tr>\n",
              "    <tr>\n",
              "      <th>2017-08-25</th>\n",
              "      <td>167.74</td>\n",
              "    </tr>\n",
              "    <tr>\n",
              "      <th>2017-08-28</th>\n",
              "      <td>166.32</td>\n",
              "    </tr>\n",
              "  </tbody>\n",
              "</table>\n",
              "</div>"
            ],
            "text/plain": [
              "             Price\n",
              "Date              \n",
              "2017-08-15     NaN\n",
              "2017-08-16  171.00\n",
              "2017-08-17  170.00\n",
              "2017-08-18  166.91\n",
              "2017-08-21  167.41\n",
              "2017-08-22  167.78\n",
              "2017-08-23  169.64\n",
              "2017-08-24  168.71\n",
              "2017-08-25  167.74\n",
              "2017-08-28  166.32"
            ]
          },
          "metadata": {},
          "execution_count": 5
        }
      ]
    },
    {
      "cell_type": "code",
      "metadata": {
        "id": "Pjmcvj7Q01g2",
        "outputId": "dd7731d4-c754-452d-debb-f5e31fe05e97",
        "colab": {
          "base_uri": "https://localhost:8080/",
          "height": 390
        }
      },
      "source": [
        "df.shift(-1) # Shift up by one"
      ],
      "execution_count": 6,
      "outputs": [
        {
          "output_type": "execute_result",
          "data": {
            "text/html": [
              "<div>\n",
              "<style scoped>\n",
              "    .dataframe tbody tr th:only-of-type {\n",
              "        vertical-align: middle;\n",
              "    }\n",
              "\n",
              "    .dataframe tbody tr th {\n",
              "        vertical-align: top;\n",
              "    }\n",
              "\n",
              "    .dataframe thead th {\n",
              "        text-align: right;\n",
              "    }\n",
              "</style>\n",
              "<table border=\"1\" class=\"dataframe\">\n",
              "  <thead>\n",
              "    <tr style=\"text-align: right;\">\n",
              "      <th></th>\n",
              "      <th>Price</th>\n",
              "    </tr>\n",
              "    <tr>\n",
              "      <th>Date</th>\n",
              "      <th></th>\n",
              "    </tr>\n",
              "  </thead>\n",
              "  <tbody>\n",
              "    <tr>\n",
              "      <th>2017-08-15</th>\n",
              "      <td>170.00</td>\n",
              "    </tr>\n",
              "    <tr>\n",
              "      <th>2017-08-16</th>\n",
              "      <td>166.91</td>\n",
              "    </tr>\n",
              "    <tr>\n",
              "      <th>2017-08-17</th>\n",
              "      <td>167.41</td>\n",
              "    </tr>\n",
              "    <tr>\n",
              "      <th>2017-08-18</th>\n",
              "      <td>167.78</td>\n",
              "    </tr>\n",
              "    <tr>\n",
              "      <th>2017-08-21</th>\n",
              "      <td>169.64</td>\n",
              "    </tr>\n",
              "    <tr>\n",
              "      <th>2017-08-22</th>\n",
              "      <td>168.71</td>\n",
              "    </tr>\n",
              "    <tr>\n",
              "      <th>2017-08-23</th>\n",
              "      <td>167.74</td>\n",
              "    </tr>\n",
              "    <tr>\n",
              "      <th>2017-08-24</th>\n",
              "      <td>166.32</td>\n",
              "    </tr>\n",
              "    <tr>\n",
              "      <th>2017-08-25</th>\n",
              "      <td>167.24</td>\n",
              "    </tr>\n",
              "    <tr>\n",
              "      <th>2017-08-28</th>\n",
              "      <td>NaN</td>\n",
              "    </tr>\n",
              "  </tbody>\n",
              "</table>\n",
              "</div>"
            ],
            "text/plain": [
              "             Price\n",
              "Date              \n",
              "2017-08-15  170.00\n",
              "2017-08-16  166.91\n",
              "2017-08-17  167.41\n",
              "2017-08-18  167.78\n",
              "2017-08-21  169.64\n",
              "2017-08-22  168.71\n",
              "2017-08-23  167.74\n",
              "2017-08-24  166.32\n",
              "2017-08-25  167.24\n",
              "2017-08-28     NaN"
            ]
          },
          "metadata": {},
          "execution_count": 6
        }
      ]
    },
    {
      "cell_type": "markdown",
      "metadata": {
        "id": "4Feo6JH208bl"
      },
      "source": [
        "Use case :  to calculate the price change in n days"
      ]
    },
    {
      "cell_type": "code",
      "metadata": {
        "id": "EDAKqaaF06f1",
        "outputId": "23665603-2f4f-45ce-d60b-60eba1e76fac",
        "colab": {
          "base_uri": "https://localhost:8080/",
          "height": 390
        }
      },
      "source": [
        "df['Prev day Price'] = df['Price'].shift(1)\n",
        "df"
      ],
      "execution_count": 7,
      "outputs": [
        {
          "output_type": "execute_result",
          "data": {
            "text/html": [
              "<div>\n",
              "<style scoped>\n",
              "    .dataframe tbody tr th:only-of-type {\n",
              "        vertical-align: middle;\n",
              "    }\n",
              "\n",
              "    .dataframe tbody tr th {\n",
              "        vertical-align: top;\n",
              "    }\n",
              "\n",
              "    .dataframe thead th {\n",
              "        text-align: right;\n",
              "    }\n",
              "</style>\n",
              "<table border=\"1\" class=\"dataframe\">\n",
              "  <thead>\n",
              "    <tr style=\"text-align: right;\">\n",
              "      <th></th>\n",
              "      <th>Price</th>\n",
              "      <th>Prev day Price</th>\n",
              "    </tr>\n",
              "    <tr>\n",
              "      <th>Date</th>\n",
              "      <th></th>\n",
              "      <th></th>\n",
              "    </tr>\n",
              "  </thead>\n",
              "  <tbody>\n",
              "    <tr>\n",
              "      <th>2017-08-15</th>\n",
              "      <td>171.00</td>\n",
              "      <td>NaN</td>\n",
              "    </tr>\n",
              "    <tr>\n",
              "      <th>2017-08-16</th>\n",
              "      <td>170.00</td>\n",
              "      <td>171.00</td>\n",
              "    </tr>\n",
              "    <tr>\n",
              "      <th>2017-08-17</th>\n",
              "      <td>166.91</td>\n",
              "      <td>170.00</td>\n",
              "    </tr>\n",
              "    <tr>\n",
              "      <th>2017-08-18</th>\n",
              "      <td>167.41</td>\n",
              "      <td>166.91</td>\n",
              "    </tr>\n",
              "    <tr>\n",
              "      <th>2017-08-21</th>\n",
              "      <td>167.78</td>\n",
              "      <td>167.41</td>\n",
              "    </tr>\n",
              "    <tr>\n",
              "      <th>2017-08-22</th>\n",
              "      <td>169.64</td>\n",
              "      <td>167.78</td>\n",
              "    </tr>\n",
              "    <tr>\n",
              "      <th>2017-08-23</th>\n",
              "      <td>168.71</td>\n",
              "      <td>169.64</td>\n",
              "    </tr>\n",
              "    <tr>\n",
              "      <th>2017-08-24</th>\n",
              "      <td>167.74</td>\n",
              "      <td>168.71</td>\n",
              "    </tr>\n",
              "    <tr>\n",
              "      <th>2017-08-25</th>\n",
              "      <td>166.32</td>\n",
              "      <td>167.74</td>\n",
              "    </tr>\n",
              "    <tr>\n",
              "      <th>2017-08-28</th>\n",
              "      <td>167.24</td>\n",
              "      <td>166.32</td>\n",
              "    </tr>\n",
              "  </tbody>\n",
              "</table>\n",
              "</div>"
            ],
            "text/plain": [
              "             Price  Prev day Price\n",
              "Date                              \n",
              "2017-08-15  171.00             NaN\n",
              "2017-08-16  170.00          171.00\n",
              "2017-08-17  166.91          170.00\n",
              "2017-08-18  167.41          166.91\n",
              "2017-08-21  167.78          167.41\n",
              "2017-08-22  169.64          167.78\n",
              "2017-08-23  168.71          169.64\n",
              "2017-08-24  167.74          168.71\n",
              "2017-08-25  166.32          167.74\n",
              "2017-08-28  167.24          166.32"
            ]
          },
          "metadata": {},
          "execution_count": 7
        }
      ]
    },
    {
      "cell_type": "code",
      "metadata": {
        "id": "hS6AwVyV1epT",
        "outputId": "c97ad97a-d66f-4854-8f7c-f8172d851c11",
        "colab": {
          "base_uri": "https://localhost:8080/",
          "height": 390
        }
      },
      "source": [
        "df['Price Change in One day'] =df['Price'] -df['Prev day Price']\n",
        "df"
      ],
      "execution_count": 9,
      "outputs": [
        {
          "output_type": "execute_result",
          "data": {
            "text/html": [
              "<div>\n",
              "<style scoped>\n",
              "    .dataframe tbody tr th:only-of-type {\n",
              "        vertical-align: middle;\n",
              "    }\n",
              "\n",
              "    .dataframe tbody tr th {\n",
              "        vertical-align: top;\n",
              "    }\n",
              "\n",
              "    .dataframe thead th {\n",
              "        text-align: right;\n",
              "    }\n",
              "</style>\n",
              "<table border=\"1\" class=\"dataframe\">\n",
              "  <thead>\n",
              "    <tr style=\"text-align: right;\">\n",
              "      <th></th>\n",
              "      <th>Price</th>\n",
              "      <th>Prev day Price</th>\n",
              "      <th>Price Change in One day</th>\n",
              "    </tr>\n",
              "    <tr>\n",
              "      <th>Date</th>\n",
              "      <th></th>\n",
              "      <th></th>\n",
              "      <th></th>\n",
              "    </tr>\n",
              "  </thead>\n",
              "  <tbody>\n",
              "    <tr>\n",
              "      <th>2017-08-15</th>\n",
              "      <td>171.00</td>\n",
              "      <td>NaN</td>\n",
              "      <td>NaN</td>\n",
              "    </tr>\n",
              "    <tr>\n",
              "      <th>2017-08-16</th>\n",
              "      <td>170.00</td>\n",
              "      <td>171.00</td>\n",
              "      <td>-1.00</td>\n",
              "    </tr>\n",
              "    <tr>\n",
              "      <th>2017-08-17</th>\n",
              "      <td>166.91</td>\n",
              "      <td>170.00</td>\n",
              "      <td>-3.09</td>\n",
              "    </tr>\n",
              "    <tr>\n",
              "      <th>2017-08-18</th>\n",
              "      <td>167.41</td>\n",
              "      <td>166.91</td>\n",
              "      <td>0.50</td>\n",
              "    </tr>\n",
              "    <tr>\n",
              "      <th>2017-08-21</th>\n",
              "      <td>167.78</td>\n",
              "      <td>167.41</td>\n",
              "      <td>0.37</td>\n",
              "    </tr>\n",
              "    <tr>\n",
              "      <th>2017-08-22</th>\n",
              "      <td>169.64</td>\n",
              "      <td>167.78</td>\n",
              "      <td>1.86</td>\n",
              "    </tr>\n",
              "    <tr>\n",
              "      <th>2017-08-23</th>\n",
              "      <td>168.71</td>\n",
              "      <td>169.64</td>\n",
              "      <td>-0.93</td>\n",
              "    </tr>\n",
              "    <tr>\n",
              "      <th>2017-08-24</th>\n",
              "      <td>167.74</td>\n",
              "      <td>168.71</td>\n",
              "      <td>-0.97</td>\n",
              "    </tr>\n",
              "    <tr>\n",
              "      <th>2017-08-25</th>\n",
              "      <td>166.32</td>\n",
              "      <td>167.74</td>\n",
              "      <td>-1.42</td>\n",
              "    </tr>\n",
              "    <tr>\n",
              "      <th>2017-08-28</th>\n",
              "      <td>167.24</td>\n",
              "      <td>166.32</td>\n",
              "      <td>0.92</td>\n",
              "    </tr>\n",
              "  </tbody>\n",
              "</table>\n",
              "</div>"
            ],
            "text/plain": [
              "             Price  Prev day Price  Price Change in One day\n",
              "Date                                                       \n",
              "2017-08-15  171.00             NaN                      NaN\n",
              "2017-08-16  170.00          171.00                    -1.00\n",
              "2017-08-17  166.91          170.00                    -3.09\n",
              "2017-08-18  167.41          166.91                     0.50\n",
              "2017-08-21  167.78          167.41                     0.37\n",
              "2017-08-22  169.64          167.78                     1.86\n",
              "2017-08-23  168.71          169.64                    -0.93\n",
              "2017-08-24  167.74          168.71                    -0.97\n",
              "2017-08-25  166.32          167.74                    -1.42\n",
              "2017-08-28  167.24          166.32                     0.92"
            ]
          },
          "metadata": {},
          "execution_count": 9
        }
      ]
    },
    {
      "cell_type": "markdown",
      "metadata": {
        "id": "rFJGgL2O19MQ"
      },
      "source": [
        "Calculate 5 days percent return"
      ]
    },
    {
      "cell_type": "code",
      "metadata": {
        "id": "xaoKwqa11ohU",
        "outputId": "946186b9-6f33-49de-be78-99baf49ef4e0",
        "colab": {
          "base_uri": "https://localhost:8080/",
          "height": 390
        }
      },
      "source": [
        "df['5 day % return'] = (df['Price'] -df['Price'].shift(5))*100/df['Price'].shift(5)\n",
        "df"
      ],
      "execution_count": 10,
      "outputs": [
        {
          "output_type": "execute_result",
          "data": {
            "text/html": [
              "<div>\n",
              "<style scoped>\n",
              "    .dataframe tbody tr th:only-of-type {\n",
              "        vertical-align: middle;\n",
              "    }\n",
              "\n",
              "    .dataframe tbody tr th {\n",
              "        vertical-align: top;\n",
              "    }\n",
              "\n",
              "    .dataframe thead th {\n",
              "        text-align: right;\n",
              "    }\n",
              "</style>\n",
              "<table border=\"1\" class=\"dataframe\">\n",
              "  <thead>\n",
              "    <tr style=\"text-align: right;\">\n",
              "      <th></th>\n",
              "      <th>Price</th>\n",
              "      <th>Prev day Price</th>\n",
              "      <th>Price Change in One day</th>\n",
              "      <th>5 day % return</th>\n",
              "    </tr>\n",
              "    <tr>\n",
              "      <th>Date</th>\n",
              "      <th></th>\n",
              "      <th></th>\n",
              "      <th></th>\n",
              "      <th></th>\n",
              "    </tr>\n",
              "  </thead>\n",
              "  <tbody>\n",
              "    <tr>\n",
              "      <th>2017-08-15</th>\n",
              "      <td>171.00</td>\n",
              "      <td>NaN</td>\n",
              "      <td>NaN</td>\n",
              "      <td>NaN</td>\n",
              "    </tr>\n",
              "    <tr>\n",
              "      <th>2017-08-16</th>\n",
              "      <td>170.00</td>\n",
              "      <td>171.00</td>\n",
              "      <td>-1.00</td>\n",
              "      <td>NaN</td>\n",
              "    </tr>\n",
              "    <tr>\n",
              "      <th>2017-08-17</th>\n",
              "      <td>166.91</td>\n",
              "      <td>170.00</td>\n",
              "      <td>-3.09</td>\n",
              "      <td>NaN</td>\n",
              "    </tr>\n",
              "    <tr>\n",
              "      <th>2017-08-18</th>\n",
              "      <td>167.41</td>\n",
              "      <td>166.91</td>\n",
              "      <td>0.50</td>\n",
              "      <td>NaN</td>\n",
              "    </tr>\n",
              "    <tr>\n",
              "      <th>2017-08-21</th>\n",
              "      <td>167.78</td>\n",
              "      <td>167.41</td>\n",
              "      <td>0.37</td>\n",
              "      <td>NaN</td>\n",
              "    </tr>\n",
              "    <tr>\n",
              "      <th>2017-08-22</th>\n",
              "      <td>169.64</td>\n",
              "      <td>167.78</td>\n",
              "      <td>1.86</td>\n",
              "      <td>-0.795322</td>\n",
              "    </tr>\n",
              "    <tr>\n",
              "      <th>2017-08-23</th>\n",
              "      <td>168.71</td>\n",
              "      <td>169.64</td>\n",
              "      <td>-0.93</td>\n",
              "      <td>-0.758824</td>\n",
              "    </tr>\n",
              "    <tr>\n",
              "      <th>2017-08-24</th>\n",
              "      <td>167.74</td>\n",
              "      <td>168.71</td>\n",
              "      <td>-0.97</td>\n",
              "      <td>0.497274</td>\n",
              "    </tr>\n",
              "    <tr>\n",
              "      <th>2017-08-25</th>\n",
              "      <td>166.32</td>\n",
              "      <td>167.74</td>\n",
              "      <td>-1.42</td>\n",
              "      <td>-0.651096</td>\n",
              "    </tr>\n",
              "    <tr>\n",
              "      <th>2017-08-28</th>\n",
              "      <td>167.24</td>\n",
              "      <td>166.32</td>\n",
              "      <td>0.92</td>\n",
              "      <td>-0.321850</td>\n",
              "    </tr>\n",
              "  </tbody>\n",
              "</table>\n",
              "</div>"
            ],
            "text/plain": [
              "             Price  Prev day Price  Price Change in One day  5 day % return\n",
              "Date                                                                       \n",
              "2017-08-15  171.00             NaN                      NaN             NaN\n",
              "2017-08-16  170.00          171.00                    -1.00             NaN\n",
              "2017-08-17  166.91          170.00                    -3.09             NaN\n",
              "2017-08-18  167.41          166.91                     0.50             NaN\n",
              "2017-08-21  167.78          167.41                     0.37             NaN\n",
              "2017-08-22  169.64          167.78                     1.86       -0.795322\n",
              "2017-08-23  168.71          169.64                    -0.93       -0.758824\n",
              "2017-08-24  167.74          168.71                    -0.97        0.497274\n",
              "2017-08-25  166.32          167.74                    -1.42       -0.651096\n",
              "2017-08-28  167.24          166.32                     0.92       -0.321850"
            ]
          },
          "metadata": {},
          "execution_count": 10
        }
      ]
    },
    {
      "cell_type": "markdown",
      "metadata": {
        "id": "iod3d1en24sG"
      },
      "source": [
        "We can shift time also"
      ]
    },
    {
      "cell_type": "code",
      "metadata": {
        "id": "RCfATfID2UdJ",
        "outputId": "ac339472-afe3-43f6-88c1-e0e28a3df805",
        "colab": {
          "base_uri": "https://localhost:8080/",
          "height": 390
        }
      },
      "source": [
        "df =df[[\"Price\"]]\n",
        "df"
      ],
      "execution_count": 11,
      "outputs": [
        {
          "output_type": "execute_result",
          "data": {
            "text/html": [
              "<div>\n",
              "<style scoped>\n",
              "    .dataframe tbody tr th:only-of-type {\n",
              "        vertical-align: middle;\n",
              "    }\n",
              "\n",
              "    .dataframe tbody tr th {\n",
              "        vertical-align: top;\n",
              "    }\n",
              "\n",
              "    .dataframe thead th {\n",
              "        text-align: right;\n",
              "    }\n",
              "</style>\n",
              "<table border=\"1\" class=\"dataframe\">\n",
              "  <thead>\n",
              "    <tr style=\"text-align: right;\">\n",
              "      <th></th>\n",
              "      <th>Price</th>\n",
              "    </tr>\n",
              "    <tr>\n",
              "      <th>Date</th>\n",
              "      <th></th>\n",
              "    </tr>\n",
              "  </thead>\n",
              "  <tbody>\n",
              "    <tr>\n",
              "      <th>2017-08-15</th>\n",
              "      <td>171.00</td>\n",
              "    </tr>\n",
              "    <tr>\n",
              "      <th>2017-08-16</th>\n",
              "      <td>170.00</td>\n",
              "    </tr>\n",
              "    <tr>\n",
              "      <th>2017-08-17</th>\n",
              "      <td>166.91</td>\n",
              "    </tr>\n",
              "    <tr>\n",
              "      <th>2017-08-18</th>\n",
              "      <td>167.41</td>\n",
              "    </tr>\n",
              "    <tr>\n",
              "      <th>2017-08-21</th>\n",
              "      <td>167.78</td>\n",
              "    </tr>\n",
              "    <tr>\n",
              "      <th>2017-08-22</th>\n",
              "      <td>169.64</td>\n",
              "    </tr>\n",
              "    <tr>\n",
              "      <th>2017-08-23</th>\n",
              "      <td>168.71</td>\n",
              "    </tr>\n",
              "    <tr>\n",
              "      <th>2017-08-24</th>\n",
              "      <td>167.74</td>\n",
              "    </tr>\n",
              "    <tr>\n",
              "      <th>2017-08-25</th>\n",
              "      <td>166.32</td>\n",
              "    </tr>\n",
              "    <tr>\n",
              "      <th>2017-08-28</th>\n",
              "      <td>167.24</td>\n",
              "    </tr>\n",
              "  </tbody>\n",
              "</table>\n",
              "</div>"
            ],
            "text/plain": [
              "             Price\n",
              "Date              \n",
              "2017-08-15  171.00\n",
              "2017-08-16  170.00\n",
              "2017-08-17  166.91\n",
              "2017-08-18  167.41\n",
              "2017-08-21  167.78\n",
              "2017-08-22  169.64\n",
              "2017-08-23  168.71\n",
              "2017-08-24  167.74\n",
              "2017-08-25  166.32\n",
              "2017-08-28  167.24"
            ]
          },
          "metadata": {},
          "execution_count": 11
        }
      ]
    },
    {
      "cell_type": "code",
      "metadata": {
        "id": "b8V4QuIq29T1",
        "outputId": "babcf1a2-4b06-47d0-ba91-7f84a91d78b1",
        "colab": {
          "base_uri": "https://localhost:8080/"
        }
      },
      "source": [
        "df.index   "
      ],
      "execution_count": 12,
      "outputs": [
        {
          "output_type": "execute_result",
          "data": {
            "text/plain": [
              "DatetimeIndex(['2017-08-15', '2017-08-16', '2017-08-17', '2017-08-18',\n",
              "               '2017-08-21', '2017-08-22', '2017-08-23', '2017-08-24',\n",
              "               '2017-08-25', '2017-08-28'],\n",
              "              dtype='datetime64[ns]', name='Date', freq=None)"
            ]
          },
          "metadata": {},
          "execution_count": 12
        }
      ]
    },
    {
      "cell_type": "markdown",
      "metadata": {
        "id": "C50zrHFy3DNc"
      },
      "source": [
        "Right now index is none for shifting operation we have to create a meaningful frequency"
      ]
    },
    {
      "cell_type": "code",
      "metadata": {
        "id": "L7nCQanK2_4T",
        "outputId": "1d5ef4f1-1bfe-4fdf-9e41-94883b24a3b6",
        "colab": {
          "base_uri": "https://localhost:8080/"
        }
      },
      "source": [
        "df.index = pd.date_range(start='2017-08-15', periods=len(df),freq='B')\n",
        "df.index"
      ],
      "execution_count": 13,
      "outputs": [
        {
          "output_type": "execute_result",
          "data": {
            "text/plain": [
              "DatetimeIndex(['2017-08-15', '2017-08-16', '2017-08-17', '2017-08-18',\n",
              "               '2017-08-21', '2017-08-22', '2017-08-23', '2017-08-24',\n",
              "               '2017-08-25', '2017-08-28'],\n",
              "              dtype='datetime64[ns]', freq='B')"
            ]
          },
          "metadata": {},
          "execution_count": 13
        }
      ]
    },
    {
      "cell_type": "code",
      "metadata": {
        "id": "7U5CFZqi3XMI",
        "outputId": "25ecf11c-a870-49c0-b8f2-e0fdff299ed7",
        "colab": {
          "base_uri": "https://localhost:8080/",
          "height": 413
        }
      },
      "source": [
        "df.tshift(1)  # shifted the date by 1"
      ],
      "execution_count": 17,
      "outputs": [
        {
          "output_type": "stream",
          "name": "stderr",
          "text": [
            "/usr/local/lib/python3.7/dist-packages/ipykernel_launcher.py:1: FutureWarning: tshift is deprecated and will be removed in a future version. Please use shift instead.\n",
            "  \"\"\"Entry point for launching an IPython kernel.\n"
          ]
        },
        {
          "output_type": "execute_result",
          "data": {
            "text/html": [
              "<div>\n",
              "<style scoped>\n",
              "    .dataframe tbody tr th:only-of-type {\n",
              "        vertical-align: middle;\n",
              "    }\n",
              "\n",
              "    .dataframe tbody tr th {\n",
              "        vertical-align: top;\n",
              "    }\n",
              "\n",
              "    .dataframe thead th {\n",
              "        text-align: right;\n",
              "    }\n",
              "</style>\n",
              "<table border=\"1\" class=\"dataframe\">\n",
              "  <thead>\n",
              "    <tr style=\"text-align: right;\">\n",
              "      <th></th>\n",
              "      <th>Price</th>\n",
              "    </tr>\n",
              "  </thead>\n",
              "  <tbody>\n",
              "    <tr>\n",
              "      <th>2017-08-16</th>\n",
              "      <td>171.00</td>\n",
              "    </tr>\n",
              "    <tr>\n",
              "      <th>2017-08-17</th>\n",
              "      <td>170.00</td>\n",
              "    </tr>\n",
              "    <tr>\n",
              "      <th>2017-08-18</th>\n",
              "      <td>166.91</td>\n",
              "    </tr>\n",
              "    <tr>\n",
              "      <th>2017-08-21</th>\n",
              "      <td>167.41</td>\n",
              "    </tr>\n",
              "    <tr>\n",
              "      <th>2017-08-22</th>\n",
              "      <td>167.78</td>\n",
              "    </tr>\n",
              "    <tr>\n",
              "      <th>2017-08-23</th>\n",
              "      <td>169.64</td>\n",
              "    </tr>\n",
              "    <tr>\n",
              "      <th>2017-08-24</th>\n",
              "      <td>168.71</td>\n",
              "    </tr>\n",
              "    <tr>\n",
              "      <th>2017-08-25</th>\n",
              "      <td>167.74</td>\n",
              "    </tr>\n",
              "    <tr>\n",
              "      <th>2017-08-28</th>\n",
              "      <td>166.32</td>\n",
              "    </tr>\n",
              "    <tr>\n",
              "      <th>2017-08-29</th>\n",
              "      <td>167.24</td>\n",
              "    </tr>\n",
              "  </tbody>\n",
              "</table>\n",
              "</div>"
            ],
            "text/plain": [
              "             Price\n",
              "2017-08-16  171.00\n",
              "2017-08-17  170.00\n",
              "2017-08-18  166.91\n",
              "2017-08-21  167.41\n",
              "2017-08-22  167.78\n",
              "2017-08-23  169.64\n",
              "2017-08-24  168.71\n",
              "2017-08-25  167.74\n",
              "2017-08-28  166.32\n",
              "2017-08-29  167.24"
            ]
          },
          "metadata": {},
          "execution_count": 17
        }
      ]
    },
    {
      "cell_type": "markdown",
      "metadata": {
        "id": "g5uswwU_3w5C"
      },
      "source": [
        "### Handel large datasets in Pandas | Memory management\n",
        "\n",
        "https://pythonspeed.com/articles/pandas-load-less-data/"
      ]
    },
    {
      "cell_type": "code",
      "metadata": {
        "id": "YrpFE3C23au5"
      },
      "source": [
        ""
      ],
      "execution_count": null,
      "outputs": []
    }
  ]
}